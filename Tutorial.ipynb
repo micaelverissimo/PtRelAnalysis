{
 "cells": [
  {
   "cell_type": "code",
   "execution_count": 3,
   "metadata": {
    "collapsed": false
   },
   "outputs": [
    {
     "name": "stdout",
     "output_type": "stream",
     "text": [
      "Matrix:  [[60.844, 54.66, 60.053, 41.987, 60.312, 60.621], [61.02, 106.725, 164.265, 98.093, 67.069, 95.558]]\n"
     ]
    },
    {
     "data": {
      "image/png": "[encoded data removed]",
      "text/plain": [
       "<ROOT.TCanvas object (\"c1\") at 0x37322a0>"
      ]
     },
     "execution_count": 3,
     "metadata": {},
     "output_type": "execute_result"
    }
   ],
   "source": [
    "import ROOT\n",
    "from NeuralNetwork import MultiLayerPerceptron as mlp\n",
    "from functions import HistogramFunctions,AuxiliarFunctions,FigureFunctions,FitFunctions,rootnotes\n",
    "\n",
    "ROOT.gROOT.Reset()\n",
    "ROOT.gStyle.SetOptStat(0)\n",
    "\n",
    "nrEvents = 5\n",
    "\n",
    "output = \"/home/isabella/Workspace/python/PtRelAnalysis/PtRelAnalysis/Results\"\n",
    "\n",
    "data_input = \"/home/isabella/Workspace/Adrian2015/Public/WH/output/local/readPaul_1_0_J1Pt45+2BTag+TruthGENWZ+Clean_1_perevent+perjet/lvbb125.root\"\n",
    "treeName = \"perevent\"\n",
    "\n",
    "file = ROOT.TFile(data_input,\"READ\")\n",
    "tree = file.Get(treeName)\n",
    "\n",
    "# for histograms\n",
    "bins = 60\n",
    "m_max = 300\n",
    "m_min = 0\n",
    "\n",
    "ylabel = \"Occurrences\"\n",
    "\n",
    "list_inf = []\n",
    "list_color = []\n",
    "\n",
    "hist_inf = HistogramFunctions.OneDimHistInfo(\"Relative Pt\",\"h_ptrel\",bins,m_min,m_max,\"Relative Pt\",ylabel)\n",
    "list_inf.append(hist_inf)\n",
    "list_color.append(ROOT.kRed)\n",
    "\n",
    "hist_inf = HistogramFunctions.OneDimHistInfo(\"Transverse Momentum\",\"h_pt\",bins,m_min,m_max,\"Transverse Momentum\",ylabel)\n",
    "list_inf.append(hist_inf)\n",
    "list_color.append(ROOT.kGreen)\n",
    "\n",
    "list_hist_test = HistogramFunctions.CreateListOf1DHistograms(list_inf,list_color)\n",
    "# end\n",
    "\n",
    "# making list for create an input to a NN\n",
    "list_val = []\n",
    "list_ptrel = []\n",
    "list_pt = []\n",
    "# end\n",
    "\n",
    "# simple histogram\n",
    "ptRel = ROOT.TH1F(\"ptRel\", \"ptRel\", 60, 0, 300)\n",
    "\n",
    "for (i,entry) in enumerate(tree):\n",
    "    if nrEvents>0:\n",
    "        if i>nrEvents:\n",
    "            continue\n",
    "    # variables for j1.     \n",
    "    E1 = tree.j1_GENWZ_E\n",
    "    Eta1 = tree.j1_GENWZ_Eta\n",
    "    Phi1 = tree.j1_GENWZ_Phi\n",
    "    Pt1 = tree.j1_GENWZ_Pt\n",
    "    \n",
    "    Theta1 = AuxiliarFunctions.theta(Eta1)\n",
    "    Comp1 = AuxiliarFunctions.Componets(E1,Eta1,Phi1,Theta1)\n",
    "    norm1 = AuxiliarFunctions.norm(Comp1)\n",
    "    \n",
    "    # variables for j2.     \n",
    "    E2 = tree.j2_GENWZ_E\n",
    "    Eta2 = tree.j2_GENWZ_Eta\n",
    "    Phi2 = tree.j2_GENWZ_Phi\n",
    "    Pt2 = tree.j2_GENWZ_Pt\n",
    "    \n",
    "    Theta2 = AuxiliarFunctions.theta(Eta2)\n",
    "    Comp2 = AuxiliarFunctions.Componets(E2,Eta2,Phi2,Theta2)\n",
    "    norm2 = AuxiliarFunctions.norm(Comp2)\n",
    "    \n",
    "    # sum of components.\n",
    "    Comp3 = AuxiliarFunctions.somaComponents(Comp1,Comp2)\n",
    "    norm3 = AuxiliarFunctions.norm(Comp3)\n",
    "    numerador1 = AuxiliarFunctions.numerador(Comp1,Comp3)\n",
    "    \n",
    "    angle1 = AuxiliarFunctions.alpha(numerador1,norm1,norm3)\n",
    "    \n",
    "    #compute Relative Pt\n",
    "    ptrel_j1 = AuxiliarFunctions.PtRelative(E1,angle1)\n",
    "    \n",
    "    #fill list with variables\n",
    "    list_ptrel.append(round(ptrel_j1,3))\n",
    "    list_pt.append(round(Pt1,3))\n",
    "    \n",
    "    #fill histograms\n",
    "    list_hist_test[0].Fill(ptrel_j1)\n",
    "    list_hist_test[1].Fill(Pt1)\n",
    "    ptRel.Fill(ptrel_j1)\n",
    "\n",
    "list_val.append(list_ptrel)\n",
    "list_val.append(list_pt)\n",
    "\n",
    "HistogramFunctions.Draw1DHists(list_hist_test,output)\n",
    "\n",
    "\n",
    "print \"Matrix: \", list_val\n",
    "#print \"Result\", list_hist_test[0]\n",
    "\n",
    "# to draw histogram\n",
    "c1 = rootnotes.canvas(\"c1\", (600, 400))\n",
    "ptRel.Draw()\n",
    "c1  "
   ]
  }
 ],
 "metadata": {
  "kernelspec": {
   "display_name": "Python 2",
   "language": "python",
   "name": "python2"
  },
  "language_info": {
   "codemirror_mode": {
    "name": "ipython",
    "version": 2
   },
   "file_extension": ".py",
   "mimetype": "text/x-python",
   "name": "python",
   "nbconvert_exporter": "python",
   "pygments_lexer": "ipython2",
   "version": "2.7.6"
  }
 },
 "nbformat": 4,
 "nbformat_minor": 0
}
