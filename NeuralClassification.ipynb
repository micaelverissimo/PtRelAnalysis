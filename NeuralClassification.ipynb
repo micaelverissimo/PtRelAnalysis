{
 "cells": [
  {
   "cell_type": "code",
   "execution_count": 3,
   "metadata": {
    "collapsed": false
   },
   "outputs": [
    {
     "name": "stdout",
     "output_type": "stream",
     "text": [
      "Time to import libraries: 4.240 seconds\n"
     ]
    }
   ],
   "source": [
    "# Import Libs\n",
    "import time\n",
    "init_time = time.time()\n",
    "\n",
    "import os\n",
    "import pickle\n",
    "import numpy as np\n",
    "import ROOT\n",
    "\n",
    "from functions import HistogramFunctions,AuxiliarFunctions,FigureFunctions,FitFunctions,rootnotes\n",
    "\n",
    "import matplotlib.pyplot as plt\n",
    "%matplotlib inline\n",
    "\n",
    "plt.rcParams['lines.linewidth'] = 2\n",
    "plt.rcParams['legend.handlelength'] = 3\n",
    "plt.rcParams['legend.borderpad'] = 0.3\n",
    "plt.rcParams['legend.numpoints'] = 1\n",
    "plt.rcParams['xtick.labelsize'] = 18\n",
    "plt.rcParams['font.weight'] = 'bold'\n",
    "plt.rcParams['ytick.labelsize'] = 20\n",
    "\n",
    "current_time = time.time()\n",
    "print 'Time to import libraries: %1.3f seconds'%(current_time-init_time)\n"
   ]
  },
  {
   "cell_type": "code",
   "execution_count": 2,
   "metadata": {
    "collapsed": false
   },
   "outputs": [
    {
     "name": "stderr",
     "output_type": "stream",
     "text": [
      "Using Theano backend.\n"
     ]
    },
    {
     "ename": "AttributeError",
     "evalue": "'module' object has no attribute 'load_is'",
     "output_type": "error",
     "traceback": [
      "\u001b[0;31m---------------------------------------------------------------------------\u001b[0m",
      "\u001b[0;31mAttributeError\u001b[0m                            Traceback (most recent call last)",
      "\u001b[0;32m<ipython-input-2-2633a105ce2f>\u001b[0m in \u001b[0;36m<module>\u001b[0;34m()\u001b[0m\n\u001b[1;32m      7\u001b[0m \u001b[0;34m\u001b[0m\u001b[0m\n\u001b[1;32m      8\u001b[0m \u001b[0;31m# import some data to play with\u001b[0m\u001b[0;34m\u001b[0m\u001b[0;34m\u001b[0m\u001b[0m\n\u001b[0;32m----> 9\u001b[0;31m \u001b[0misa\u001b[0m \u001b[0;34m=\u001b[0m \u001b[0mdatasets\u001b[0m\u001b[0;34m.\u001b[0m\u001b[0mload_is\u001b[0m\u001b[0;34m(\u001b[0m\u001b[0;34m)\u001b[0m\u001b[0;34m\u001b[0m\u001b[0m\n\u001b[0m\u001b[1;32m     10\u001b[0m \u001b[0mdata\u001b[0m \u001b[0;34m=\u001b[0m \u001b[0misa\u001b[0m\u001b[0;34m.\u001b[0m\u001b[0mdata\u001b[0m \u001b[0;31m# data\u001b[0m\u001b[0;34m\u001b[0m\u001b[0m\n\u001b[1;32m     11\u001b[0m \u001b[0mtrgt\u001b[0m \u001b[0;34m=\u001b[0m \u001b[0misa\u001b[0m\u001b[0;34m.\u001b[0m\u001b[0mtarget\u001b[0m \u001b[0;31m# data\u001b[0m\u001b[0;34m\u001b[0m\u001b[0m\n",
      "\u001b[0;31mAttributeError\u001b[0m: 'module' object has no attribute 'load_is'"
     ]
    }
   ],
   "source": [
    "# Read Data\n",
    "\n",
    "from keras.utils import np_utils\n",
    "\n",
    "init_time = time.time()\n",
    "\n",
    "from sklearn import datasets\n",
    "\n",
    "processes = \"lvbb125\"\n",
    "output = \"/home/isabella/Workspace/python/PtRelAnalysis/PtRelAnalysis/Results/DataFiles\"\n",
    "\n",
    "# import some data to play with\n",
    "\n",
    "signal = np.load(output+\"/\"+\"lvbb125Array.npy\") \n",
    "trgt = data.target # lvbb data\n",
    "data_colors = ['b','r']\n",
    "data_labels = ['signal','background']\n",
    "\n",
    "# for classification -> target max sparse\n",
    "trgt_sparse = np_utils.to_categorical(trgt)\n",
    "\n",
    "current_time = time.time()\n",
    "print 'Time to import data: %1.3f seconds'%(current_time-init_time)"
   ]
  }
 ],
 "metadata": {
  "kernelspec": {
   "display_name": "Python 2",
   "language": "python",
   "name": "python2"
  },
  "language_info": {
   "codemirror_mode": {
    "name": "ipython",
    "version": 2
   },
   "file_extension": ".py",
   "mimetype": "text/x-python",
   "name": "python",
   "nbconvert_exporter": "python",
   "pygments_lexer": "ipython2",
   "version": "2.7.6"
  }
 },
 "nbformat": 4,
 "nbformat_minor": 1
}
