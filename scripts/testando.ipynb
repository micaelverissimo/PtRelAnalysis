{
 "cells": [
  {
   "cell_type": "code",
   "execution_count": 3,
   "metadata": {
    "collapsed": false
   },
   "outputs": [
    {
     "ename": "NameError",
     "evalue": "global name 'math' is not defined",
     "output_type": "error",
     "traceback": [
      "\u001b[1;31m---------------------------------------------------------------------------\u001b[0m",
      "\u001b[1;31mNameError\u001b[0m                                 Traceback (most recent call last)",
      "\u001b[1;32m<ipython-input-3-1d5888a55cf1>\u001b[0m in \u001b[0;36m<module>\u001b[1;34m()\u001b[0m\n\u001b[0;32m     38\u001b[0m     \u001b[0mPt1\u001b[0m \u001b[1;33m=\u001b[0m \u001b[0mtree\u001b[0m\u001b[1;33m.\u001b[0m\u001b[0mj1_GENWZ_Pt\u001b[0m\u001b[1;33m\u001b[0m\u001b[0m\n\u001b[0;32m     39\u001b[0m \u001b[1;33m\u001b[0m\u001b[0m\n\u001b[1;32m---> 40\u001b[1;33m     \u001b[0mTheta1\u001b[0m \u001b[1;33m=\u001b[0m \u001b[0mAuxiliarFunctions\u001b[0m\u001b[1;33m.\u001b[0m\u001b[0mtheta\u001b[0m\u001b[1;33m(\u001b[0m\u001b[0mEta1\u001b[0m\u001b[1;33m)\u001b[0m\u001b[1;33m\u001b[0m\u001b[0m\n\u001b[0m\u001b[0;32m     41\u001b[0m     \u001b[0mComp1\u001b[0m \u001b[1;33m=\u001b[0m \u001b[0mAuxiliarFunctions\u001b[0m\u001b[1;33m.\u001b[0m\u001b[0mComponents\u001b[0m\u001b[1;33m(\u001b[0m\u001b[0mE1\u001b[0m\u001b[1;33m,\u001b[0m\u001b[0mEta1\u001b[0m\u001b[1;33m,\u001b[0m\u001b[0mPhi1\u001b[0m\u001b[1;33m,\u001b[0m\u001b[0mTheta1\u001b[0m\u001b[1;33m)\u001b[0m\u001b[1;33m\u001b[0m\u001b[0m\n\u001b[0;32m     42\u001b[0m \u001b[1;33m\u001b[0m\u001b[0m\n",
      "\u001b[1;32m/home/isabella/Workspace/python/PtRelAnalysis/PtRelAnalysis/functions/AuxiliarFunctions.pyc\u001b[0m in \u001b[0;36mtheta\u001b[1;34m(Eta)\u001b[0m\n\u001b[0;32m      6\u001b[0m \u001b[1;33m\u001b[0m\u001b[0m\n\u001b[0;32m      7\u001b[0m \u001b[1;32mdef\u001b[0m \u001b[0mtheta\u001b[0m\u001b[1;33m(\u001b[0m\u001b[0mEta\u001b[0m\u001b[1;33m)\u001b[0m\u001b[1;33m:\u001b[0m\u001b[1;33m\u001b[0m\u001b[0m\n\u001b[1;32m----> 8\u001b[1;33m     \u001b[0mtheta\u001b[0m \u001b[1;33m=\u001b[0m \u001b[1;36m2\u001b[0m\u001b[1;33m*\u001b[0m\u001b[1;33m(\u001b[0m\u001b[0mmath\u001b[0m\u001b[1;33m.\u001b[0m\u001b[0matan\u001b[0m\u001b[1;33m(\u001b[0m\u001b[0mpow\u001b[0m\u001b[1;33m(\u001b[0m\u001b[0mmath\u001b[0m\u001b[1;33m.\u001b[0m\u001b[0me\u001b[0m\u001b[1;33m,\u001b[0m\u001b[1;33m-\u001b[0m\u001b[0mEta\u001b[0m\u001b[1;33m)\u001b[0m\u001b[1;33m)\u001b[0m\u001b[1;33m)\u001b[0m\u001b[1;33m\u001b[0m\u001b[0m\n\u001b[0m\u001b[0;32m      9\u001b[0m     \u001b[1;32mreturn\u001b[0m \u001b[0mtheta\u001b[0m\u001b[1;33m\u001b[0m\u001b[0m\n\u001b[0;32m     10\u001b[0m \u001b[1;33m\u001b[0m\u001b[0m\n",
      "\u001b[1;31mNameError\u001b[0m: global name 'math' is not defined"
     ]
    }
   ],
   "source": [
    "import ROOT\n",
    "from NeuralNetwork import MultiLayerPerceptron as mlp\n",
    "from functions import AuxiliarFunctions\n",
    "\n",
    "nrEvents = 5\n",
    "\n",
    "data_input = \"/home/isabella/Workspace/Adrian2015/Public/WH/output/local/readPaul_1_0_J1Pt45+2BTag+TruthGENWZ+Clean_1_perevent+perjet/lvbb125.root\"\n",
    "treeName = \"perevent\"\n",
    "\n",
    "file = ROOT.TFile(data_input,\"READ\")\n",
    "tree = file.Get(str(treeName))\n",
    "\n",
    "#tree.SetBranchStatus(\"*\",0);\n",
    "# j1\n",
    "#tree.SetBranchStatus(\"j1_GENWZ_E\",1);\n",
    "#tree.SetBranchStatus(\"j1_GENWZ_Pt\",1);\n",
    "#tree.SetBranchStatus(\"j1_GENWZ_Eta\",1);\n",
    "#tree.SetBranchStatus(\"j1_GENWZ_Phi\",1);\n",
    "# j2\n",
    "#tree.SetBranchStatus(\"j2_GENWZ_E\",1);\n",
    "#tree.SetBranchStatus(\"j2_GENWZ_Pt\",1);\n",
    "#tree.SetBranchStatus(\"j2_GENWZ_Eta\",1);\n",
    "#tree.SetBranchStatus(\"j2_GENWZ_Phi\",1);\n",
    "\n",
    "\n",
    "list_val = []\n",
    "list_ptrel = []\n",
    "list_pt = []\n",
    "\n",
    "for (i,entry) in enumerate(tree):\n",
    "    if nrEvents>0:\n",
    "        if i>nrEvents:\n",
    "            continue\n",
    "    # variables for j1     \n",
    "    E1 = tree.j1_GENWZ_E\n",
    "    Eta1 = tree.j1_GENWZ_Eta\n",
    "    Phi1 = tree.j1_GENWZ_Phi\n",
    "    Pt1 = tree.j1_GENWZ_Pt\n",
    "    \n",
    "    Theta1 = AuxiliarFunctions.theta(Eta1)\n",
    "    Comp1 = AuxiliarFunctions.Components(E1,Eta1,Phi1,Theta1)\n",
    "    \n",
    "    print \"Here go!\"\n",
    "    "
   ]
  }
 ],
 "metadata": {
  "kernelspec": {
   "display_name": "Python 2",
   "language": "python",
   "name": "python2"
  },
  "language_info": {
   "codemirror_mode": {
    "name": "ipython",
    "version": 2
   },
   "file_extension": ".py",
   "mimetype": "text/x-python",
   "name": "python",
   "nbconvert_exporter": "python",
   "pygments_lexer": "ipython2",
   "version": "2.7.6"
  }
 },
 "nbformat": 4,
 "nbformat_minor": 0
}
