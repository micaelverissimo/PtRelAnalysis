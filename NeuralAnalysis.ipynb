{
 "cells": [
  {
   "cell_type": "code",
   "execution_count": 1,
   "metadata": {
    "collapsed": true
   },
   "outputs": [],
   "source": [
    "# Import all library.\n",
    "\n",
    "import ROOT\n",
    "import numpy as np\n",
    "import matplotlib.pyplot as plt\n",
    "from functions import HistogramFunctions,AuxiliarFunctions,FigureFunctions,FitFunctions,rootnotes"
   ]
  },
  {
   "cell_type": "code",
   "execution_count": null,
   "metadata": {
    "collapsed": false
   },
   "outputs": [],
   "source": [
    "#Use ROOT in order to make txt file with selected variables\n",
    "processes = \"lvbb125,TTbar,Wbb,Wbl,Wll,Wcl,Wcc,WW,WZ,ZZ\"\n",
    "#processes = \"ZZ\"\n",
    "output = \"/home/isabella/Workspace/python/PtRelAnalysis/PtRelAnalysis/Results/TxtFiles\"\n",
    "\n",
    "data_path = \"/home/isabella/Workspace/Adrian2015/Public/WH/output/local/readPaul_1_0_J1Pt45+2BTag+TruthGENWZ+Clean_1_perevent+perjet\"\n",
    "\n",
    "#nrEvents = 10\n",
    "\n",
    "#ylabel = \"Occurrences\"\n",
    "\n",
    "\n",
    "for process in processes.split(\",\"):\n",
    "    data_input = data_path+\"/\"+process+\".root\"\n",
    "    treeName = \"perevent\"\n",
    "    file = ROOT.TFile(data_input,\"READ\")\n",
    "    tree = file.Get(treeName)\n",
    "    nrEvents = tree.GetEntries()\n",
    "\n",
    "    text_file = open(output+\"/\"+\"TxtFile_\"+process+\".txt\", \"w\")\n",
    "\n",
    "    for (i,entry) in enumerate(tree):\n",
    "        if nrEvents>0:\n",
    "            if i>nrEvents:\n",
    "                break\n",
    "    \n",
    "        #=============================================================================\n",
    "        #=======================EMJESGSCMu========================================\n",
    "        # variables for EMJESGSCMu j1.     \n",
    "        E1_EMJESGSCMu = tree.j1_EMJESGSCMu_E\n",
    "        Phi1_EMJESGSCMu = tree.j1_EMJESGSCMu_Phi\n",
    "        Eta1_EMJESGSCMu = tree.j1_EMJESGSCMu_Eta\n",
    "        Pt1_EMJESGSCMu = tree.j1_EMJESGSCMu_Pt\n",
    "    \n",
    "        # variables for EMJESGSCMu j2.     \n",
    "        E2_EMJESGSCMu = tree.j2_EMJESGSCMu_E\n",
    "        Phi2_EMJESGSCMu = tree.j2_EMJESGSCMu_Phi\n",
    "        Eta2_EMJESGSCMu = tree.j2_EMJESGSCMu_Eta\n",
    "        Pt2_EMJESGSCMu = tree.j2_EMJESGSCMu_Pt\n",
    "    \n",
    "        # PtRel in EMJESGSCMu\n",
    "        Theta1_EMJESGSCMu = AuxiliarFunctions.theta(Eta1_EMJESGSCMu)\n",
    "        Comp1_EMJESGSCMu = AuxiliarFunctions.Componets(E1_EMJESGSCMu,Eta1_EMJESGSCMu,Phi1_EMJESGSCMu,Theta1_EMJESGSCMu)\n",
    "        norm1_EMJESGSCMu = AuxiliarFunctions.norm(Comp1_EMJESGSCMu)\n",
    "    \n",
    "        Theta2_EMJESGSCMu = AuxiliarFunctions.theta(Eta2_EMJESGSCMu)\n",
    "        Comp2_EMJESGSCMu = AuxiliarFunctions.Componets(E2_EMJESGSCMu,Eta2_EMJESGSCMu,Phi2_EMJESGSCMu,Theta2_EMJESGSCMu)\n",
    "        norm2_EMJESGCMu = AuxiliarFunctions.norm(Comp2_EMJESGSCMu)\n",
    "    \n",
    "        # sum of components.\n",
    "        Comp3_EMJESGSCMu = AuxiliarFunctions.somaComponents(Comp1_EMJESGSCMu,Comp2_EMJESGSCMu)\n",
    "        norm3_EMJESGSCMu = AuxiliarFunctions.norm(Comp3_EMJESGSCMu)\n",
    "        numerador1_EMJESGSCMu = AuxiliarFunctions.numerador(Comp1_EMJESGSCMu,Comp3_EMJESGSCMu)    \n",
    "        angle1_EMJESGSCMu = AuxiliarFunctions.alpha(numerador1_EMJESGSCMu,norm1_EMJESGSCMu,norm3_EMJESGSCMu)\n",
    "    \n",
    "        #compute Relative Pt\n",
    "        PtRel_j1_EMJESGSCMu = AuxiliarFunctions.PtRelative(E1_EMJESGSCMu,angle1_EMJESGSCMu)\n",
    "    \n",
    "        #==========================\n",
    "        #========Target===========\n",
    "    \n",
    "        #j1\n",
    "        Pt1_GENWZ = tree.j1_GENWZ_Pt\n",
    "        #j2\n",
    "        Pt2_GENWZ = tree.j2_GENWZ_Pt\n",
    "    \n",
    "        j1_FracEM3 = tree.j1_FracEM3\n",
    "        j1_FracTile0 = tree.j1_FracTile0\n",
    "        j1_TrkWidth = tree.j1_TrkWidth\n",
    "        j1_EMF = tree.j1_EMF\n",
    "        j1_JVF = tree.j1_JVF\n",
    "        j1_NTrk = tree.j1_NTrk \n",
    "        j1_SumPtTrk = tree.j1_SumPtTrk\n",
    "        # only for EM and j2.\n",
    "        j2_FracEM3 = tree.j2_FracEM3\n",
    "        j2_FracTile0 = tree.j2_FracTile0\n",
    "        j2_TrkWidth = tree.j2_TrkWidth\n",
    "        j2_EMF = tree.j2_EMF\n",
    "        j2_JVF = tree.j2_JVF\n",
    "        j2_NTrk = tree.j2_NTrk \n",
    "        j2_SumPtTrk = tree.j2_SumPtTrk\n",
    "    \n",
    "    \n",
    "    #Loop em python\n",
    "        #PT,ETA,PHI,E      1     2     3     4     5     6     7      8    9    10     11    12    13\n",
    "        text_file.write(\"%1.3f %1.3f %1.3f %1.3f %1.3f %1.3f %1.3f %1.3f %1.3f %1.3f %1.3f %1.3f %1.3f\\n\"%(j1_FracEM3, j1_FracTile0, j1_TrkWidth, j1_EMF, j1_JVF, j1_NTrk, j1_SumPtTrk, Pt1_EMJESGSCMu, Eta1_EMJESGSCMu, Phi1_EMJESGSCMu, E1_EMJESGSCMu, PtRel_j1_EMJESGSCMu, Pt1_GENWZ))\n",
    "        text_file.write(\"%1.3f %1.3f %1.3f %1.3f %1.3f %1.3f %1.3f %1.3f %1.3f %1.3f %1.3f %1.3f %1.3f\\n\"%(j2_FracEM3, j2_FracTile0, j2_TrkWidth, j2_EMF, j2_JVF, j2_NTrk, j2_SumPtTrk, Pt2_EMJESGSCMu, Eta2_EMJESGSCMu, Phi2_EMJESGSCMu, E2_EMJESGSCMu, PtRel_j1_EMJESGSCMu, Pt2_GENWZ))\n",
    "        \n",
    "        \n",
    "    text_file.close()\n",
    "    print \"Good! Txt done! \"+process+\"!\""
   ]
  },
  {
   "cell_type": "code",
   "execution_count": 2,
   "metadata": {
    "collapsed": true
   },
   "outputs": [],
   "source": [
    "# Using Txt file in order to make a correlative.\n",
    "\n",
    "data = '/home/isabella/Workspace/python/PtRelAnalysis/PtRelAnalysis/Results/TxtFiles/TxtFile_lvbb125.txt'"
   ]
  },
  {
   "cell_type": "code",
   "execution_count": 3,
   "metadata": {
    "collapsed": false
   },
   "outputs": [
    {
     "data": {
      "text/plain": [
       "array([[  1.00000000e-02,   0.00000000e+00,   1.70000000e-02, ...,\n",
       "          9.21870000e+01,   5.98100000e+01,   6.10200000e+01],\n",
       "       [  1.70000000e-02,   1.13000000e-01,   9.50000000e-02, ...,\n",
       "          1.07602000e+02,   5.98100000e+01,   6.44650000e+01],\n",
       "       [  9.00000000e-03,   0.00000000e+00,   9.00000000e-03, ...,\n",
       "          3.70011000e+02,   4.97770000e+01,   1.06725000e+02],\n",
       "       ..., \n",
       "       [  1.60000000e-02,   5.00000000e-03,   2.30000000e-02, ...,\n",
       "          3.86260000e+01,   3.57540000e+01,   3.39020000e+01],\n",
       "       [  1.40000000e-02,   1.22000000e-01,   4.60000000e-02, ...,\n",
       "          1.07293000e+02,   5.50990000e+01,   9.68780000e+01],\n",
       "       [  1.60000000e-02,   4.80000000e-02,   1.20000000e-01, ...,\n",
       "          6.82100000e+01,   5.50990000e+01,   5.35120000e+01]])"
      ]
     },
     "execution_count": 3,
     "metadata": {},
     "output_type": "execute_result"
    }
   ],
   "source": [
    "# Import a Matrix with variables from txt file using numpy\n",
    "\n",
    "f = open(data,'r')\n",
    "\n",
    "M = np.loadtxt(data)\n",
    "\n",
    "#AutCor = np.corrcoef(M,rowvar=0)\n",
    "\n",
    "#plt.acorr(M)\n",
    "M\n"
   ]
  },
  {
   "cell_type": "code",
   "execution_count": 9,
   "metadata": {
    "collapsed": false
   },
   "outputs": [
    {
     "data": {
      "text/plain": [
       "(191100, 13)"
      ]
     },
     "execution_count": 9,
     "metadata": {},
     "output_type": "execute_result"
    }
   ],
   "source": [
    "M.shape"
   ]
  },
  {
   "cell_type": "code",
   "execution_count": null,
   "metadata": {
    "collapsed": true
   },
   "outputs": [],
   "source": []
  },
  {
   "cell_type": "code",
   "execution_count": 28,
   "metadata": {
    "collapsed": false
   },
   "outputs": [
    {
     "ename": "MemoryError",
     "evalue": "",
     "output_type": "error",
     "traceback": [
      "\u001b[0;31m---------------------------------------------------------------------------\u001b[0m",
      "\u001b[0;31mMemoryError\u001b[0m                               Traceback (most recent call last)",
      "\u001b[0;32m<ipython-input-28-940264c2e86b>\u001b[0m in \u001b[0;36m<module>\u001b[0;34m()\u001b[0m\n\u001b[0;32m----> 1\u001b[0;31m \u001b[0mAutCor\u001b[0m \u001b[0;34m=\u001b[0m \u001b[0mnp\u001b[0m\u001b[0;34m.\u001b[0m\u001b[0mcorrcoef\u001b[0m\u001b[0;34m(\u001b[0m\u001b[0mM\u001b[0m\u001b[0;34m)\u001b[0m\u001b[0;34m\u001b[0m\u001b[0m\n\u001b[0m\u001b[1;32m      2\u001b[0m \u001b[0mAutCor\u001b[0m\u001b[0;34m\u001b[0m\u001b[0m\n",
      "\u001b[0;32m/home/isabella/.virtualenvs/pt_rel_analysis/local/lib/python2.7/site-packages/numpy/lib/function_base.pyc\u001b[0m in \u001b[0;36mcorrcoef\u001b[0;34m(x, y, rowvar, bias, ddof)\u001b[0m\n\u001b[1;32m   2559\u001b[0m         warnings.warn('bias and ddof have no effect and are deprecated',\n\u001b[1;32m   2560\u001b[0m                       DeprecationWarning)\n\u001b[0;32m-> 2561\u001b[0;31m     \u001b[0mc\u001b[0m \u001b[0;34m=\u001b[0m \u001b[0mcov\u001b[0m\u001b[0;34m(\u001b[0m\u001b[0mx\u001b[0m\u001b[0;34m,\u001b[0m \u001b[0my\u001b[0m\u001b[0;34m,\u001b[0m \u001b[0mrowvar\u001b[0m\u001b[0;34m)\u001b[0m\u001b[0;34m\u001b[0m\u001b[0m\n\u001b[0m\u001b[1;32m   2562\u001b[0m     \u001b[0;32mtry\u001b[0m\u001b[0;34m:\u001b[0m\u001b[0;34m\u001b[0m\u001b[0m\n\u001b[1;32m   2563\u001b[0m         \u001b[0md\u001b[0m \u001b[0;34m=\u001b[0m \u001b[0mdiag\u001b[0m\u001b[0;34m(\u001b[0m\u001b[0mc\u001b[0m\u001b[0;34m)\u001b[0m\u001b[0;34m\u001b[0m\u001b[0m\n",
      "\u001b[0;32m/home/isabella/.virtualenvs/pt_rel_analysis/local/lib/python2.7/site-packages/numpy/lib/function_base.pyc\u001b[0m in \u001b[0;36mcov\u001b[0;34m(m, y, rowvar, bias, ddof, fweights, aweights)\u001b[0m\n\u001b[1;32m   2493\u001b[0m     \u001b[0;32melse\u001b[0m\u001b[0;34m:\u001b[0m\u001b[0;34m\u001b[0m\u001b[0m\n\u001b[1;32m   2494\u001b[0m         \u001b[0mX_T\u001b[0m \u001b[0;34m=\u001b[0m \u001b[0;34m(\u001b[0m\u001b[0mX\u001b[0m\u001b[0;34m*\u001b[0m\u001b[0mw\u001b[0m\u001b[0;34m)\u001b[0m\u001b[0;34m.\u001b[0m\u001b[0mT\u001b[0m\u001b[0;34m\u001b[0m\u001b[0m\n\u001b[0;32m-> 2495\u001b[0;31m     \u001b[0mc\u001b[0m \u001b[0;34m=\u001b[0m \u001b[0mdot\u001b[0m\u001b[0;34m(\u001b[0m\u001b[0mX\u001b[0m\u001b[0;34m,\u001b[0m \u001b[0mX_T\u001b[0m\u001b[0;34m.\u001b[0m\u001b[0mconj\u001b[0m\u001b[0;34m(\u001b[0m\u001b[0;34m)\u001b[0m\u001b[0;34m)\u001b[0m\u001b[0;34m\u001b[0m\u001b[0m\n\u001b[0m\u001b[1;32m   2496\u001b[0m     \u001b[0mc\u001b[0m \u001b[0;34m*=\u001b[0m \u001b[0;36m1.\u001b[0m \u001b[0;34m/\u001b[0m \u001b[0mnp\u001b[0m\u001b[0;34m.\u001b[0m\u001b[0mfloat64\u001b[0m\u001b[0;34m(\u001b[0m\u001b[0mfact\u001b[0m\u001b[0;34m)\u001b[0m\u001b[0;34m\u001b[0m\u001b[0m\n\u001b[1;32m   2497\u001b[0m     \u001b[0;32mreturn\u001b[0m \u001b[0mc\u001b[0m\u001b[0;34m.\u001b[0m\u001b[0msqueeze\u001b[0m\u001b[0;34m(\u001b[0m\u001b[0;34m)\u001b[0m\u001b[0;34m\u001b[0m\u001b[0m\n",
      "\u001b[0;31mMemoryError\u001b[0m: "
     ]
    }
   ],
   "source": [
    "AutCor = np.corrcoef(M)\n",
    "AutCor"
   ]
  },
  {
   "cell_type": "code",
   "execution_count": 106,
   "metadata": {
    "collapsed": false
   },
   "outputs": [
    {
     "data": {
      "image/png": "[encoded data removed]",
      "text/plain": [
       "<matplotlib.figure.Figure at 0x7fc452e81250>"
      ]
     },
     "metadata": {},
     "output_type": "display_data"
    }
   ],
   "source": [
    "import matplotlib.pyplot as plt\n",
    "%matplotlib inline \n",
    "\n",
    "fig, ax = plt.subplots()\n",
    "heatmap = ax.pcolor(AutCor,cmap=plt.cm.RdPu,alpha=0.9)\n",
    "\n",
    "# Format\n",
    "fig = plt.gcf()\n",
    "fig.set_size_inches(13, 13)\n",
    "\n",
    "# turn off the frame\n",
    "ax.set_frame_on(False)\n",
    "\n",
    "# put the major ticks at the middle of each cell\n",
    "ax.set_yticks(np.arange(AutCor.shape[1])+0.5, minor=False)\n",
    "ax.set_xticks(np.arange(AutCor.shape[0])+0.5, minor=False)\n",
    "\n",
    "# want a more natural, table-like display\n",
    "#ax.invert_yaxis()\n",
    "#ax.xaxis.tick_top()\n",
    "\n",
    "labels = ['FracEM3', 'FracTile0', 'TrkWidth', 'EMF', 'JVF', 'NTrk', 'SumPtTrk', 'Pt_EMJESGSCMu', 'Eta_EMJESGSCMu', 'Phi_EMJESGSCMu', 'E_EMJESGSCMu', 'PtRel_EMJESGSCMu', 'Pt_GENWZ']\n",
    "\n",
    "\n",
    "#\n",
    "#plt.xticks(range(13))\n",
    "#plt.yticks(range(13))\n",
    "\n",
    "ax.set_xticklabels(labels)\n",
    "ax.set_yticklabels(labels)\n",
    "\n",
    "plt.xticks(rotation=90)\n",
    "\n",
    "ax.grid(False)\n",
    "\n",
    "# Turn off all the ticks\n",
    "ax = plt.gca()\n",
    "\n",
    "for t in ax.xaxis.get_major_ticks():\n",
    "    t.tick1On = False\n",
    "    t.tick2On = False\n",
    "for t in ax.yaxis.get_major_ticks():\n",
    "    t.tick1On = False\n",
    "    t.tick2On = False"
   ]
  },
  {
   "cell_type": "code",
   "execution_count": 29,
   "metadata": {
    "collapsed": false
   },
   "outputs": [
    {
     "ename": "ValueError",
     "evalue": "object too deep for desired array",
     "output_type": "error",
     "traceback": [
      "\u001b[0;31m---------------------------------------------------------------------------\u001b[0m",
      "\u001b[0;31mValueError\u001b[0m                                Traceback (most recent call last)",
      "\u001b[0;32m<ipython-input-29-66066327235d>\u001b[0m in \u001b[0;36m<module>\u001b[0;34m()\u001b[0m\n\u001b[0;32m----> 1\u001b[0;31m \u001b[0mCorr\u001b[0m \u001b[0;34m=\u001b[0m \u001b[0mnp\u001b[0m\u001b[0;34m.\u001b[0m\u001b[0mcorrelate\u001b[0m\u001b[0;34m(\u001b[0m\u001b[0mM\u001b[0m\u001b[0;34m,\u001b[0m\u001b[0mM\u001b[0m\u001b[0;34m)\u001b[0m\u001b[0;34m\u001b[0m\u001b[0m\n\u001b[0m",
      "\u001b[0;32m/home/isabella/.virtualenvs/pt_rel_analysis/local/lib/python2.7/site-packages/numpy/core/numeric.pyc\u001b[0m in \u001b[0;36mcorrelate\u001b[0;34m(a, v, mode)\u001b[0m\n\u001b[1;32m    914\u001b[0m     \"\"\"\n\u001b[1;32m    915\u001b[0m     \u001b[0mmode\u001b[0m \u001b[0;34m=\u001b[0m \u001b[0m_mode_from_name\u001b[0m\u001b[0;34m(\u001b[0m\u001b[0mmode\u001b[0m\u001b[0;34m)\u001b[0m\u001b[0;34m\u001b[0m\u001b[0m\n\u001b[0;32m--> 916\u001b[0;31m     \u001b[0;32mreturn\u001b[0m \u001b[0mmultiarray\u001b[0m\u001b[0;34m.\u001b[0m\u001b[0mcorrelate2\u001b[0m\u001b[0;34m(\u001b[0m\u001b[0ma\u001b[0m\u001b[0;34m,\u001b[0m \u001b[0mv\u001b[0m\u001b[0;34m,\u001b[0m \u001b[0mmode\u001b[0m\u001b[0;34m)\u001b[0m\u001b[0;34m\u001b[0m\u001b[0m\n\u001b[0m\u001b[1;32m    917\u001b[0m \u001b[0;34m\u001b[0m\u001b[0m\n\u001b[1;32m    918\u001b[0m \u001b[0;32mdef\u001b[0m \u001b[0mconvolve\u001b[0m\u001b[0;34m(\u001b[0m\u001b[0ma\u001b[0m\u001b[0;34m,\u001b[0m\u001b[0mv\u001b[0m\u001b[0;34m,\u001b[0m\u001b[0mmode\u001b[0m\u001b[0;34m=\u001b[0m\u001b[0;34m'full'\u001b[0m\u001b[0;34m)\u001b[0m\u001b[0;34m:\u001b[0m\u001b[0;34m\u001b[0m\u001b[0m\n",
      "\u001b[0;31mValueError\u001b[0m: object too deep for desired array"
     ]
    }
   ],
   "source": [
    "Corr = np.correlate(M,M)"
   ]
  }
 ],
 "metadata": {
  "kernelspec": {
   "display_name": "Python 2",
   "language": "python",
   "name": "python2"
  },
  "language_info": {
   "codemirror_mode": {
    "name": "ipython",
    "version": 2
   },
   "file_extension": ".py",
   "mimetype": "text/x-python",
   "name": "python",
   "nbconvert_exporter": "python",
   "pygments_lexer": "ipython2",
   "version": "2.7.6"
  }
 },
 "nbformat": 4,
 "nbformat_minor": 0
}
