{
 "cells": [
  {
   "cell_type": "code",
   "execution_count": null,
   "metadata": {
    "collapsed": true
   },
   "outputs": [],
   "source": [
    "# Authors: Isabella Silva Ferreira and Micael Veríssimo de Araújo\n",
    "# e-mails: (is_bella21@hotmail.com)    (micaelvero@hotmail.com)\n"
   ]
  },
  {
   "cell_type": "code",
   "execution_count": 1,
   "metadata": {
    "collapsed": false
   },
   "outputs": [
    {
     "name": "stdout",
     "output_type": "stream",
     "text": [
      "All Right!\n"
     ]
    },
    {
     "name": "stderr",
     "output_type": "stream",
     "text": [
      "Using Theano backend.\n"
     ]
    }
   ],
   "source": [
    "# Read data File and sapare the all the sets\n",
    "import os\n",
    "import pickle\n",
    "import numpy as np\n",
    "import time\n",
    "\n",
    "from sklearn.decomposition import PCA\n",
    "from sklearn.externals import joblib\n",
    "\n",
    "\n",
    "from sklearn import cross_validation\n",
    "from sklearn import preprocessing\n",
    "\n",
    "from keras.models import Sequential\n",
    "from keras.layers.core import Dense, Dropout, Activation\n",
    "from keras.optimizers import SGD\n",
    "import keras.callbacks as callbacks\n",
    "from keras.utils import np_utils\n",
    "\n",
    "from datetime import datetime  \n",
    "from datetime import timedelta \n",
    "import random\n",
    "\n",
    "print \"All Right!\""
   ]
  },
  {
   "cell_type": "code",
   "execution_count": 2,
   "metadata": {
    "collapsed": false
   },
   "outputs": [
    {
     "name": "stdout",
     "output_type": "stream",
     "text": [
      "(191100, 13)\n"
     ]
    },
    {
     "data": {
      "text/plain": [
       "array([[  9.52196307e-03,   6.12077856e-05,   1.65209174e-02, ...,\n",
       "          9.21870469e+01,   5.98104895e+01,   6.10195977e+01],\n",
       "       [  1.67018827e-02,   1.13179535e-01,   9.47747454e-02, ...,\n",
       "          1.07602320e+02,   5.98104895e+01,   6.44654687e+01],\n",
       "       [  8.95111356e-03,   9.14592529e-05,   8.82276613e-03, ...,\n",
       "          3.70010500e+02,   4.97765697e+01,   1.06724656e+02],\n",
       "       ..., \n",
       "       [  1.62160210e-02,   5.48769441e-03,   2.28184238e-02, ...,\n",
       "          3.86259570e+01,   3.57536859e+01,   3.39022539e+01],\n",
       "       [  1.42509257e-02,   1.21706940e-01,   4.58930284e-02, ...,\n",
       "          1.07292875e+02,   5.50991584e+01,   9.68779375e+01],\n",
       "       [  1.58070903e-02,   4.79239076e-02,   1.20003656e-01, ...,\n",
       "          6.82103906e+01,   5.50991584e+01,   5.35117266e+01]])"
      ]
     },
     "execution_count": 2,
     "metadata": {},
     "output_type": "execute_result"
    }
   ],
   "source": [
    "# Confirm our array shape\n",
    "path = \"/home/isabella/Workspace/python/PtRelAnalysis/PtRelAnalysis/Results/DataFiles\"\n",
    "data = np.load(path+\"/\"+\"lvbb125Array.npy\")\n",
    "data_target = data[:,[12]]\n",
    "\n",
    "data_inputs = data[:,:12]\n",
    "print data.shape\n",
    "data"
   ]
  },
  {
   "cell_type": "code",
   "execution_count": 3,
   "metadata": {
    "collapsed": false
   },
   "outputs": [
    {
     "name": "stdout",
     "output_type": "stream",
     "text": [
      "(191100, 12)\n"
     ]
    },
    {
     "data": {
      "text/plain": [
       "array([[  9.52196307e-03,   6.12077856e-05,   1.65209174e-02, ...,\n",
       "         -1.83297706e+00,   9.21870469e+01,   5.98104895e+01],\n",
       "       [  1.67018827e-02,   1.13179535e-01,   9.47747454e-02, ...,\n",
       "          1.78017831e+00,   1.07602320e+02,   5.98104895e+01],\n",
       "       [  8.95111356e-03,   9.14592529e-05,   8.82276613e-03, ...,\n",
       "          5.18436611e-01,   3.70010500e+02,   4.97765697e+01],\n",
       "       ..., \n",
       "       [  1.62160210e-02,   5.48769441e-03,   2.28184238e-02, ...,\n",
       "         -2.27387905e+00,   3.86259570e+01,   3.57536859e+01],\n",
       "       [  1.42509257e-02,   1.21706940e-01,   4.58930284e-02, ...,\n",
       "         -1.46886933e+00,   1.07292875e+02,   5.50991584e+01],\n",
       "       [  1.58070903e-02,   4.79239076e-02,   1.20003656e-01, ...,\n",
       "         -3.02542996e+00,   6.82103906e+01,   5.50991584e+01]])"
      ]
     },
     "execution_count": 3,
     "metadata": {},
     "output_type": "execute_result"
    }
   ],
   "source": [
    "print data_inputs.shape\n",
    "data_inputs"
   ]
  },
  {
   "cell_type": "code",
   "execution_count": 4,
   "metadata": {
    "collapsed": false
   },
   "outputs": [
    {
     "name": "stdout",
     "output_type": "stream",
     "text": [
      "(191100, 1)\n"
     ]
    },
    {
     "data": {
      "text/plain": [
       "array([[  61.01959766],\n",
       "       [  64.46546875],\n",
       "       [ 106.72465625],\n",
       "       ..., \n",
       "       [  33.90225391],\n",
       "       [  96.8779375 ],\n",
       "       [  53.51172656]])"
      ]
     },
     "execution_count": 4,
     "metadata": {},
     "output_type": "execute_result"
    }
   ],
   "source": [
    "print data_target.shape\n",
    "data_target"
   ]
  },
  {
   "cell_type": "code",
   "execution_count": 5,
   "metadata": {
    "collapsed": false
   },
   "outputs": [
    {
     "name": "stdout",
     "output_type": "stream",
     "text": [
      "Train Process for 1 Fold\n",
      "Train Process for 2 Fold\n",
      "Train Process for 3 Fold\n",
      "Train Process for 4 Fold\n",
      "Train Process for 5 Fold\n",
      "Train Process for 6 Fold\n",
      "Train Process for 7 Fold\n",
      "Train Process for 8 Fold\n",
      "Train Process for 9 Fold\n",
      "All Right!\n"
     ]
    }
   ],
   "source": [
    "# Train NN\n",
    "#from Functions import LogFunctions as log\n",
    "from sklearn import cross_validation\n",
    "from sklearn import preprocessing\n",
    "\n",
    "from keras.models import Sequential\n",
    "from keras.layers.core import Dense, Dropout, Activation\n",
    "from keras.optimizers import SGD\n",
    "import keras.callbacks as callbacks\n",
    "from keras.utils import np_utils\n",
    "\n",
    "from datetime import datetime  \n",
    "from datetime import timedelta \n",
    "import random\n",
    "\n",
    "\n",
    "# Train information \n",
    "n_folds = 2\n",
    "n_inits = 1\n",
    "norm = 'mapstd'\n",
    "\n",
    "train_info = {}\n",
    "train_info['n_folds'] = n_folds\n",
    "train_info['n_inits'] = n_inits\n",
    "train_info['norm'] = norm\n",
    "\n",
    "trn_desc = {}\n",
    "\n",
    "# Slip the train and test sets\n",
    "test_id= random.sample(range(data_inputs.shape[0]),int(np.floor(0.1*data_target.shape[0])))\n",
    "lista_id = np.asarray(range(0, data_inputs.shape[0]))\n",
    "all_id = np.ndarray.tolist(lista_id)\n",
    "train_id = list(set(lista_id) - set(test_id))\n",
    "\n",
    "                           \n",
    "\n",
    "for ifold in range(0,9):\n",
    "#    train_id, test_id = CVO[ifold]\n",
    "    \n",
    "    # normalize data based in train set\n",
    "    if train_info['norm'] == 'mapstd':\n",
    "        scaler = preprocessing.StandardScaler().fit(data_inputs[train_id,:])\n",
    "    elif train_info['norm'] == 'mapstd_rob':\n",
    "        scaler = preprocessing.RobustScaler().fit(data_inputs[train_id,:])\n",
    "    elif train_info['norm'] == 'mapminmax':\n",
    "        scaler = preprocessing.MinMaxScaler().fit(data_inputs[train_id,:])\n",
    "        \n",
    "    norm_all_data = scaler.transform(data_inputs)\n",
    "    \n",
    "# Normalize the outputs\n",
    "    [freq, target_values] = np.histogram(data_target[train_id],\n",
    "             bins=np.linspace(data_target[train_id].min(),data_target[train_id].max(),50))\n",
    "\n",
    "    MOP = target_values[np.argmax(freq)]\n",
    "    \n",
    "    norm_target = data_target/MOP\n",
    "\n",
    "    print 'Train Process for %i Fold'%(ifold+1)\n",
    "    \n",
    "    best_init = 0\n",
    "    best_loss = 999\n",
    "    \n",
    "    for i_init in range(0,9):\n",
    "        #print 'Init: %i of %i'%(i_init,train_info['n_inits'])\n",
    "        model = Sequential()\n",
    "        model.add(Dense(30, input_dim=data_inputs.shape[1], init='uniform'))\n",
    "        model.add(Activation('tanh'))\n",
    "        model.add(Dense(data_target.shape[1], init='uniform')) \n",
    "        model.add(Activation('linear'))\n",
    "        \n",
    "        sgd = SGD(lr=0.01, decay=1e-6, momentum=0.9, nesterov=True)\n",
    "        model.compile(loss='mean_squared_error', optimizer=sgd\n",
    "                      ,metrics=['accuracy'])\n",
    "\n",
    "        # Train model\n",
    "        earlyStopping = callbacks.EarlyStopping(monitor='val_loss', patience=20, \n",
    "                                            verbose=0, mode='auto')\n",
    "        modelCheckPoint = callbacks.ModelCheckpoint(path+\"/\"+\"Modelv3.h5\", monitor='val_loss',\n",
    "                                                    verbose=0, save_best_only=True, mode='auto')\n",
    "        #start_time = time.time()\n",
    "        init_trn_desc = model.fit(norm_all_data[train_id], norm_target[train_id], \n",
    "                                nb_epoch=500, \n",
    "                                batch_size=8,\n",
    "                                callbacks=[earlyStopping, modelCheckPoint], \n",
    "                                verbose=0,\n",
    "                                validation_data=(norm_all_data[test_id],norm_target[test_id]),\n",
    "                                shuffle=True)\n",
    "\n",
    "        \n",
    "    \n",
    "    trn_desc[ifold] = init_trn_desc  \n",
    "\n",
    "\n",
    "print \"All Right!\""
   ]
  },
  {
   "cell_type": "code",
   "execution_count": 6,
   "metadata": {
    "collapsed": false
   },
   "outputs": [
    {
     "name": "stdout",
     "output_type": "stream",
     "text": [
      "[[ 1.33441174]\n",
      " [ 1.28176606]\n",
      " [ 2.24397492]\n",
      " ..., \n",
      " [ 0.8564353 ]\n",
      " [ 2.29824805]\n",
      " [ 1.26512039]]\n"
     ]
    }
   ],
   "source": [
    "NN_output = model.predict(norm_all_data, batch_size=8, verbose=0)\n",
    "\n",
    "print NN_output"
   ]
  },
  {
   "cell_type": "code",
   "execution_count": 9,
   "metadata": {
    "collapsed": true
   },
   "outputs": [],
   "source": [
    "import matplotlib.pyplot as plt\n",
    "import numpy\n",
    "\n",
    "plt.plot(init_trn_desc.history['acc'])\n",
    "plt.plot(init_trn_desc.history['val_acc'])\n",
    "plt.title('model accuracy')\n",
    "plt.ylabel('accuracy')\n",
    "plt.xlabel('epoch')\n",
    "plt.legend(['train', 'test'], loc='upper left')\n",
    "plt.show()"
   ]
  },
  {
   "cell_type": "code",
   "execution_count": 8,
   "metadata": {
    "collapsed": true
   },
   "outputs": [],
   "source": [
    "plt.plot(init_trn_desc.history['loss'])\n",
    "plt.plot(init_trn_desc.history['val_loss'])\n",
    "plt.title('model loss')\n",
    "plt.ylabel('loss')\n",
    "plt.xlabel('epoch')\n",
    "plt.legend(['train', 'test'], loc='upper right')\n",
    "plt.show()"
   ]
  },
  {
   "cell_type": "code",
   "execution_count": null,
   "metadata": {
    "collapsed": true
   },
   "outputs": [],
   "source": []
  },
  {
   "cell_type": "code",
   "execution_count": null,
   "metadata": {
    "collapsed": false,
    "scrolled": false
   },
   "outputs": [],
   "source": [
    "# Train NN\n",
    "#from Functions import LogFunctions as log\n",
    "from sklearn import cross_validation\n",
    "from sklearn import preprocessing\n",
    "\n",
    "from keras.models import Sequential\n",
    "from keras.layers.core import Dense, Dropout, Activation\n",
    "from keras.optimizers import SGD\n",
    "import keras.callbacks as callbacks\n",
    "from keras.utils import np_utils\n",
    "\n",
    "from datetime import datetime  \n",
    "from datetime import timedelta \n"
   ]
  },
  {
   "cell_type": "code",
   "execution_count": 1,
   "metadata": {
    "collapsed": false
   },
   "outputs": [
    {
     "data": {
      "image/png": "[encoded data removed]",
      "text/plain": [
       "<ROOT.TCanvas object (\"c\") at 0x3757cb0>"
      ]
     },
     "execution_count": 1,
     "metadata": {},
     "output_type": "execute_result"
    }
   ],
   "source": [
    "# Apply the correction for each jet\n",
    "\n",
    "import ROOT\n",
    "import copy\n",
    "#from NeuralNetwork import MultiLayerPerceptron as mlp\n",
    "from functions import HistogramFunctions,AuxiliarFunctions,FigureFunctions,FitFunctions,rootnotes\n",
    "import numpy as np\n",
    "import matplotlib.pyplot as plt\n",
    "\n",
    "\n",
    "ROOT.gROOT.Reset()\n",
    "ROOT.gStyle.SetOptStat(0)\n",
    "#print \"Everthing Ok\"\n",
    "\n",
    "output = \"/home/isabella/Workspace/python/PtRelAnalysis/PtRelAnalysis/Results/Plots\"\n",
    "\n",
    "input_Cor = \"/home/isabella/Workspace/python/PtRelAnalysis/PtRelAnalysis/Results/DataFiles\"\n",
    "\n",
    "CorFac = np.load(input_Cor+\"/\"+\"CorFactors.npy\")\n",
    "\n",
    "data_input = \"/home/isabella/Workspace/Adrian2015/Public/WH/output/local/readPaul_1_0_J1Pt45+2BTag+TruthGENWZ+Clean_1_perevent+perjet/lvbb125.root\"\n",
    "treeName = \"perevent\"\n",
    "\n",
    "file = ROOT.TFile(data_input,\"READ\")\n",
    "tree = file.Get(treeName)\n",
    "\n",
    "#nrEvents = tree.GetEntries()\n",
    "nrEvents = 4\n",
    "\n",
    "# for histograms\n",
    "bins = 60\n",
    "m_max = 300\n",
    "m_min = 0\n",
    "\n",
    "ylabel = \"Occurrences\"\n",
    "\n",
    "# Use Colors\n",
    "list_color = []\n",
    "list_color.append(ROOT.kBlue) # For truth\n",
    "list_color.append(ROOT.kRed) \n",
    "list_color.append(ROOT.kGreen)\n",
    "    #list_color.append(ROOT.kRed+2)\n",
    "    #list_color.append(ROOT.kRed+3)\n",
    "    #list_color.append(ROOT.kRed+4)\n",
    "    #end list of colors\n",
    "\n",
    "#  Make a list of mass histogram\n",
    "list_inf_M = []\n",
    "\n",
    "hist_inf = HistogramFunctions.OneDimHistInfo(\"Truth Mass \",\"h_lvbb_M_truth\",bins,m_min,m_max,\"Invariant Mass\",ylabel)\n",
    "list_inf_M.append(hist_inf)\n",
    "\n",
    "hist_inf = HistogramFunctions.OneDimHistInfo(\"EMJESGSCMu Mass \",\"h_lvbb_M_reco\",bins,m_min,m_max,\"Invariant Mass\",ylabel)\n",
    "list_inf_M.append(hist_inf)\n",
    "\n",
    "hist_inf = HistogramFunctions.OneDimHistInfo(\"NN Mass \",\"h_lvbb_M_NN\",bins,m_min,m_max,\"Invariant Mass\",ylabel)\n",
    "list_inf_M.append(hist_inf)\n",
    "\n",
    "list_hist_M = HistogramFunctions.CreateListOf1DHistograms(list_inf_M,list_color)\n",
    "\n",
    "\n",
    "\n",
    "c = rootnotes.canvas(\"c\", (800, 600))\n",
    "#h = ROOT.TH1F(\"Mass\",\"Mass Distribution\",60,0,300)\n",
    "\n",
    "Corrections = [\"GENWZ\",\"EMJESGSCMu\"]\n",
    "for (j,Correction) in enumerate(Corrections):   \n",
    "    for (i,entry) in enumerate(tree):\n",
    "        if Correction == \"GENWZ\":\n",
    "            list_hist_M[0].Fill(getattr(entry,\"j1j2_\"+Correction+\"_M\"))\n",
    "        else:\n",
    "            list_hist_M[1].Fill(getattr(entry,\"j1j2_\"+Correction+\"_M\"))\n",
    "        \n",
    "    for ((i,entry),k) in zip(enumerate(tree),range(CorFac.shape[0])):\n",
    "        if Correction == \"GENWZ\":\n",
    "            continue\n",
    "        else:\n",
    "        \n",
    "        #list_hist_M[0].Fill(getattr(entry,\"j1j2_GENWZ_M\"))\n",
    "        #list_hist_M[1].Fill(getattr(entry,\"j1j2_\"+Correction+\"_M\"))\n",
    "            if i==k:\n",
    "                Pt1_cor = CorFac.item(i)\n",
    "                Pt2_cor = CorFac.item(i + 1)\n",
    "                \n",
    "                j1_LV = ROOT.TLorentzVector()\n",
    "                j2_LV = ROOT.TLorentzVector()\n",
    "            \n",
    "                E1 = getattr(entry,\"j1_\"+Correction+\"_E\")\n",
    "                Eta1 = getattr(entry,\"j1_\"+Correction+\"_Eta\")\n",
    "                Phi1 = getattr(entry,\"j1_\"+Correction+\"_Phi\")\n",
    "                Pt1 = getattr(entry,\"j1_\"+Correction+\"_Pt\")\n",
    "            \n",
    "                E2 = getattr(entry,\"j2_\"+Correction+\"_E\")\n",
    "                Eta2 = getattr(entry,\"j2_\"+Correction+\"_Eta\")\n",
    "                Phi2 = getattr(entry,\"j2_\"+Correction+\"_Phi\")\n",
    "                Pt2 = getattr(entry,\"j2_\"+Correction+\"_Pt\")\n",
    "        \n",
    "                E1_cor = (CorFac.item(k)/Pt1)*E1\n",
    "                E2_cor = (CorFac.item(k + 1)/Pt2)*E2\n",
    "            \n",
    "                j1_LV.SetPtEtaPhiE(Pt1_cor,Eta1,Phi1,E1_cor)\n",
    "                j2_LV.SetPtEtaPhiE(Pt2_cor,Eta2,Phi2,E2_cor)\n",
    "            \n",
    "                dijet_LV = j1_LV + j2_LV\n",
    "            \n",
    "                Mass = dijet_LV.M()\n",
    "                list_hist_M[2].Fill(Mass)\n",
    "            \n",
    "    \n",
    "            else:\n",
    "                Pt1_cor = CorFac.item(2*i + 1)\n",
    "                Pt2_cor = CorFac.item(2*i + 2)\n",
    "                \n",
    "                j1_LV = ROOT.TLorentzVector()\n",
    "                j2_LV = ROOT.TLorentzVector()\n",
    "            \n",
    "                E1 = getattr(entry,\"j1_\"+Correction+\"_E\")\n",
    "                Eta1 = getattr(entry,\"j1_\"+Correction+\"_Eta\")\n",
    "                Phi1 = getattr(entry,\"j1_\"+Correction+\"_Phi\")\n",
    "                Pt1 = getattr(entry,\"j1_\"+Correction+\"_Pt\")\n",
    "            \n",
    "                E2 = getattr(entry,\"j2_\"+Correction+\"_E\")\n",
    "                Eta2 = getattr(entry,\"j2_\"+Correction+\"_Eta\")\n",
    "                Phi2 = getattr(entry,\"j2_\"+Correction+\"_Phi\")\n",
    "                Pt2 = getattr(entry,\"j2_\"+Correction+\"_Pt\")\n",
    "        \n",
    "                E1_cor = (CorFac.item(k)/Pt1)*E1\n",
    "                E2_cor = (CorFac.item(k + 1)/Pt2)*E2\n",
    "            \n",
    "                j1_LV.SetPtEtaPhiE(Pt1_cor,Eta1,Phi1,E1_cor)\n",
    "                j2_LV.SetPtEtaPhiE(Pt2_cor,Eta2,Phi2,E2_cor)\n",
    "            \n",
    "                dijet_LV = j1_LV + j2_LV\n",
    "            \n",
    "                Mass = dijet_LV.M()\n",
    "                list_hist_M[0].Fill(Mass)\n",
    "                \n",
    "            \n",
    "clone_list_M = []\n",
    "for hist in list_hist_M:\n",
    "    newhist = hist.Clone()\n",
    "    clone_list_M.append(newhist)\n",
    "\n",
    "HistogramFunctions.Draw1DHists(list_hist_M,output)\n",
    "HistogramFunctions.DrawList1DHistInCanvas(clone_list_M, \"Mass Plot\", \" Invariant Mass \", \"Events\", c)        \n",
    "\n",
    "c\n"
   ]
  },
  {
   "cell_type": "code",
   "execution_count": null,
   "metadata": {
    "collapsed": false
   },
   "outputs": [],
   "source": [
    "E1 = getattr(entry,\"j1_\"+Correction+\"_E\")"
   ]
  }
 ],
 "metadata": {
  "kernelspec": {
   "display_name": "Python 2",
   "language": "python",
   "name": "python2"
  },
  "language_info": {
   "codemirror_mode": {
    "name": "ipython",
    "version": 2
   },
   "file_extension": ".py",
   "mimetype": "text/x-python",
   "name": "python",
   "nbconvert_exporter": "python",
   "pygments_lexer": "ipython2",
   "version": "2.7.6"
  }
 },
 "nbformat": 4,
 "nbformat_minor": 0
}
