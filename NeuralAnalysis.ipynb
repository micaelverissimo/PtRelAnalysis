{
 "cells": [
  {
   "cell_type": "code",
   "execution_count": null,
   "metadata": {
    "collapsed": true
   },
   "outputs": [],
   "source": [
    "# Authors: Isabella Silva Ferreira and Micael Veríssimo de Araújo\n",
    "# e-mails: (is_bella21@hotmail.com)    (micaelvero@hotmail.com)\n"
   ]
  },
  {
   "cell_type": "code",
   "execution_count": 2,
   "metadata": {
    "collapsed": false
   },
   "outputs": [
    {
     "name": "stdout",
     "output_type": "stream",
     "text": [
      "All Right!\n"
     ]
    }
   ],
   "source": [
    "# Read data File and sapare the all the sets\n",
    "import os\n",
    "import pickle\n",
    "import numpy as np\n",
    "import time\n",
    "\n",
    "from sklearn.decomposition import PCA\n",
    "from sklearn.externals import joblib\n",
    "\n",
    "print \"All Right!\""
   ]
  },
  {
   "cell_type": "code",
   "execution_count": 3,
   "metadata": {
    "collapsed": false
   },
   "outputs": [
    {
     "name": "stdout",
     "output_type": "stream",
     "text": [
      "(191100, 13)\n"
     ]
    },
    {
     "data": {
      "text/plain": [
       "array([[  9.52196307e-03,   6.12077856e-05,   1.65209174e-02, ...,\n",
       "          9.21870469e+01,   5.98104895e+01,   6.10195977e+01],\n",
       "       [  1.67018827e-02,   1.13179535e-01,   9.47747454e-02, ...,\n",
       "          1.07602320e+02,   5.98104895e+01,   6.44654687e+01],\n",
       "       [  8.95111356e-03,   9.14592529e-05,   8.82276613e-03, ...,\n",
       "          3.70010500e+02,   4.97765697e+01,   1.06724656e+02],\n",
       "       ..., \n",
       "       [  1.62160210e-02,   5.48769441e-03,   2.28184238e-02, ...,\n",
       "          3.86259570e+01,   3.57536859e+01,   3.39022539e+01],\n",
       "       [  1.42509257e-02,   1.21706940e-01,   4.58930284e-02, ...,\n",
       "          1.07292875e+02,   5.50991584e+01,   9.68779375e+01],\n",
       "       [  1.58070903e-02,   4.79239076e-02,   1.20003656e-01, ...,\n",
       "          6.82103906e+01,   5.50991584e+01,   5.35117266e+01]])"
      ]
     },
     "execution_count": 3,
     "metadata": {},
     "output_type": "execute_result"
    }
   ],
   "source": [
    "# Confirm our array shape\n",
    "data = np.load(\"/home/micael/MyWorkspace/DATA/lvbb125Array.npy\")\n",
    "data_target = data[:,12]\n",
    "\n",
    "data_inputs = data[:,:12]\n",
    "print data.shape\n",
    "data"
   ]
  },
  {
   "cell_type": "code",
   "execution_count": 4,
   "metadata": {
    "collapsed": false
   },
   "outputs": [
    {
     "name": "stdout",
     "output_type": "stream",
     "text": [
      "(191100, 12)\n"
     ]
    },
    {
     "data": {
      "text/plain": [
       "array([[  9.52196307e-03,   6.12077856e-05,   1.65209174e-02, ...,\n",
       "         -1.83297706e+00,   9.21870469e+01,   5.98104895e+01],\n",
       "       [  1.67018827e-02,   1.13179535e-01,   9.47747454e-02, ...,\n",
       "          1.78017831e+00,   1.07602320e+02,   5.98104895e+01],\n",
       "       [  8.95111356e-03,   9.14592529e-05,   8.82276613e-03, ...,\n",
       "          5.18436611e-01,   3.70010500e+02,   4.97765697e+01],\n",
       "       ..., \n",
       "       [  1.62160210e-02,   5.48769441e-03,   2.28184238e-02, ...,\n",
       "         -2.27387905e+00,   3.86259570e+01,   3.57536859e+01],\n",
       "       [  1.42509257e-02,   1.21706940e-01,   4.58930284e-02, ...,\n",
       "         -1.46886933e+00,   1.07292875e+02,   5.50991584e+01],\n",
       "       [  1.58070903e-02,   4.79239076e-02,   1.20003656e-01, ...,\n",
       "         -3.02542996e+00,   6.82103906e+01,   5.50991584e+01]])"
      ]
     },
     "execution_count": 4,
     "metadata": {},
     "output_type": "execute_result"
    }
   ],
   "source": [
    "print data_inputs.shape\n",
    "data_inputs"
   ]
  },
  {
   "cell_type": "code",
   "execution_count": 5,
   "metadata": {
    "collapsed": false
   },
   "outputs": [
    {
     "name": "stdout",
     "output_type": "stream",
     "text": [
      "(191100,)\n"
     ]
    },
    {
     "data": {
      "text/plain": [
       "array([  61.01959766,   64.46546875,  106.72465625, ...,   33.90225391,\n",
       "         96.8779375 ,   53.51172656])"
      ]
     },
     "execution_count": 5,
     "metadata": {},
     "output_type": "execute_result"
    }
   ],
   "source": [
    "print data_target.shape\n",
    "data_target"
   ]
  },
  {
   "cell_type": "code",
   "execution_count": 24,
   "metadata": {
    "collapsed": false,
    "scrolled": false
   },
   "outputs": [
    {
     "name": "stdout",
     "output_type": "stream",
     "text": [
      "Train Process for 0 Fold\n",
      "Train Process for 1 Fold\n",
      "Train Process for 2 Fold\n",
      "Train Process for 3 Fold\n",
      "All Right!\n"
     ]
    }
   ],
   "source": [
    "# Train NN\n",
    "#from Functions import LogFunctions as log\n",
    "from sklearn import cross_validation\n",
    "from sklearn import preprocessing\n",
    "\n",
    "from keras.models import Sequential\n",
    "from keras.layers.core import Dense, Dropout, Activation\n",
    "from keras.optimizers import SGD\n",
    "import keras.callbacks as callbacks\n",
    "from keras.utils import np_utils\n",
    "\n",
    "from datetime import datetime  \n",
    "from datetime import timedelta \n",
    "import random\n",
    "\n",
    "\n",
    "# Train information \n",
    "n_folds = 2\n",
    "n_inits = 1\n",
    "norm = 'mapstd'\n",
    "\n",
    "train_info = {}\n",
    "train_info['n_folds'] = n_folds\n",
    "train_info['n_inits'] = n_inits\n",
    "train_info['norm'] = norm\n",
    "\n",
    "trn_desc = {}\n",
    "\n",
    "# Slip the train and test sets\n",
    "test_id= random.sample(range(data_inputs.shape[0]),int(np.floor(0.1*data_target.shape[0])))\n",
    "lista_id = np.asarray(range(0, data_inputs.shape[0]))\n",
    "all_id = np.ndarray.tolist(lista_id)\n",
    "train_id = list(set(lista_id) - set(test_id))\n",
    "\n",
    "                           \n",
    "\n",
    "for ifold in range(0,4):\n",
    "#    train_id, test_id = CVO[ifold]\n",
    "    \n",
    "    # normalize data based in train set\n",
    "    if train_info['norm'] == 'mapstd':\n",
    "        scaler = preprocessing.StandardScaler().fit(data_inputs[train_id,:])\n",
    "    elif train_info['norm'] == 'mapstd_rob':\n",
    "        scaler = preprocessing.RobustScaler().fit(data_inputs[train_id,:])\n",
    "    elif train_info['norm'] == 'mapminmax':\n",
    "        scaler = preprocessing.MinMaxScaler().fit(data_inputs[train_id,:])\n",
    "        \n",
    "    norm_all_data = scaler.transform(data_inputs)\n",
    "    \n",
    "# Normalize the outputs\n",
    "    [freq, target_values] = np.histogram(data_target[train_id],\n",
    "             bins=np.linspace(data_target[train_id].min(),data_target[train_id].max(),50))\n",
    "\n",
    "    MOP = target_values[np.argmax(freq)]\n",
    "    \n",
    "    norm_target = data_target/MOP\n",
    "\n",
    "    print 'Train Process for %i Fold'%(ifold)\n",
    "    \n",
    "    best_init = 0\n",
    "    best_loss = 999\n",
    "    \n",
    "    for i_init in range(0,2):\n",
    "        #print 'Init: %i of %i'%(i_init,train_info['n_inits'])\n",
    "        model = Sequential()\n",
    "        model.add(Dense(30, input_dim=data_inputs.shape[1], init='uniform'))\n",
    "        model.add(Activation('tanh'))\n",
    "        model.add(Dense(1, init='uniform')) \n",
    "        model.add(Activation('linear'))\n",
    "        \n",
    "        sgd = SGD(lr=0.01, decay=1e-6, momentum=0.9, nesterov=True)\n",
    "        model.compile(loss='mean_squared_error', optimizer=sgd\n",
    "                      ,metrics=['accuracy'])\n",
    "\n",
    "        # Train model\n",
    "        earlyStopping = callbacks.EarlyStopping(monitor='val_loss', patience=25, \n",
    "                                            verbose=0, mode='auto')\n",
    "        start_time = time.time()\n",
    "        init_trn_desc = model.fit(norm_all_data[train_id], norm_target[train_id], \n",
    "                                nb_epoch=50, \n",
    "                                batch_size=8,\n",
    "                                callbacks=[earlyStopping], \n",
    "                                verbose=0,\n",
    "                                validation_data=(data_inputs[test_id],norm_target[test_id]),\n",
    "                                shuffle=True)\n",
    "\n",
    "        \n",
    "    \n",
    "    trn_desc[ifold] = init_trn_desc  \n",
    "\n",
    "\n",
    "print \"All Right!\""
   ]
  },
  {
   "cell_type": "code",
   "execution_count": 30,
   "metadata": {
    "collapsed": false
   },
   "outputs": [
    {
     "data": {
      "text/plain": [
       "['/home/micael/MyWorkspace/DATA/NN_outputs/Train_info.jbl']"
      ]
     },
     "execution_count": 30,
     "metadata": {},
     "output_type": "execute_result"
    }
   ],
   "source": [
    "from keras.models import load_model\n",
    "output = \"/home/micael/MyWorkspace/DATA/NN_outputs\"\n",
    "\n",
    "model.save(output+\"/\"+\"Model1.h5\")\n",
    "\n",
    "joblib.dump(init_trn_desc.history,output+\"/\"+\"Train_desc.jbl\",compress=9)\n",
    "joblib.dump([train_info],output+\"/\"+\"Train_info.jbl\",compress=9)"
   ]
  },
  {
   "cell_type": "code",
   "execution_count": 27,
   "metadata": {
    "collapsed": false
   },
   "outputs": [
    {
     "data": {
      "text/plain": [
       "[{'n_folds': 2, 'n_inits': 1, 'norm': 'mapstd'}]"
      ]
     },
     "execution_count": 27,
     "metadata": {},
     "output_type": "execute_result"
    }
   ],
   "source": [
    "Teste = joblib.load(output+\"/\"+\"Train_info.jbl\")\n",
    "Teste\n"
   ]
  },
  {
   "cell_type": "code",
   "execution_count": 31,
   "metadata": {
    "collapsed": false
   },
   "outputs": [
    {
     "name": "stdout",
     "output_type": "stream",
     "text": [
      "{'acc': [0.0, 0.0, 0.0, 0.0, 0.0, 0.0, 0.0, 0.0, 0.0, 0.0, 0.0, 0.0, 0.0, 0.0, 0.0, 0.0, 0.0, 0.0, 0.0, 0.0, 0.0, 0.0, 0.0, 0.0, 0.0, 0.0, 0.0, 0.0, 0.0, 0.0, 0.0, 0.0, 0.0, 0.0, 0.0, 0.0, 0.0, 0.0, 0.0, 0.0, 0.0, 0.0, 0.0, 0.0, 0.0, 0.0, 0.0], 'loss': [0.06280715697716753, 0.059282822944832524, 0.058484474612448455, 0.058410033121236875, 0.058184519095528381, 0.05799509329597112, 0.057865393967317082, 0.057661485637893521, 0.057676429490932601, 0.057586225372488371, 0.057503920497924098, 0.057451582000720765, 0.057264933163296693, 0.057030318997242285, 0.057032671543973734, 0.056977243518412525, 0.056868065438363868, 0.056835467697274336, 0.056672522487848022, 0.056543808111263465, 0.056622762342623506, 0.056476838831101599, 0.056542573955981772, 0.056351498269618792, 0.056338175330502747, 0.056289363722553824, 0.056344795080813803, 0.056283969973294164, 0.056078448933172612, 0.056122430671194663, 0.056054691061273233, 0.056046496932267278, 0.056006241779284587, 0.056034959283253361, 0.055936600560853832, 0.055852743280128049, 0.055869581700300548, 0.055794441722405129, 0.055819085011640693, 0.055761346079595833, 0.055698942314319849, 0.055673500729276515, 0.055583330403735712, 0.055578276418338776, 0.055605867147684805, 0.055535068787686138, 0.055450151050643638], 'val_acc': [0.0, 0.0, 0.0, 0.0, 0.0, 0.0, 0.0, 0.0, 0.0, 0.0, 0.0, 0.0, 0.0, 0.0, 0.0, 0.0, 0.0, 0.0, 0.0, 0.0, 0.0, 0.0, 0.0, 0.0, 0.0, 0.0, 0.0, 0.0, 0.0, 0.0, 0.0, 0.0, 0.0, 0.0, 0.0, 0.0, 0.0, 0.0, 0.0, 0.0, 0.0, 0.0, 0.0, 0.0, 0.0, 0.0, 0.0], 'val_loss': [22.502632813825464, 26.549237871793849, 24.096553378302286, 22.836032457216941, 24.119356239434627, 32.154764971690675, 25.344535030961847, 24.715485476499325, 24.013620478192404, 23.902852333783478, 28.034984853116708, 24.522899168764091, 28.298143575280079, 29.530776735402601, 23.778649644637095, 23.450321497735025, 24.012979418217107, 26.03063405614321, 25.541102643614348, 25.354874733965289, 22.235725999489809, 26.450838375840121, 25.505048510493065, 24.352400179373412, 26.546264156778715, 23.282767681998148, 25.422259276553262, 23.465078867099347, 24.431494130444488, 24.922267219946686, 22.710618927664683, 24.254205478566409, 24.57741433607228, 25.365761057735426, 24.57316840674352, 25.56167268119265, 24.738090940322756, 26.429775328064764, 28.160744502468297, 26.271575882820358, 24.639069208158116, 26.028861354945654, 26.413197007071965, 24.474580776348343, 24.566147818532929, 23.220497613824019, 26.620842535916204]}\n"
     ]
    }
   ],
   "source": [
    "print(init_trn_desc.history)"
   ]
  }
 ],
 "metadata": {
  "kernelspec": {
   "display_name": "Python 2",
   "language": "python",
   "name": "python2"
  },
  "language_info": {
   "codemirror_mode": {
    "name": "ipython",
    "version": 2
   },
   "file_extension": ".py",
   "mimetype": "text/x-python",
   "name": "python",
   "nbconvert_exporter": "python",
   "pygments_lexer": "ipython2",
   "version": "2.7.12"
  }
 },
 "nbformat": 4,
 "nbformat_minor": 0
}
