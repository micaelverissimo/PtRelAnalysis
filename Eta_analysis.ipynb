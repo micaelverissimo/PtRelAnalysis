{
 "cells": [
  {
   "cell_type": "code",
   "execution_count": 1,
   "metadata": {
    "collapsed": false,
    "deletable": true,
    "editable": true
   },
   "outputs": [
    {
     "name": "stdout",
     "output_type": "stream",
     "text": [
      "Time to import libraries: 0.968 seconds\n"
     ]
    }
   ],
   "source": [
    "# Import Libs\n",
    "import time\n",
    "init_time = time.time()\n",
    "\n",
    "import os\n",
    "import pickle\n",
    "import numpy as np\n",
    "import ROOT\n",
    "\n",
    "from functions import HistogramFunctions,AuxiliarFunctions,FigureFunctions,FitFunctions,rootnotes\n",
    "\n",
    "import matplotlib.pyplot as plt\n",
    "%matplotlib inline\n",
    "\n",
    "plt.rcParams['lines.linewidth'] = 2\n",
    "plt.rcParams['legend.handlelength'] = 3\n",
    "plt.rcParams['legend.borderpad'] = 0.3\n",
    "plt.rcParams['legend.numpoints'] = 1\n",
    "plt.rcParams['xtick.labelsize'] = 18\n",
    "plt.rcParams['font.weight'] = 'bold'\n",
    "plt.rcParams['ytick.labelsize'] = 20\n",
    "\n",
    "current_time = time.time()\n",
    "print 'Time to import libraries: %1.3f seconds'%(current_time-init_time)\n"
   ]
  },
  {
   "cell_type": "code",
   "execution_count": 2,
   "metadata": {
    "collapsed": true,
    "deletable": true,
    "editable": true
   },
   "outputs": [],
   "source": [
    "# Import Libs\n",
    "import time\n",
    "init_time = time.time()\n",
    "\n",
    "import os\n",
    "import pickle\n",
    "import numpy as np\n",
    "import ROOT\n",
    "\n",
    "from functions import HistogramFunctions,AuxiliarFunctions,FigureFunctions,FitFunctions,rootnotes\n",
    "\n",
    "import matplotlib.pyplot as plt\n",
    "%matplotlib inline"
   ]
  },
  {
   "cell_type": "code",
   "execution_count": null,
   "metadata": {
    "collapsed": false,
    "deletable": true,
    "editable": true
   },
   "outputs": [],
   "source": []
  },
  {
   "cell_type": "code",
   "execution_count": 3,
   "metadata": {
    "collapsed": true,
    "deletable": true,
    "editable": true
   },
   "outputs": [],
   "source": [
    "ROOT.gROOT.Reset()\n",
    "ROOT.gStyle.SetOptStat(0)"
   ]
  },
  {
   "cell_type": "code",
   "execution_count": 4,
   "metadata": {
    "collapsed": false,
    "deletable": true,
    "editable": true
   },
   "outputs": [
    {
     "data": {
      "text/plain": [
       "[<ROOT.TH1F object (\"h_Eta_2.5\") at 0x2cb6040>,\n",
       " <ROOT.TH1F object (\"h_Eta_3.0\") at 0x2d15bd0>,\n",
       " <ROOT.TH1F object (\"h_Eta_3.5\") at 0x2377350>]"
      ]
     },
     "execution_count": 4,
     "metadata": {},
     "output_type": "execute_result"
    }
   ],
   "source": [
    "import ROOT\n",
    "\n",
    "\n",
    "# for histograms\n",
    "bins = 60\n",
    "m_max = 600\n",
    "m_min = 0\n",
    "\n",
    "ylabel = \"Occurrences\"\n",
    "\n",
    "# Use Colors\n",
    "list_color = []\n",
    "list_color.append(ROOT.kRed+1) # eta < 2.5\n",
    "list_color.append(ROOT.kGreen+1) # eta < 3.0\n",
    "list_color.append(ROOT.kBlue+1) # eta < 3.5\n",
    "\n",
    "#  Make a list of mass histogram\n",
    "list_inf_M = []\n",
    "\n",
    "hist_inf = HistogramFunctions.OneDimHistInfo(\"Sum of Energy for #eta < 2.5 \",\"h_Eta_2.5\",bins,m_min,m_max,\"Energy\",ylabel)\n",
    "list_inf_M.append(hist_inf)\n",
    "\n",
    "\n",
    "hist_inf = HistogramFunctions.OneDimHistInfo(\"Sum of Energy for #eta < 3.0 \",\"h_Eta_3.0\",bins,m_min,m_max,\"Energy\",ylabel)\n",
    "list_inf_M.append(hist_inf)\n",
    "\n",
    "hist_inf = HistogramFunctions.OneDimHistInfo(\"Sum of Energy for #eta < 3.5\",\"h_Eta_3.5\",bins,m_min,m_max,\"Energy\",ylabel)\n",
    "list_inf_M.append(hist_inf)\n",
    "\n",
    "list_hist_M = HistogramFunctions.CreateListOf1DHistograms(list_inf_M,list_color)\n",
    "c = rootnotes.canvas(\"c\", (800, 600))\n",
    "d = rootnotes.canvas(\"d\", (800, 600))\n",
    "\n",
    "list_hist_M"
   ]
  },
  {
   "cell_type": "code",
   "execution_count": null,
   "metadata": {
    "collapsed": true
   },
   "outputs": [],
   "source": []
  },
  {
   "cell_type": "code",
   "execution_count": 10,
   "metadata": {
    "collapsed": false,
    "deletable": true,
    "editable": true,
    "scrolled": true
   },
   "outputs": [
    {
     "name": "stdout",
     "output_type": "stream",
     "text": [
      "1.17945849895\n",
      "<3.5\n",
      "< 3.0\n",
      "<2.5\n",
      "1.0717022419\n",
      "<3.5\n",
      "< 3.0\n",
      "<2.5\n",
      "1.50405371189\n",
      "<3.5\n",
      "< 3.0\n",
      "<2.5\n",
      "0.00303169200197\n",
      "<3.5\n",
      "< 3.0\n",
      "<2.5\n",
      "2.07559704781\n",
      "<3.5\n",
      "< 3.0\n",
      "<2.5\n",
      "0.497250199318\n",
      "<3.5\n",
      "< 3.0\n",
      "<2.5\n",
      "1.95876502991\n",
      "<3.5\n",
      "< 3.0\n",
      "<2.5\n",
      "1.29457080364\n",
      "<3.5\n",
      "< 3.0\n",
      "<2.5\n",
      "0.491243839264\n",
      "<3.5\n",
      "< 3.0\n",
      "<2.5\n",
      "1.53423440456\n",
      "<3.5\n",
      "< 3.0\n",
      "<2.5\n",
      "0.0658936575055\n",
      "<3.5\n",
      "< 3.0\n",
      "<2.5\n",
      "0.290830522776\n",
      "<3.5\n",
      "< 3.0\n",
      "<2.5\n",
      "0.94514477253\n",
      "<3.5\n",
      "< 3.0\n",
      "<2.5\n",
      "1.59371721745\n",
      "<3.5\n",
      "< 3.0\n",
      "<2.5\n",
      "0.740425407887\n",
      "<3.5\n",
      "< 3.0\n",
      "<2.5\n",
      "1.40348553658\n",
      "<3.5\n",
      "< 3.0\n",
      "<2.5\n",
      "0.611208081245\n",
      "<3.5\n",
      "< 3.0\n",
      "<2.5\n",
      "0.873194336891\n",
      "<3.5\n",
      "< 3.0\n",
      "<2.5\n",
      "1.00235390663\n",
      "<3.5\n",
      "< 3.0\n",
      "<2.5\n",
      "0.208443984389\n",
      "<3.5\n",
      "< 3.0\n",
      "<2.5\n",
      "0.581146121025\n",
      "<3.5\n",
      "< 3.0\n",
      "<2.5\n",
      "1.57670712471\n",
      "<3.5\n",
      "< 3.0\n",
      "<2.5\n",
      "1.7131742239\n",
      "<3.5\n",
      "< 3.0\n",
      "<2.5\n",
      "1.68417370319\n",
      "<3.5\n",
      "< 3.0\n",
      "<2.5\n",
      "0.975373983383\n",
      "<3.5\n",
      "< 3.0\n",
      "<2.5\n",
      "2.28111338615\n",
      "<3.5\n",
      "< 3.0\n",
      "<2.5\n"
     ]
    },
    {
     "data": {
      "image/png": "[encoded data removed]",
      "text/plain": [
       "<ROOT.TCanvas object (\"c\") at 0x2f7f770>"
      ]
     },
     "execution_count": 10,
     "metadata": {},
     "output_type": "execute_result"
    }
   ],
   "source": [
    "from sklearn.externals import joblib\n",
    "#Use ROOT in order to create a numpy array with selected variables\n",
    "\n",
    "\n",
    "#processes = \"lvbb125,TTbar,Wbb,Wbl,Wll,Wcl,Wcc,WW,WZ,ZZ\"\n",
    "processes = \"lvbb125\"\n",
    "output_path = \"/home/isabella/Workspace/python/PtRelAnalysis/PtRelAnalysis/Results/Eta_analysis\"\n",
    "\n",
    "data_path = \"/home/isabella/Workspace/Adrian2015/Public/WH/output/local/readPaul_1_0_J1Pt45+2BTag+TruthGENWZ+Clean_1_perevent+perjet\"\n",
    "\n",
    "for process in processes.split(\",\"):\n",
    "    data_input = data_path+\"/\"+process+\".root\"\n",
    "    treeName = \"perevent\"\n",
    "    file = ROOT.TFile(data_input,\"READ\")\n",
    "    tree = file.Get(treeName)\n",
    "    #nrEvents = tree.GetEntries()\n",
    "    nrEvents = 25\n",
    "\n",
    "    for (i,entry) in enumerate(tree):\n",
    "        if nrEvents>0:\n",
    "            if i>nrEvents:\n",
    "                break\n",
    "                \n",
    "        # variables for EMJESGSCMu j1.     \n",
    "        E1 = tree.j1_EMJESGSCMu_E\n",
    "        Eta1 = tree.j1_EMJESGSCMu_Eta\n",
    "        \n",
    "        # variables for EMJESGSCMu j2.     \n",
    "        E2 = tree.j2_EMJESGSCMu_E\n",
    "        Eta2 = tree.j2_EMJESGSCMu_Eta\n",
    "        \n",
    "        lepton_Eta = tree.lep_DEFAULT_Eta\n",
    "        lepton_E = tree.lep_DEFAULT_E\n",
    "        \n",
    "        Eta1 = abs(Eta1)\n",
    "        Eta2 = abs(Eta2)\n",
    "        print Eta2\n",
    "        if Eta2 < 3.5:\n",
    "            print '<3.5'\n",
    "        #    list_hist_M[0].Fill(E1)\n",
    "            if Eta2 < 3.0:\n",
    "                print \"< 3.0\"\n",
    "        #        list_hist_M[1].Fill(E1)\n",
    "                if Eta2 < 2.5:\n",
    "                    print '<2.5'\n",
    "        #            list_hist_M[2].Fill(E1)\n",
    "                \n",
    "        #if Eta2 < 2.5:\n",
    "            #list_hist_M[0].Fill(E2)\n",
    "        #    if Eta2 < 3.0:\n",
    "        #        list_hist_M[1].Fill(E2)\n",
    "        #        if Eta2 < 3.5:\n",
    "        #            list_hist_M[2].Fill(E2)\n",
    "        \n",
    "        #if process == 'lvbb125':        \n",
    "        #    list_hist_M[0].Fill(PtRel_j1_EMJESGSCMu)\n",
    "        #if process == 'Wbb':\n",
    "        #    list_hist_M[1].Fill(PtRel_j1_EMJESGSCMu)\n",
    "        #if process == 'Wbl':\n",
    "        #    list_hist_M[2].Fill(PtRel_j1_EMJESGSCMu)\n",
    "        #if process == 'Wcc':\n",
    "        #    list_hist_M[3].Fill(PtRel_j1_EMJESGSCMu)\n",
    "        #if process == 'Wcl':\n",
    "        #    list_hist_M[4].Fill(PtRel_j1_EMJESGSCMu)\n",
    "        #if process == 'Wll':\n",
    "        #    list_hist_M[5].Fill(PtRel_j1_EMJESGSCMu)\n",
    "        #if process == 'TTbar':\n",
    "        #    list_hist_M[6].Fill(PtRel_j1_EMJESGSCMu)\n",
    "        #if process == 'WW':\n",
    "        #    list_hist_M[7].Fill(PtRel_j1_EMJESGSCMu)\n",
    "        #if process == 'WZ':\n",
    "        #    list_hist_M[8].Fill(PtRel_j1_EMJESGSCMu)\n",
    "        #if process == 'ZZ':\n",
    "        #    list_hist_M[9].Fill(PtRel_j1_EMJESGSCMu)\n",
    "                \n",
    "clone_list_M = []\n",
    "for hist in list_hist_M:\n",
    "    newhist = hist.Clone()\n",
    "    clone_list_M.append(newhist)\n",
    "    \n",
    "HistogramFunctions.Draw1DHists(list_hist_M,output_path)\n",
    "HistogramFunctions.DrawList1DHistInCanvas(clone_list_M, \"Sum Energy by Eta\", \" Energy \", \"Events\", c)        \n",
    "\n",
    "c"
   ]
  },
  {
   "cell_type": "code",
   "execution_count": 6,
   "metadata": {
    "collapsed": false,
    "deletable": true,
    "editable": true
   },
   "outputs": [],
   "source": [
    "c.Print(output_path+'/plot_junto_encontro_fisica.pdf')"
   ]
  },
  {
   "cell_type": "code",
   "execution_count": 25,
   "metadata": {
    "collapsed": false,
    "deletable": true,
    "editable": true
   },
   "outputs": [
    {
     "data": {
      "image/png": "[encoded data removed]",
      "text/plain": [
       "<ROOT.TCanvas object (\"k\") at 0x2553a70>"
      ]
     },
     "execution_count": 25,
     "metadata": {},
     "output_type": "execute_result"
    }
   ],
   "source": [
    "q = rootnotes.canvas(\"k\", (800, 600))\n",
    "#ROOT.gROOT.Reset()\n",
    "ROOT.gStyle.SetOptStat(0)\n",
    "\n",
    "hs = ROOT.THStack('hs',\"\")\n",
    "leg = ROOT.TLegend(0.9,0.4,0.6,0.9)\n",
    "\n",
    "clone_list_M[1].SetFillStyle(200)\n",
    "clone_list_M[1].SetFillColor(ROOT.kNone)\n",
    "clone_list_M[1].SetFillColor(list_color[1])\n",
    "clone_list_M[1].SetLineColor(ROOT.kBlack)\n",
    "hs.Add(clone_list_M[1])\n",
    "leg.AddEntry(clone_list_M[1],\"Wbb\",\"f\")\n",
    "\n",
    "clone_list_M[2].SetFillStyle(200)\n",
    "clone_list_M[2].SetFillColor(ROOT.kNone)\n",
    "clone_list_M[2].SetFillColor(list_color[2])\n",
    "clone_list_M[2].SetLineColor(ROOT.kBlack)\n",
    "hs.Add(clone_list_M[2])\n",
    "leg.AddEntry(clone_list_M[1],\"Wbl\",\"f\")\n",
    "\n",
    "clone_list_M[3].SetFillStyle(200)\n",
    "clone_list_M[3].SetFillColor(ROOT.kNone)\n",
    "clone_list_M[3].SetFillColor(list_color[3])\n",
    "clone_list_M[3].SetLineColor(ROOT.kBlack)\n",
    "hs.Add(clone_list_M[3])\n",
    "leg.AddEntry(clone_list_M[3],\"Wcc\",\"f\")\n",
    "\n",
    "clone_list_M[4].SetFillStyle(200)\n",
    "clone_list_M[4].SetFillColor(ROOT.kNone)\n",
    "clone_list_M[4].SetFillColor(list_color[4])\n",
    "clone_list_M[4].SetLineColor(ROOT.kBlack)\n",
    "hs.Add(clone_list_M[4])\n",
    "leg.AddEntry(clone_list_M[4],\"Wcl\",\"f\")\n",
    "\n",
    "clone_list_M[5].SetFillStyle(200)\n",
    "clone_list_M[5].SetFillColor(ROOT.kNone)\n",
    "clone_list_M[5].SetFillColor(list_color[5])\n",
    "clone_list_M[5].SetLineColor(ROOT.kBlack)\n",
    "hs.Add(clone_list_M[5])\n",
    "leg.AddEntry(clone_list_M[5],\"Wll\",\"f\")\n",
    "\n",
    "clone_list_M[6].SetFillStyle(200)\n",
    "clone_list_M[6].SetFillColor(ROOT.kNone)\n",
    "clone_list_M[6].SetFillColor(list_color[6])\n",
    "clone_list_M[6].SetLineColor(ROOT.kBlack)\n",
    "hs.Add(clone_list_M[6])\n",
    "leg.AddEntry(clone_list_M[6],\"TTbar\",\"f\")\n",
    "\n",
    "clone_list_M[7].SetFillStyle(200)\n",
    "clone_list_M[7].SetFillColor(ROOT.kNone)\n",
    "clone_list_M[7].SetFillColor(list_color[7])\n",
    "clone_list_M[7].SetLineColor(ROOT.kBlack)\n",
    "hs.Add(clone_list_M[7])\n",
    "leg.AddEntry(clone_list_M[7],\"WW\",\"f\")\n",
    "\n",
    "clone_list_M[8].SetFillStyle(200)\n",
    "clone_list_M[8].SetFillColor(ROOT.kNone)\n",
    "clone_list_M[8].SetFillColor(list_color[8])\n",
    "clone_list_M[8].SetLineColor(ROOT.kBlack)\n",
    "hs.Add(clone_list_M[8])\n",
    "leg.AddEntry(clone_list_M[8],\"WZ\",\"f\")\n",
    "\n",
    "clone_list_M[9].SetFillStyle(200)\n",
    "clone_list_M[9].SetFillColor(ROOT.kNone)\n",
    "clone_list_M[9].SetFillColor(list_color[9])\n",
    "clone_list_M[9].SetLineColor(ROOT.kBlack)\n",
    "hs.Add(clone_list_M[9])\n",
    "leg.AddEntry(clone_list_M[9],\"ZZ\",\"f\")\n",
    "\n",
    "clone_list_M[0].SetFillStyle(200)\n",
    "clone_list_M[0].SetFillColor(ROOT.kNone)\n",
    "clone_list_M[0].SetFillColor(ROOT.kRed)\n",
    "clone_list_M[0].SetLineColor(ROOT.kBlack)\n",
    "hs.Add(clone_list_M[0])\n",
    "leg.AddEntry(clone_list_M[0],\"WH125\",\"f\")\n",
    "\n",
    "hs.Draw();\n",
    "hs.GetXaxis().SetTitle(\"m_{b#bar{b}} [GeV]\");\n",
    "hs.GetYaxis().SetTitle(\"Arbitrary Units\");\n",
    "leg.Draw();\n",
    "#//hs->GetXaxis()->SetRangeUser(50.,150.);\n",
    "#gPad.Modified();\n",
    "q.Print(output_path+'/stacked_ENFPC.pdf')\n",
    "q"
   ]
  },
  {
   "cell_type": "code",
   "execution_count": 37,
   "metadata": {
    "collapsed": true,
    "deletable": true,
    "editable": true
   },
   "outputs": [],
   "source": []
  },
  {
   "cell_type": "code",
   "execution_count": 35,
   "metadata": {
    "collapsed": false,
    "deletable": true,
    "editable": true,
    "scrolled": true
   },
   "outputs": [
    {
     "data": {
      "image/png": "[encoded data removed]",
      "text/plain": [
       "<ROOT.TCanvas object (\"k\") at 0xa07abf0>"
      ]
     },
     "execution_count": 35,
     "metadata": {},
     "output_type": "execute_result"
    }
   ],
   "source": [
    "q = rootnotes.canvas(\"k\", (800, 600))\n",
    "#ROOT.gROOT.Reset()\n",
    "ROOT.gStyle.SetOptStat(0)\n",
    "clone_list_M[1].SetFillStyle(200)\n",
    "clone_list_M[1].SetFillColor(ROOT.kNone)\n",
    "clone_list_M[1].SetFillColor(ROOT.kRed)\n",
    "clone_list_M[1].Draw()\n",
    "q"
   ]
  },
  {
   "cell_type": "code",
   "execution_count": null,
   "metadata": {
    "collapsed": true,
    "deletable": true,
    "editable": true
   },
   "outputs": [],
   "source": []
  },
  {
   "cell_type": "code",
   "execution_count": 9,
   "metadata": {
    "collapsed": false,
    "deletable": true,
    "editable": true
   },
   "outputs": [
    {
     "name": "stdout",
     "output_type": "stream",
     "text": [
      "64587.0\n",
      "4948.0\n"
     ]
    }
   ],
   "source": [
    "c.Print(output_path+'/predictPlot.pdf')\n",
    "print list_hist_M[0].GetEntries()\n",
    "print list_hist_M[1].GetEntries()"
   ]
  }
 ],
 "metadata": {
  "kernelspec": {
   "display_name": "Python 2",
   "language": "python",
   "name": "python2"
  },
  "language_info": {
   "codemirror_mode": {
    "name": "ipython",
    "version": 2
   },
   "file_extension": ".py",
   "mimetype": "text/x-python",
   "name": "python",
   "nbconvert_exporter": "python",
   "pygments_lexer": "ipython2",
   "version": "2.7.6"
  }
 },
 "nbformat": 4,
 "nbformat_minor": 1
}
