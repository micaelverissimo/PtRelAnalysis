{
 "cells": [
  {
   "cell_type": "code",
   "execution_count": 1,
   "metadata": {
    "collapsed": false
   },
   "outputs": [
    {
     "name": "stdout",
     "output_type": "stream",
     "text": [
      "ok!\n"
     ]
    }
   ],
   "source": [
    "# Import all library.\n",
    "\n",
    "import ROOT\n",
    "import numpy as np\n",
    "import matplotlib.pyplot as plt\n",
    "from functions import HistogramFunctions,AuxiliarFunctions,FigureFunctions,FitFunctions,rootnotes\n",
    "\n",
    "\n",
    "ROOT.gROOT.Reset()\n",
    "ROOT.gStyle.SetOptStat(0)\n",
    "\n",
    "print \"ok!\""
   ]
  },
  {
   "cell_type": "code",
   "execution_count": 2,
   "metadata": {
    "collapsed": false
   },
   "outputs": [],
   "source": [
    "\n",
    "#processes = \"lvbb125,TTbar,Wbb,Wbl,Wll,Wcl,Wcc,WW,WZ,ZZ\"\n",
    "processes = \"lvbb125\"\n",
    "output = \"/home/micael/MyWorkspace/DATA\"\n",
    "\n",
    "data_path = \"/home/micael/MyWorkspace/DATA\"\n",
    "\n",
    "# for histograms\n",
    "bins = 60\n",
    "m_max = 300\n",
    "m_min = 0\n",
    "\n",
    "ylabel = \"Occurrences\"\n",
    "\n",
    "# Use Colors\n",
    "list_color = []\n",
    "list_color.append(ROOT.kBlue) # For truth\n",
    "list_color.append(ROOT.kRed) \n",
    "#list_color.append(ROOT.kGreen)\n",
    "#list_color.append(ROOT.kRed+2)\n",
    "#list_color.append(ROOT.kRed+3)\n",
    "#list_color.append(ROOT.kRed+4)\n",
    "#end list of colors\n",
    "\n",
    "#  Make a list of mass histogram\n",
    "list_inf_M = []\n",
    "\n",
    "hist_inf = HistogramFunctions.OneDimHistInfo(\"Truth Mass \",\"h_lvbb_M_truth\",bins,m_min,m_max,\"Invariant Mass\",ylabel)\n",
    "list_inf_M.append(hist_inf)\n",
    "hist_inf = HistogramFunctions.OneDimHistInfo(\"Reco Mass \",\"h_lvbb_M_reco\",bins,m_min,m_max,\"Invariant Mass\",ylabel)\n",
    "list_inf_M.append(hist_inf)\n",
    "\n",
    "list_hist_M = HistogramFunctions.CreateListOf1DHistograms(list_inf_M,list_color)\n",
    "\n",
    "c = rootnotes.canvas(\"c\", (800, 600))\n",
    "\n"
   ]
  },
  {
   "cell_type": "code",
   "execution_count": 5,
   "metadata": {
    "collapsed": false
   },
   "outputs": [
    {
     "data": {
      "image/png": "[encoded data removed]",
      "text/plain": [
       "<ROOT.TCanvas object (\"c\") at 0x321e730>"
      ]
     },
     "execution_count": 5,
     "metadata": {},
     "output_type": "execute_result"
    }
   ],
   "source": [
    "for process in processes.split(\",\"):\n",
    "    data_input = data_path+\"/\"+process+\".root\"\n",
    "    treeName = \"perevent\"\n",
    "    file = ROOT.TFile(data_input,\"READ\")\n",
    "    tree = file.Get(treeName)\n",
    "    nrEvents = tree.GetEntries()\n",
    "    #nrEvents = 10\n",
    "    \n",
    "    for (i,entry) in enumerate(tree):\n",
    "        if nrEvents>0:\n",
    "            if i>nrEvents:\n",
    "                break\n",
    "            # ==== Trtuh ======== #  \n",
    "            j1Truth_LV = ROOT.TLorentzVector()\n",
    "            j2Truth_LV = ROOT.TLorentzVector()\n",
    "        \n",
    "            j1Truth_pt = tree.j1_GENWZ_Pt\n",
    "            j1Truth_phi = tree.j1_GENWZ_Phi\n",
    "            j1Truth_eta = tree.j1_GENWZ_Eta\n",
    "            j1Truth_e = tree.j1_GENWZ_E\n",
    "            \n",
    "            j2Truth_pt = tree.j2_GENWZ_Pt\n",
    "            j2Truth_phi = tree.j2_GENWZ_Phi\n",
    "            j2Truth_eta = tree.j2_GENWZ_Eta\n",
    "            j2Truth_e = tree.j2_GENWZ_E\n",
    "            \n",
    "            j1Truth_LV.SetPtEtaPhiE(j1Truth_pt,j1Truth_eta,j1Truth_phi,j1Truth_e)\n",
    "            j2Truth_LV.SetPtEtaPhiE(j2Truth_pt,j2Truth_eta,j2Truth_phi,j2Truth_e)\n",
    "            \n",
    "            dijetTruth_LV = j1Truth_LV + j2Truth_LV\n",
    "            MassTruth = dijetTruth_LV.M()\n",
    "            \n",
    "            #====== Reco =========\n",
    "            j1_LV = ROOT.TLorentzVector()\n",
    "            j2_LV = ROOT.TLorentzVector()\n",
    "        \n",
    "            j1_pt = tree.j1_EMJESGSCMu_Pt\n",
    "            j1_phi = tree.j1_EMJESGSCMu_Phi\n",
    "            j1_eta = tree.j1_EMJESGSCMu_Eta\n",
    "            j1_e = tree.j1_EMJESGSCMu_E\n",
    "            \n",
    "            j2_pt = tree.j2_EMJESGSCMu_Pt\n",
    "            j2_phi = tree.j2_EMJESGSCMu_Phi\n",
    "            j2_eta = tree.j2_EMJESGSCMu_Eta\n",
    "            j2_e = tree.j2_EMJESGSCMu_E\n",
    "            \n",
    "            j1_LV.SetPtEtaPhiE(j1_pt,j1_eta,j1_phi,j1_e)\n",
    "            j2_LV.SetPtEtaPhiE(j2_pt,j2_eta,j2_phi,j2_e)\n",
    "            \n",
    "            dijet_LV = j1_LV + j2_LV\n",
    "            Mass = dijet_LV.M()\n",
    "            \n",
    "            list_hist_M[0].Fill(MassTruth)\n",
    "            list_hist_M[1].Fill(Mass)\n",
    "\n",
    "clone_list_M = []\n",
    "for hist in list_hist_M:\n",
    "    newhist = hist.Clone()\n",
    "    clone_list_M.append(newhist)\n",
    "HistogramFunctions.Draw1DHists(list_hist_M,output)\n",
    "HistogramFunctions.DrawList1DHistInCanvas(clone_list_M, \"Mass Plot\", \" Invariant Mass \", \"Events\", c)        \n",
    "\n",
    "c"
   ]
  },
  {
   "cell_type": "code",
   "execution_count": null,
   "metadata": {
    "collapsed": true
   },
   "outputs": [],
   "source": [
    "HistogramFunctions.Draw1DHistInCanvas(list_hist_M,0,c)"
   ]
  },
  {
   "cell_type": "code",
   "execution_count": null,
   "metadata": {
    "collapsed": false
   },
   "outputs": [],
   "source": [
    "c"
   ]
  }
 ],
 "metadata": {
  "kernelspec": {
   "display_name": "Python 2",
   "language": "python",
   "name": "python2"
  },
  "language_info": {
   "codemirror_mode": {
    "name": "ipython",
    "version": 2
   },
   "file_extension": ".py",
   "mimetype": "text/x-python",
   "name": "python",
   "nbconvert_exporter": "python",
   "pygments_lexer": "ipython2",
   "version": "2.7.12"
  }
 },
 "nbformat": 4,
 "nbformat_minor": 1
}
