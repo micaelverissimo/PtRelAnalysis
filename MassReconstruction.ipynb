{
 "cells": [
  {
   "cell_type": "code",
   "execution_count": 1,
   "metadata": {
    "collapsed": false
   },
   "outputs": [
    {
     "name": "stdout",
     "output_type": "stream",
     "text": [
      "ok!\n"
     ]
    }
   ],
   "source": [
    "# Import all library.\n",
    "\n",
    "import ROOT\n",
    "import numpy as np\n",
    "import matplotlib.pyplot as plt\n",
    "from functions import HistogramFunctions,AuxiliarFunctions,FigureFunctions,FitFunctions,rootnotes\n",
    "\n",
    "\n",
    "ROOT.gROOT.Reset()\n",
    "ROOT.gStyle.SetOptStat(0)\n",
    "\n",
    "print \"ok!\""
   ]
  },
  {
   "cell_type": "code",
   "execution_count": 2,
   "metadata": {
    "collapsed": false
   },
   "outputs": [
    {
     "name": "stdout",
     "output_type": "stream",
     "text": [
      "(191100, 13)\n"
     ]
    },
    {
     "data": {
      "text/plain": [
       "array([[  9.52196307e-03,   6.12077856e-05,   1.65209174e-02, ...,\n",
       "          9.21870469e+01,   5.98104895e+01,   6.10195977e+01],\n",
       "       [  1.67018827e-02,   1.13179535e-01,   9.47747454e-02, ...,\n",
       "          1.07602320e+02,   5.98104895e+01,   6.44654687e+01],\n",
       "       [  8.95111356e-03,   9.14592529e-05,   8.82276613e-03, ...,\n",
       "          3.70010500e+02,   4.97765697e+01,   1.06724656e+02],\n",
       "       ..., \n",
       "       [  1.62160210e-02,   5.48769441e-03,   2.28184238e-02, ...,\n",
       "          3.86259570e+01,   3.57536859e+01,   3.39022539e+01],\n",
       "       [  1.42509257e-02,   1.21706940e-01,   4.58930284e-02, ...,\n",
       "          1.07292875e+02,   5.50991584e+01,   9.68779375e+01],\n",
       "       [  1.58070903e-02,   4.79239076e-02,   1.20003656e-01, ...,\n",
       "          6.82103906e+01,   5.50991584e+01,   5.35117266e+01]])"
      ]
     },
     "execution_count": 2,
     "metadata": {},
     "output_type": "execute_result"
    }
   ],
   "source": [
    "# Confirm our array shape\n",
    "path = \"/home/micael/MyWorkspace/DATA\"\n",
    "data = np.load(path+\"/\"+\"lvbb125Array.npy\")\n",
    "data_target = data[:,[12]]\n",
    "\n",
    "data_inputs = data[:,:12]\n",
    "data_inputs_noPtRel = data[:,:11]\n",
    "print data.shape\n",
    "data"
   ]
  },
  {
   "cell_type": "code",
   "execution_count": 3,
   "metadata": {
    "collapsed": false
   },
   "outputs": [
    {
     "name": "stdout",
     "output_type": "stream",
     "text": [
      "(191100, 12)\n"
     ]
    },
    {
     "data": {
      "text/plain": [
       "array([[  9.52196307e-03,   6.12077856e-05,   1.65209174e-02, ...,\n",
       "         -1.83297706e+00,   9.21870469e+01,   5.98104895e+01],\n",
       "       [  1.67018827e-02,   1.13179535e-01,   9.47747454e-02, ...,\n",
       "          1.78017831e+00,   1.07602320e+02,   5.98104895e+01],\n",
       "       [  8.95111356e-03,   9.14592529e-05,   8.82276613e-03, ...,\n",
       "          5.18436611e-01,   3.70010500e+02,   4.97765697e+01],\n",
       "       ..., \n",
       "       [  1.62160210e-02,   5.48769441e-03,   2.28184238e-02, ...,\n",
       "         -2.27387905e+00,   3.86259570e+01,   3.57536859e+01],\n",
       "       [  1.42509257e-02,   1.21706940e-01,   4.58930284e-02, ...,\n",
       "         -1.46886933e+00,   1.07292875e+02,   5.50991584e+01],\n",
       "       [  1.58070903e-02,   4.79239076e-02,   1.20003656e-01, ...,\n",
       "         -3.02542996e+00,   6.82103906e+01,   5.50991584e+01]])"
      ]
     },
     "execution_count": 3,
     "metadata": {},
     "output_type": "execute_result"
    }
   ],
   "source": [
    "print data_inputs.shape\n",
    "data_inputs"
   ]
  },
  {
   "cell_type": "code",
   "execution_count": 4,
   "metadata": {
    "collapsed": false
   },
   "outputs": [
    {
     "name": "stdout",
     "output_type": "stream",
     "text": [
      "(191100, 1)\n"
     ]
    },
    {
     "data": {
      "text/plain": [
       "array([[  61.01959766],\n",
       "       [  64.46546875],\n",
       "       [ 106.72465625],\n",
       "       ..., \n",
       "       [  33.90225391],\n",
       "       [  96.8779375 ],\n",
       "       [  53.51172656]])"
      ]
     },
     "execution_count": 4,
     "metadata": {},
     "output_type": "execute_result"
    }
   ],
   "source": [
    "print data_target.shape\n",
    "data_target"
   ]
  },
  {
   "cell_type": "code",
   "execution_count": 5,
   "metadata": {
    "collapsed": false
   },
   "outputs": [
    {
     "name": "stderr",
     "output_type": "stream",
     "text": [
      "Using Theano backend.\n",
      "Using gpu device 0: GeForce 920M (CNMeM is disabled, cuDNN not available)\n"
     ]
    },
    {
     "name": "stdout",
     "output_type": "stream",
     "text": [
      "OK! 46.6801470424\n"
     ]
    }
   ],
   "source": [
    "# Train NN\n",
    "#from Functions import LogFunctions as log\n",
    "from sklearn import cross_validation\n",
    "from sklearn import preprocessing\n",
    "\n",
    "from keras.models import Sequential\n",
    "from keras.layers.core import Dense, Dropout, Activation\n",
    "from keras.optimizers import SGD\n",
    "import keras.callbacks as callbacks\n",
    "from keras.utils import np_utils\n",
    "\n",
    "from datetime import datetime  \n",
    "from datetime import timedelta \n",
    "import random\n",
    "\n",
    "\n",
    "test_id= random.sample(range(data_inputs.shape[0]),int(np.floor(0.1*data_target.shape[0])))\n",
    "lista_id = np.asarray(range(0, data_inputs.shape[0]))\n",
    "all_id = np.ndarray.tolist(lista_id)\n",
    "train_id = list(set(lista_id) - set(test_id))\n",
    "\n",
    "scaler = preprocessing.StandardScaler().fit(data_inputs[train_id,:])\n",
    "scaler_noPtRel = preprocessing.StandardScaler().fit(data_inputs_noPtRel[train_id,:])\n",
    "\n",
    "[freq, target_values] = np.histogram(data_target[train_id],\n",
    "             bins=np.linspace(data_target[train_id].min(),data_target[train_id].max(),50))\n",
    "\n",
    "MOP = target_values[np.argmax(freq)]\n",
    "\n",
    "print \"OK!\", MOP"
   ]
  },
  {
   "cell_type": "code",
   "execution_count": 6,
   "metadata": {
    "collapsed": false
   },
   "outputs": [
    {
     "name": "stdout",
     "output_type": "stream",
     "text": [
      "Model LOAD!\n"
     ]
    }
   ],
   "source": [
    "from keras.models import load_model\n",
    "model=load_model(path+\"/NN_outputs/\"+\"Modelv6.h5\")\n",
    "modelNOPTREL=load_model(path+\"/NN_outputs/\"+\"ModelvNOPTREL.h5\")\n",
    "print \"Model LOAD!\""
   ]
  },
  {
   "cell_type": "code",
   "execution_count": 7,
   "metadata": {
    "collapsed": false
   },
   "outputs": [
    {
     "data": {
      "text/plain": [
       "[<ROOT.TH1F object (\"h_lvbb_M_truth\") at 0xb939420>,\n",
       " <ROOT.TH1F object (\"h_lvbb_M_reco\") at 0xb93a370>,\n",
       " <ROOT.TH1F object (\"h_lvbb_M_NN\") at 0xb93a9f0>,\n",
       " <ROOT.TH1F object (\"h_lvbb_M_NNnoPtRel\") at 0xb93b0c0>]"
      ]
     },
     "execution_count": 7,
     "metadata": {},
     "output_type": "execute_result"
    }
   ],
   "source": [
    "\n",
    "#processes = \"lvbb125,TTbar,Wbb,Wbl,Wll,Wcl,Wcc,WW,WZ,ZZ\"\n",
    "processes = \"lvbb125\"\n",
    "output = \"/home/micael/MyWorkspace/DATA\"\n",
    "\n",
    "data_path = \"/home/micael/MyWorkspace/DATA\"\n",
    "\n",
    "# for histograms\n",
    "bins = 60\n",
    "m_max = 300\n",
    "m_min = 0\n",
    "\n",
    "ylabel = \"Occurrences\"\n",
    "\n",
    "# Use Colors\n",
    "list_color = []\n",
    "list_color.append(ROOT.kBlue) # For truth\n",
    "list_color.append(ROOT.kRed) \n",
    "list_color.append(ROOT.kGreen)\n",
    "#test two models\n",
    "list_color.append(ROOT.kMagenta)\n",
    "#list_color.append(ROOT.kRed+2)\n",
    "#list_color.append(ROOT.kRed+3)\n",
    "#list_color.append(ROOT.kRed+4)\n",
    "#end list of colors\n",
    "\n",
    "#  Make a list of mass histogram\n",
    "list_inf_M = []\n",
    "\n",
    "hist_inf = HistogramFunctions.OneDimHistInfo(\"Truth Mass \",\"h_lvbb_M_truth\",bins,m_min,m_max,\"Invariant Mass\",ylabel)\n",
    "list_inf_M.append(hist_inf)\n",
    "\n",
    "hist_inf = HistogramFunctions.OneDimHistInfo(\"Reco Mass \",\"h_lvbb_M_reco\",bins,m_min,m_max,\"Invariant Mass\",ylabel)\n",
    "list_inf_M.append(hist_inf)\n",
    "\n",
    "hist_inf = HistogramFunctions.OneDimHistInfo(\"NN Mass \",\"h_lvbb_M_NN\",bins,m_min,m_max,\"Invariant Mass\",ylabel)\n",
    "list_inf_M.append(hist_inf)\n",
    "\n",
    "hist_inf = HistogramFunctions.OneDimHistInfo(\"NNnoPtRel Mass \",\"h_lvbb_M_NNnoPtRel\",bins,m_min,m_max,\"Invariant Mass\",ylabel)\n",
    "list_inf_M.append(hist_inf)\n",
    "\n",
    "list_hist_M = HistogramFunctions.CreateListOf1DHistograms(list_inf_M,list_color)\n",
    "\n",
    "c = rootnotes.canvas(\"c\", (800, 600))\n",
    "\n",
    "list_hist_M"
   ]
  },
  {
   "cell_type": "code",
   "execution_count": 8,
   "metadata": {
    "collapsed": false
   },
   "outputs": [
    {
     "data": {
      "image/png": "[encoded data removed]",
      "text/plain": [
       "<ROOT.TCanvas object (\"c\") at 0xb2296b0>"
      ]
     },
     "execution_count": 8,
     "metadata": {},
     "output_type": "execute_result"
    }
   ],
   "source": [
    "data_input = data_path+\"/\"+\"lvbb125.root\"\n",
    "treeName = \"perevent\"\n",
    "file = ROOT.TFile(data_input,\"READ\")\n",
    "tree = file.Get(treeName)\n",
    "nrEvents = tree.GetEntries()\n",
    "#nrEvents = 4\n",
    "\n",
    "#Corrections = [\"GENWZ\",\"EMJESGSCMu\"]\n",
    "#for (j,Correction) in enumerate(Corrections):   \n",
    "#    for (i,entry) in enumerate(tree):\n",
    "#        if Correction == \"GENWZ\":\n",
    "#            list_hist_M[0].Fill(getattr(entry,\"j1j2_\"+Correction+\"_M\"))\n",
    "#        else:\n",
    "#            list_hist_M[1].Fill(getattr(entry,\"j1j2_\"+Correction+\"_M\"))\n",
    "#        \n",
    "#    for (i,entry) in enumerate(tree):\n",
    "#        if nrEvents>0:\n",
    "#            if i>nrEvents:\n",
    "#                break\n",
    "#        if Correction == \"GENWZ\":\n",
    "#            continue\n",
    "#        else:\n",
    "    \n",
    "for (i,entry) in enumerate(tree):\n",
    "    if nrEvents>0:\n",
    "        if i>nrEvents:\n",
    "            break\n",
    "            # ==== Trtuh ======== #  \n",
    "        j1Truth_LV = ROOT.TLorentzVector()\n",
    "        j2Truth_LV = ROOT.TLorentzVector()\n",
    "        \n",
    "        j1Truth_pt = tree.j1_GENWZ_Pt\n",
    "        j1Truth_phi = tree.j1_GENWZ_Phi\n",
    "        j1Truth_eta = tree.j1_GENWZ_Eta\n",
    "        j1Truth_e = tree.j1_GENWZ_E\n",
    "            \n",
    "        j2Truth_pt = tree.j2_GENWZ_Pt\n",
    "        j2Truth_phi = tree.j2_GENWZ_Phi\n",
    "        j2Truth_eta = tree.j2_GENWZ_Eta\n",
    "        j2Truth_e = tree.j2_GENWZ_E\n",
    "            \n",
    "        j1Truth_LV.SetPtEtaPhiE(j1Truth_pt,j1Truth_eta,j1Truth_phi,j1Truth_e)\n",
    "        j2Truth_LV.SetPtEtaPhiE(j2Truth_pt,j2Truth_eta,j2Truth_phi,j2Truth_e)\n",
    "            \n",
    "        dijetTruth_LV = j1Truth_LV + j2Truth_LV\n",
    "        MassTruth = dijetTruth_LV.M()\n",
    "            \n",
    "            #====== Reco =========\n",
    "        j1Reco_LV = ROOT.TLorentzVector()\n",
    "        j2Reco_LV = ROOT.TLorentzVector()\n",
    "        \n",
    "        j1_pt = tree.j1_EMJESGSCMu_Pt\n",
    "        j1_phi = tree.j1_EMJESGSCMu_Phi\n",
    "        j1_eta = tree.j1_EMJESGSCMu_Eta\n",
    "        j1_e = tree.j1_EMJESGSCMu_E\n",
    "            \n",
    "        j2_pt = tree.j2_EMJESGSCMu_Pt\n",
    "        j2_phi = tree.j2_EMJESGSCMu_Phi\n",
    "        j2_eta = tree.j2_EMJESGSCMu_Eta\n",
    "        j2_e = tree.j2_EMJESGSCMu_E\n",
    "            \n",
    "        j1Reco_LV.SetPtEtaPhiE(j1_pt,j1_eta,j1_phi,j1_e)\n",
    "        j2Reco_LV.SetPtEtaPhiE(j2_pt,j2_eta,j2_phi,j2_e)\n",
    "            \n",
    "        dijetReco_LV = j1Reco_LV + j2Reco_LV\n",
    "        MassReco = dijetReco_LV.M()\n",
    "        \n",
    "            #========= NN =========\n",
    "            \n",
    "        j1_LV = ROOT.TLorentzVector()\n",
    "        j2_LV = ROOT.TLorentzVector()\n",
    "        \n",
    "        j1_LVnoPtRel = ROOT.TLorentzVector()\n",
    "        j2_LVnoPtRel = ROOT.TLorentzVector()\n",
    "            \n",
    "            #=============================================================================\n",
    "            #=======================EMJESGSCMu========================================\n",
    "            # variables for EMJESGSCMu j1.     \n",
    "        E1_EMJESGSCMu = tree.j1_EMJESGSCMu_E\n",
    "        Phi1_EMJESGSCMu = tree.j1_EMJESGSCMu_Phi\n",
    "        Eta1_EMJESGSCMu = tree.j1_EMJESGSCMu_Eta\n",
    "        Pt1_EMJESGSCMu = tree.j1_EMJESGSCMu_Pt\n",
    "    \n",
    "            # variables for EMJESGSCMu j2.     \n",
    "        E2_EMJESGSCMu = tree.j2_EMJESGSCMu_E\n",
    "        Phi2_EMJESGSCMu = tree.j2_EMJESGSCMu_Phi\n",
    "        Eta2_EMJESGSCMu = tree.j2_EMJESGSCMu_Eta\n",
    "        Pt2_EMJESGSCMu = tree.j2_EMJESGSCMu_Pt\n",
    "    \n",
    "            # PtRel in EMJESGSCMu\n",
    "        Theta1_EMJESGSCMu = AuxiliarFunctions.theta(Eta1_EMJESGSCMu)\n",
    "        Comp1_EMJESGSCMu = AuxiliarFunctions.Componets(E1_EMJESGSCMu,Eta1_EMJESGSCMu,Phi1_EMJESGSCMu,Theta1_EMJESGSCMu)\n",
    "        norm1_EMJESGSCMu = AuxiliarFunctions.norm(Comp1_EMJESGSCMu)\n",
    "\n",
    "        Theta2_EMJESGSCMu = AuxiliarFunctions.theta(Eta2_EMJESGSCMu)\n",
    "        Comp2_EMJESGSCMu = AuxiliarFunctions.Componets(E2_EMJESGSCMu,Eta2_EMJESGSCMu,Phi2_EMJESGSCMu,Theta2_EMJESGSCMu)\n",
    "        norm2_EMJESGCMu = AuxiliarFunctions.norm(Comp2_EMJESGSCMu)\n",
    "    \n",
    "            # sum of components.\n",
    "        Comp3_EMJESGSCMu = AuxiliarFunctions.somaComponents(Comp1_EMJESGSCMu,Comp2_EMJESGSCMu)\n",
    "        norm3_EMJESGSCMu = AuxiliarFunctions.norm(Comp3_EMJESGSCMu)\n",
    "        numerador1_EMJESGSCMu = AuxiliarFunctions.numerador(Comp1_EMJESGSCMu,Comp3_EMJESGSCMu)    \n",
    "        angle1_EMJESGSCMu = AuxiliarFunctions.alpha(numerador1_EMJESGSCMu,norm1_EMJESGSCMu,norm3_EMJESGSCMu)\n",
    "    \n",
    "            #compute Relative Pt\n",
    "        PtRel_j1_EMJESGSCMu = AuxiliarFunctions.PtRelative(E1_EMJESGSCMu,angle1_EMJESGSCMu)\n",
    "    \n",
    "        j1_FracEM3 = tree.j1_FracEM3\n",
    "        j1_FracTile0 = tree.j1_FracTile0\n",
    "        j1_TrkWidth = tree.j1_TrkWidth\n",
    "        j1_EMF = tree.j1_EMF\n",
    "        j1_JVF = tree.j1_JVF\n",
    "        j1_NTrk = tree.j1_NTrk \n",
    "        j1_SumPtTrk = tree.j1_SumPtTrk\n",
    "            # only for EM and j2.\n",
    "        j2_FracEM3 = tree.j2_FracEM3\n",
    "        j2_FracTile0 = tree.j2_FracTile0\n",
    "        j2_TrkWidth = tree.j2_TrkWidth\n",
    "        j2_EMF = tree.j2_EMF\n",
    "        j2_JVF = tree.j2_JVF\n",
    "        j2_NTrk = tree.j2_NTrk \n",
    "        j2_SumPtTrk = tree.j2_SumPtTrk\n",
    "    \n",
    "        # Create a numpy array with all data and normalize then\n",
    "        # ========= with PtRel =================\n",
    "        j1 = np.array([j1_FracEM3, j1_FracTile0, j1_TrkWidth, j1_EMF, j1_JVF, j1_NTrk,\n",
    "                              j1_SumPtTrk, Pt1_EMJESGSCMu, Eta1_EMJESGSCMu, Phi1_EMJESGSCMu, \n",
    "                              E1_EMJESGSCMu, PtRel_j1_EMJESGSCMu])\n",
    "        \n",
    "        V_j1 = np.reshape(j1, (1,12))\n",
    "        norm_j1_data = scaler.transform(V_j1)\n",
    "            \n",
    "        j2 = np.array([j2_FracEM3, j2_FracTile0, j2_TrkWidth, j2_EMF, j2_JVF, j2_NTrk,\n",
    "                             j2_SumPtTrk, Pt2_EMJESGSCMu, Eta2_EMJESGSCMu, Phi2_EMJESGSCMu,\n",
    "                             E2_EMJESGSCMu, PtRel_j1_EMJESGSCMu])\n",
    "        \n",
    "        V_j2 = np.reshape(j2, (1,12))\n",
    "        norm_j2_data = scaler.transform(V_j2)\n",
    "        \n",
    "        # ========= without PtRel ==============\n",
    "        \n",
    "        j1noPtRel = np.array([j1_FracEM3, j1_FracTile0, j1_TrkWidth, j1_EMF, j1_JVF, j1_NTrk,\n",
    "                              j1_SumPtTrk, Pt1_EMJESGSCMu, Eta1_EMJESGSCMu, Phi1_EMJESGSCMu, \n",
    "                              E1_EMJESGSCMu])\n",
    "        \n",
    "        V_j1noPtRel = np.reshape(j1noPtRel, (1,11))\n",
    "        norm_j1noPtRel_data = scaler_noPtRel.transform(V_j1noPtRel)\n",
    "            \n",
    "        j2noPtRel = np.array([j2_FracEM3, j2_FracTile0, j2_TrkWidth, j2_EMF, j2_JVF, j2_NTrk,\n",
    "                             j2_SumPtTrk, Pt2_EMJESGSCMu, Eta2_EMJESGSCMu, Phi2_EMJESGSCMu,\n",
    "                             E2_EMJESGSCMu])\n",
    "        \n",
    "        V_j2noPtRel = np.reshape(j2noPtRel, (1,11))\n",
    "        norm_j2noPtRel_data = scaler_noPtRel.transform(V_j2noPtRel)\n",
    "        \n",
    "        # ========= end ==========\n",
    "        # ========= Predict in two models =======\n",
    "        Pt1_cor = model.predict(norm_j1_data, batch_size=8, verbose=0)*MOP\n",
    "        Pt2_cor = model.predict(norm_j2_data, batch_size=8, verbose=0)*MOP\n",
    "        \n",
    "        Pt1noPtRel_cor = modelNOPTREL.predict(norm_j1noPtRel_data, batch_size=8, verbose=0)*MOP\n",
    "        Pt2noPtRel_cor = modelNOPTREL.predict(norm_j2noPtRel_data, batch_size=8, verbose=0)*MOP\n",
    "        \n",
    "        # ========== end ==========\n",
    "        # ========== Set the LorentzVectors ============\n",
    "        \n",
    "        j1_LV.SetPtEtaPhiE((Pt1_cor/Pt1_EMJESGSCMu)*Pt1_EMJESGSCMu,\n",
    "                           Eta1_EMJESGSCMu, Phi1_EMJESGSCMu,(Pt1_cor/Pt1_EMJESGSCMu)*E1_EMJESGSCMu)\n",
    "        j2_LV.SetPtEtaPhiE((Pt2_cor/Pt2_EMJESGSCMu)*Pt2_EMJESGSCMu,\n",
    "                           Eta2_EMJESGSCMu, Phi2_EMJESGSCMu,(Pt2_cor/Pt2_EMJESGSCMu)*E2_EMJESGSCMu)\n",
    "        \n",
    "        # ========= Withou PtRel =============\n",
    "        \n",
    "        j1_LVnoPtRel.SetPtEtaPhiE((Pt1noPtRel_cor/Pt1_EMJESGSCMu)*Pt1_EMJESGSCMu,\n",
    "                           Eta1_EMJESGSCMu, Phi1_EMJESGSCMu,(Pt1noPtRel_cor/Pt1_EMJESGSCMu)*E1_EMJESGSCMu)\n",
    "        j2_LVnoPtRel.SetPtEtaPhiE((Pt2noPtRel_cor/Pt2_EMJESGSCMu)*Pt2_EMJESGSCMu,\n",
    "                           Eta2_EMJESGSCMu, Phi2_EMJESGSCMu,(Pt2noPtRel_cor/Pt2_EMJESGSCMu)*E2_EMJESGSCMu)\n",
    "        \n",
    "        # ========= end ===============\n",
    "        # ========= extract the dijet Mass ==========\n",
    "        \n",
    "        dijet_LV = j1_LV + j2_LV\n",
    "        MassNN = dijet_LV.M()\n",
    "        \n",
    "        dijet_LVnoPtRel = j1_LVnoPtRel + j2_LVnoPtRel\n",
    "        MassNNnoPtRel = dijet_LVnoPtRel.M()\n",
    "        \n",
    "        # ========= end ===========\n",
    "        # ========= Fill the Mass Histogram ======\n",
    "        list_hist_M[0].Fill(MassTruth)\n",
    "        list_hist_M[1].Fill(MassReco)\n",
    "        list_hist_M[2].Fill(MassNN)\n",
    "        list_hist_M[3].Fill(MassNNnoPtRel)\n",
    "clone_list_M = []\n",
    "for hist in list_hist_M:\n",
    "    newhist = hist.Clone()\n",
    "    clone_list_M.append(newhist)\n",
    "HistogramFunctions.Draw1DHists(list_hist_M,output)\n",
    "HistogramFunctions.DrawList1DHistInCanvas(clone_list_M, \"Mass Plot\", \" Invariant Mass \", \"Events\", c)        \n",
    "\n",
    "c"
   ]
  },
  {
   "cell_type": "code",
   "execution_count": 9,
   "metadata": {
    "collapsed": true
   },
   "outputs": [],
   "source": [
    "c.Print(path+'/'+'CompareMassv1.pdf')"
   ]
  },
  {
   "cell_type": "code",
   "execution_count": null,
   "metadata": {
    "collapsed": false
   },
   "outputs": [],
   "source": []
  }
 ],
 "metadata": {
  "kernelspec": {
   "display_name": "Python 2",
   "language": "python",
   "name": "python2"
  },
  "language_info": {
   "codemirror_mode": {
    "name": "ipython",
    "version": 2
   },
   "file_extension": ".py",
   "mimetype": "text/x-python",
   "name": "python",
   "nbconvert_exporter": "python",
   "pygments_lexer": "ipython2",
   "version": "2.7.12"
  }
 },
 "nbformat": 4,
 "nbformat_minor": 1
}
