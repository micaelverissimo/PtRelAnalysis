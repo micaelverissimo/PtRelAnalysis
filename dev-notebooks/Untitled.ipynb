{
 "cells": [
  {
   "cell_type": "code",
   "execution_count": 1,
   "metadata": {},
   "outputs": [
    {
     "name": "stdout",
     "output_type": "stream",
     "text": [
      "ok!\n"
     ]
    }
   ],
   "source": [
    "import ROOT\n",
    "import math\n",
    "\n",
    "import numpy as np\n",
    "import pickle\n",
    "import matplotlib.pyplot as plt\n",
    "from functions import HistogramFunctions,AuxiliarFunctions,FigureFunctions,FitFunctions,rootnotes\n",
    "import root_numpy\n",
    "import sys\n",
    "sys.path.insert(0, '/home/micael/MyWorkspace/ICA/Functions')\n",
    "import StatisticalAnalysis\n",
    "\n",
    "\n",
    "ROOT.gROOT.Reset()\n",
    "ROOT.gStyle.SetOptStat(0)\n",
    "\n",
    "print \"ok!\"\n",
    "caminho = '/home/micael/MyWorkspace/DATA/trabalho_CPE721'\n",
    "\n",
    "massa_array = np.load(caminho+'/'+'Mass_Matrix.npy')\n",
    "Mass = massa_array.T"
   ]
  },
  {
   "cell_type": "code",
   "execution_count": null,
   "metadata": {
    "collapsed": true
   },
   "outputs": [],
   "source": []
  },
  {
   "cell_type": "code",
   "execution_count": 2,
   "metadata": {
    "collapsed": true
   },
   "outputs": [],
   "source": [
    "gauss =np.random.normal(0.,1.,1000)\n"
   ]
  },
  {
   "cell_type": "code",
   "execution_count": 3,
   "metadata": {
    "collapsed": true
   },
   "outputs": [],
   "source": [
    "uniform = np.random.uniform(np.min(gauss),np.max(gauss),1000)"
   ]
  },
  {
   "cell_type": "code",
   "execution_count": 4,
   "metadata": {},
   "outputs": [],
   "source": [
    "gauss.shape,uniform.shape, (gauss+uniform).shape\n",
    "V = gauss+uniform"
   ]
  },
  {
   "cell_type": "code",
   "execution_count": 11,
   "metadata": {},
   "outputs": [
    {
     "name": "stderr",
     "output_type": "stream",
     "text": [
      "TROOT::Append:0: RuntimeWarning: Replacing existing TH1: Invariant Mass (Potential memory leak).\n"
     ]
    },
    {
     "data": {
      "image/png": "[encoded data removed]",
      "text/plain": [
       "<ROOT.TCanvas object (\"c\") at 0x4e51070>"
      ]
     },
     "execution_count": 11,
     "metadata": {},
     "output_type": "execute_result"
    }
   ],
   "source": [
    "from ROOT import *\n",
    "\n",
    "ROOT.gROOT.Reset()\n",
    "ROOT.gStyle.SetOptStat(0)\n",
    "\n",
    "hist = ROOT.TH1D('Invariant Mass', 'Invariant Mass', 109,20,200)\n",
    "root_numpy.fill_hist(hist,Mass[1,:])\n",
    "c = rootnotes.canvas(\"c\", (800, 600))\n",
    "hist.SetLineWidth(2)\n",
    "#hist.SetLineColor(kBlue)\n",
    "hist.Draw()\n",
    "\n",
    "fit = FitFunctions.fitBukin(hist,85,250,fit_type='')\n",
    "fit.SetLineColor(hist.GetLineColor())\n",
    "fit.SetLineWidth(2)\n",
    "fit.Draw(\"SAME\")\n",
    "#print fit.GetChisquare()\n",
    "# Fit information\n",
    "fitlabel = TPaveText( 0.7, 0.5, 0.9, 0.90, 'NDC' )\n",
    "fitlabel.AddText(\"Model: \"+fit.GetName().title())\n",
    "fitlabel.AddText(\"Mean_{Model}: \"+str(round(fit.GetHistogram().GetMean(),3))+\" +- \"+str(round(fit.GetHistogram().GetMeanError(),3)))\n",
    "fitlabel.AddText(\"Var_{Model}: \"+str(round(fit.GetHistogram().GetRMS(),3))+\" +- \"+str(round(fit.GetHistogram().GetRMSError(),3)))\n",
    "fitlabel.AddText(\"MOP_{Model}: \"+str(fit.GetHistogram().GetBinCenter(fit.GetHistogram().GetMaximumBin())))\n",
    "fitlabel.AddText(\"Skewness_{Model}: \"+str(round(fit.GetHistogram().GetSkewness(),3)))\n",
    "fitlabel.AddText(\"Kurtosis_{Model}: \"+str(round(fit.GetHistogram().GetKurtosis(),3)))\n",
    "fitlabel.AddText(\"Kurtosis_{Histogram}: \"+str(round(hist.GetKurtosis(),3)))\n",
    "fitlabel.AddText(\"#chi^{2}: \"+str(round(fit.GetChisquare()))+\", NDF: \"+str(fit.GetNDF()))\n",
    "fitlabel.AddText('#chi^{2}/NDF:'+str(round(fit.GetChisquare()/float(fit.GetNDF()),3)))\n",
    "fitlabel.AddText(\"Prob: %1.3f %%\"%(100*fit.GetProb()))\n",
    "fitlabel.Draw()\n",
    "#    c.Print(save_figures+'/'+'FitBukin'+str(i)+'.png')\n",
    "#    c.Print(save_figures+'/'+'FitBukin'+str(i)+'.pdf')\n",
    "c\n"
   ]
  },
  {
   "cell_type": "code",
   "execution_count": null,
   "metadata": {},
   "outputs": [],
   "source": []
  },
  {
   "cell_type": "code",
   "execution_count": null,
   "metadata": {},
   "outputs": [],
   "source": []
  },
  {
   "cell_type": "code",
   "execution_count": 103,
   "metadata": {},
   "outputs": [],
   "source": [
    "def my_crystalball_pdf(x, alpha, n, sigma, mean):\n",
    "    if sigma < 0.:\n",
    "        return 0.\n",
    "    z = (x-mean)/sigma\n",
    "    abs_alpha = float(abs(alpha))\n",
    "    C = n/abs_alpha * 1/(n-1) * math.exp(-(pow(abs_alpha,2))/2)\n",
    "    D = math.sqrt(math.pi/2)*(1+ROOT.Math.erf(abs_alpha/math.sqrt(2)))\n",
    "    N = 1/(sigma*(C+D))\n",
    "    if z > -alpha:\n",
    "        return N*math.exp(-0.5*pow(z,2)) \n",
    "    else:\n",
    "        A = math.pow(n/abs_alpha,n)*math.exp(-0.5*math.pow(abs_alpha,2))\n",
    "        B = n/abs_alpha - abs_alpha\n",
    "        return N*A*math.pow((B-z),-n)\n",
    "\n",
    "\n"
   ]
  },
  {
   "cell_type": "code",
   "execution_count": null,
   "metadata": {
    "collapsed": true
   },
   "outputs": [],
   "source": []
  },
  {
   "cell_type": "code",
   "execution_count": 171,
   "metadata": {},
   "outputs": [
    {
     "data": {
      "text/plain": [
       "array([-5.        , -4.90909091, -4.81818182, -4.72727273, -4.63636364,\n",
       "       -4.54545455, -4.45454545, -4.36363636, -4.27272727, -4.18181818,\n",
       "       -4.09090909, -4.        , -3.90909091, -3.81818182, -3.72727273,\n",
       "       -3.63636364, -3.54545455, -3.45454545, -3.36363636, -3.27272727,\n",
       "       -3.18181818, -3.09090909, -3.        , -2.90909091, -2.81818182,\n",
       "       -2.72727273, -2.63636364, -2.54545455, -2.45454545, -2.36363636,\n",
       "       -2.27272727, -2.18181818, -2.09090909, -2.        , -1.90909091,\n",
       "       -1.81818182, -1.72727273, -1.63636364, -1.54545455, -1.45454545,\n",
       "       -1.36363636, -1.27272727, -1.18181818, -1.09090909, -1.        ,\n",
       "       -0.90909091, -0.81818182, -0.72727273, -0.63636364, -0.54545455,\n",
       "       -0.45454545, -0.36363636, -0.27272727, -0.18181818, -0.09090909,\n",
       "        0.        ,  0.09090909,  0.18181818,  0.27272727,  0.36363636,\n",
       "        0.45454545,  0.54545455,  0.63636364,  0.72727273,  0.81818182,\n",
       "        0.90909091,  1.        ,  1.09090909,  1.18181818,  1.27272727,\n",
       "        1.36363636,  1.45454545,  1.54545455,  1.63636364,  1.72727273,\n",
       "        1.81818182,  1.90909091,  2.        ,  2.09090909,  2.18181818,\n",
       "        2.27272727,  2.36363636,  2.45454545,  2.54545455,  2.63636364,\n",
       "        2.72727273,  2.81818182,  2.90909091,  3.        ,  3.09090909,\n",
       "        3.18181818,  3.27272727,  3.36363636,  3.45454545,  3.54545455,\n",
       "        3.63636364,  3.72727273,  3.81818182,  3.90909091,  4.        ])"
      ]
     },
     "execution_count": 171,
     "metadata": {},
     "output_type": "execute_result"
    }
   ],
   "source": [
    "vet = np.linspace(-5,4,num=100)\n",
    "vet"
   ]
  },
  {
   "cell_type": "code",
   "execution_count": null,
   "metadata": {
    "collapsed": true
   },
   "outputs": [],
   "source": []
  },
  {
   "cell_type": "code",
   "execution_count": null,
   "metadata": {
    "collapsed": true
   },
   "outputs": [],
   "source": []
  },
  {
   "cell_type": "code",
   "execution_count": null,
   "metadata": {
    "collapsed": true
   },
   "outputs": [],
   "source": []
  },
  {
   "cell_type": "code",
   "execution_count": null,
   "metadata": {
    "collapsed": true
   },
   "outputs": [],
   "source": []
  },
  {
   "cell_type": "code",
   "execution_count": 176,
   "metadata": {},
   "outputs": [],
   "source": [
    "array = np.zeros(vet.shape)\n",
    "array2 = np.zeros(vet.shape)\n",
    "for i in range(vet.shape[0]):\n",
    "    array[i]=my_crystalball_pdf(vet[i],1,2,1,0)\n",
    "    array2[i]=ROOT.Math.gaussian_pdf(vet[i],1,0)\n",
    "    #print _crystalballPositiveAlpha(vet[i],10,2,0,1)"
   ]
  },
  {
   "cell_type": "code",
   "execution_count": 177,
   "metadata": {},
   "outputs": [
    {
     "data": {
      "image/png": "[encoded data removed]",
      "text/plain": [
       "<matplotlib.figure.Figure at 0x7fbc4ef29450>"
      ]
     },
     "metadata": {},
     "output_type": "display_data"
    }
   ],
   "source": [
    "import matplotlib.pyplot as plt\n",
    "plt.plot(vet,array)\n",
    "plt.plot(vet,array2)\n",
    "plt.show()\n"
   ]
  },
  {
   "cell_type": "code",
   "execution_count": 178,
   "metadata": {
    "scrolled": true
   },
   "outputs": [
    {
     "data": {
      "text/plain": [
       "([0.02028666423671257,\n",
       "  0.020915670867484012,\n",
       "  0.02157439194705077,\n",
       "  0.022264729003557557,\n",
       "  0.02298873814129031,\n",
       "  0.023748645368212837,\n",
       "  0.024546863726422206,\n",
       "  0.02538601247202527,\n",
       "  0.026268938589512472,\n",
       "  0.027198740971104945,\n",
       "  0.02817879764512754,\n",
       "  0.0292127965008661,\n",
       "  0.03030477003262001,\n",
       "  0.03145913471524384,\n",
       "  0.03268073573044376,\n",
       "  0.033974897891241806,\n",
       "  0.03534748376604799,\n",
       "  0.03680496018955432,\n",
       "  0.03835447457253471,\n",
       "  0.04000394269584426,\n",
       "  0.04176215000714554,\n",
       "  0.04363886884697282,\n",
       "  0.04564499453260328,\n",
       "  0.04779270384809083,\n",
       "  0.050095640258004503,\n",
       "  0.052569131121427706,\n",
       "  0.05523044338444998,\n",
       "  0.05809908574301115,\n",
       "  0.06119716718498612,\n",
       "  0.06454982426232284,\n",
       "  0.06818573257339504,\n",
       "  0.0721377219715265,\n",
       "  0.07644352025529408,\n",
       "  0.08114665694685028,\n",
       "  0.08629756778820308,\n",
       "  0.09195495256516126,\n",
       "  0.09818745490568886,\n",
       "  0.10507575435804989,\n",
       "  0.11271519058051016,\n",
       "  0.12121908013048004,\n",
       "  0.1307229429217751,\n",
       "  0.14138993506419195,\n",
       "  0.15341789829013883,\n",
       "  0.16704860002858216,\n",
       "  0.18257997813041313,\n",
       "  0.1991314526764967,\n",
       "  0.21539586540052533,\n",
       "  0.23107111110699752,\n",
       "  0.245846897553646,\n",
       "  0.25941471122336096,\n",
       "  0.2714783864353325,\n",
       "  0.28176478041701636,\n",
       "  0.29003402123740885,\n",
       "  0.29608879360542606,\n",
       "  0.2997821613162704,\n",
       "  0.30102349354757635,\n",
       "  0.2997821613162704,\n",
       "  0.29608879360542606,\n",
       "  0.29003402123740885,\n",
       "  0.28176478041701625,\n",
       "  0.27147838643533245,\n",
       "  0.25941471122336085,\n",
       "  0.245846897553646,\n",
       "  0.23107111110699752,\n",
       "  0.21539586540052533,\n",
       "  0.1991314526764967,\n",
       "  0.18257997813041313,\n",
       "  0.16602642974957887,\n",
       "  0.14973112803539734,\n",
       "  0.13392379685228714,\n",
       "  0.1187993870306272,\n",
       "  0.104515676414167,\n",
       "  0.09119257117271698,\n",
       "  0.07891294936501689,\n",
       "  0.0677248231157265,\n",
       "  0.057644552600888285,\n",
       "  0.048660823646272396,\n",
       "  0.0407390997601359,\n",
       "  0.033826276108594865,\n",
       "  0.02785529361071542,\n",
       "  0.022749511787052375,\n",
       "  0.018426684960904605,\n",
       "  0.014802433887999598,\n",
       "  0.011793150441437847,\n",
       "  0.009318313913717055,\n",
       "  0.007302231956532156,\n",
       "  0.005675246129084622,\n",
       "  0.004374461185733323,\n",
       "  0.003344068947749631,\n",
       "  0.002535342684638271,\n",
       "  0.001906377495994574,\n",
       "  0.0014216475030904068,\n",
       "  0.0010514430142473173,\n",
       "  0.000771241414769114,\n",
       "  0.0005610553845826979,\n",
       "  0.0004047919957384368,\n",
       "  0.00028964690164791525,\n",
       "  0.00020554960547741524,\n",
       "  0.0001446689059991977,\n",
       "  0.00010098213220586479],\n",
       " [1.4867195147342977e-06,\n",
       "  2.3326040181991996e-06,\n",
       "  3.629641954291828e-06,\n",
       "  5.601409742271565e-06,\n",
       "  8.573174983278058e-06,\n",
       "  1.3013581102871508e-05,\n",
       "  1.9591277103879816e-05,\n",
       "  2.9250915365488292e-05,\n",
       "  4.331386758154275e-05,\n",
       "  6.360997971962945e-05,\n",
       "  9.264763532301418e-05,\n",
       "  0.00013383022576488537,\n",
       "  0.000191727703981945,\n",
       "  0.0002724120545488736,\n",
       "  0.00038386504020944634,\n",
       "  0.0005364652438418938,\n",
       "  0.0007435589558778012,\n",
       "  0.001022115600088169,\n",
       "  0.001393462911723483,\n",
       "  0.0018840898101538152,\n",
       "  0.0025264957781039343,\n",
       "  0.0033600546598161972,\n",
       "  0.0044318484119380075,\n",
       "  0.005797413020483026,\n",
       "  0.00752132534870932,\n",
       "  0.009677547205460008,\n",
       "  0.012349432791521116,\n",
       "  0.01562929947685561,\n",
       "  0.019617461285747408,\n",
       "  0.02442063120026952,\n",
       "  0.030149613916800676,\n",
       "  0.036916236082928613,\n",
       "  0.044829496758592734,\n",
       "  0.05399096651318806,\n",
       "  0.06448951782093278,\n",
       "  0.07639552978506679,\n",
       "  0.08975477314132431,\n",
       "  0.10458224240862118,\n",
       "  0.12085625567149892,\n",
       "  0.13851318312394806,\n",
       "  0.15744318761884377,\n",
       "  0.17748735916462763,\n",
       "  0.19843659696308527,\n",
       "  0.22003253536999073,\n",
       "  0.24197072451914337,\n",
       "  0.26390616524373,\n",
       "  0.285461166898405,\n",
       "  0.30623535363810017,\n",
       "  0.32581749943769,\n",
       "  0.343798735591945,\n",
       "  0.35978655781262336,\n",
       "  0.37341897375397887,\n",
       "  0.38437808445725896,\n",
       "  0.3924023906911065,\n",
       "  0.39729715993174175,\n",
       "  0.3989422804014327,\n",
       "  0.39729715993174175,\n",
       "  0.3924023906911065,\n",
       "  0.38437808445725896,\n",
       "  0.37341897375397876,\n",
       "  0.35978655781262325,\n",
       "  0.34379873559194485,\n",
       "  0.32581749943769,\n",
       "  0.30623535363810017,\n",
       "  0.285461166898405,\n",
       "  0.26390616524373,\n",
       "  0.24197072451914337,\n",
       "  0.22003253536999073,\n",
       "  0.19843659696308527,\n",
       "  0.17748735916462763,\n",
       "  0.15744318761884354,\n",
       "  0.13851318312394797,\n",
       "  0.12085625567149884,\n",
       "  0.10458224240862113,\n",
       "  0.08975477314132423,\n",
       "  0.07639552978506672,\n",
       "  0.06448951782093278,\n",
       "  0.05399096651318806,\n",
       "  0.044829496758592734,\n",
       "  0.036916236082928613,\n",
       "  0.03014961391680061,\n",
       "  0.0244206312002695,\n",
       "  0.01961746128574738,\n",
       "  0.01562929947685559,\n",
       "  0.012349432791521104,\n",
       "  0.00967754720546,\n",
       "  0.00752132534870932,\n",
       "  0.005797413020483026,\n",
       "  0.0044318484119380075,\n",
       "  0.003360054659816188,\n",
       "  0.0025264957781039343,\n",
       "  0.00188408981015381,\n",
       "  0.001393462911723483,\n",
       "  0.0010221156000881672,\n",
       "  0.0007435589558778026,\n",
       "  0.0005364652438418928,\n",
       "  0.0003838650402094477,\n",
       "  0.0002724120545488736,\n",
       "  0.00019172770398194432,\n",
       "  0.00013383022576488537])"
      ]
     },
     "execution_count": 178,
     "metadata": {},
     "output_type": "execute_result"
    }
   ],
   "source": [
    "crystal = np.ndarray.tolist(array)\n",
    "gaus = np.ndarray.tolist(array2)\n",
    "crystal,gaus"
   ]
  },
  {
   "cell_type": "code",
   "execution_count": null,
   "metadata": {
    "collapsed": true
   },
   "outputs": [],
   "source": []
  },
  {
   "cell_type": "code",
   "execution_count": 170,
   "metadata": {},
   "outputs": [
    {
     "data": {
      "text/plain": [
       "(1.4867195147342977e-06, 1.4867195147342977e-06)"
      ]
     },
     "execution_count": 170,
     "metadata": {},
     "output_type": "execute_result"
    }
   ],
   "source": [
    "gaus[0],crystal[0]"
   ]
  },
  {
   "cell_type": "code",
   "execution_count": 175,
   "metadata": {
    "scrolled": true
   },
   "outputs": [
    {
     "name": "stdout",
     "output_type": "stream",
     "text": [
      "1.0\n",
      "1.0\n",
      "1.0\n",
      "1.0\n",
      "1.0\n",
      "1.0\n",
      "1.0\n",
      "1.0\n",
      "1.0\n",
      "1.0\n",
      "1.0\n",
      "1.0\n",
      "1.0\n",
      "1.0\n",
      "1.0\n",
      "1.0\n",
      "1.0\n",
      "1.0\n",
      "1.0\n",
      "1.0\n",
      "1.0\n",
      "1.0\n",
      "1.0\n",
      "1.0\n",
      "1.0\n",
      "1.0\n",
      "1.0\n",
      "1.0\n",
      "1.0\n",
      "1.0\n",
      "1.0\n",
      "1.0\n",
      "1.0\n",
      "1.0\n",
      "1.0\n",
      "1.0\n",
      "1.0\n",
      "1.0\n",
      "1.0\n",
      "1.0\n",
      "1.0\n",
      "1.0\n",
      "1.0\n",
      "1.0\n",
      "1.0\n",
      "1.0\n",
      "1.0\n",
      "1.0\n",
      "1.0\n",
      "1.0\n",
      "1.0\n",
      "1.0\n",
      "1.0\n",
      "1.0\n",
      "1.0\n",
      "1.0\n",
      "1.0\n",
      "1.0\n",
      "1.0\n",
      "1.0\n",
      "1.0\n",
      "1.0\n",
      "1.0\n",
      "1.0\n",
      "1.0\n",
      "1.0\n",
      "1.0\n",
      "1.0\n",
      "1.0\n",
      "1.0\n",
      "1.0\n",
      "1.0\n",
      "1.0\n",
      "1.0\n",
      "1.0\n",
      "1.0\n",
      "1.0\n",
      "1.0\n",
      "1.0\n",
      "1.0\n",
      "1.0\n",
      "1.0\n",
      "1.0\n",
      "1.0\n",
      "1.0\n",
      "1.0\n",
      "1.0\n",
      "1.0\n",
      "1.0\n",
      "1.0\n",
      "1.0\n",
      "1.0\n",
      "1.0\n",
      "1.0\n",
      "1.0\n",
      "1.0\n",
      "1.0\n",
      "1.0\n",
      "1.0\n",
      "1.0\n"
     ]
    }
   ],
   "source": [
    "for i in range(len(crystal)):\n",
    "    print gaus[i]/crystal[i]"
   ]
  },
  {
   "cell_type": "code",
   "execution_count": 108,
   "metadata": {},
   "outputs": [
    {
     "data": {
      "text/plain": [
       "(100,)"
      ]
     },
     "execution_count": 108,
     "metadata": {},
     "output_type": "execute_result"
    }
   ],
   "source": [
    "gauss = np.random.normal(0.0,1.,100)\n",
    "gauss.shape"
   ]
  },
  {
   "cell_type": "code",
   "execution_count": 109,
   "metadata": {},
   "outputs": [
    {
     "name": "stdout",
     "output_type": "stream",
     "text": [
      "EstPDF: Histogram Mode\n"
     ]
    },
    {
     "data": {
      "text/plain": [
       "array([ 0.01,  0.01,  0.  ,  0.  ,  0.01,  0.  ,  0.  ,  0.01,  0.  ,\n",
       "        0.  ,  0.01,  0.01,  0.01,  0.01,  0.01,  0.02,  0.01,  0.03,\n",
       "        0.03,  0.02,  0.  ,  0.01,  0.  ,  0.03,  0.  ,  0.03,  0.01,\n",
       "        0.  ,  0.  ,  0.01,  0.03,  0.01,  0.02,  0.01,  0.01,  0.02,\n",
       "        0.  ,  0.02,  0.04,  0.03,  0.02,  0.02,  0.02,  0.01,  0.01,\n",
       "        0.03,  0.01,  0.01,  0.01,  0.  ,  0.01,  0.02,  0.01,  0.02,\n",
       "        0.02,  0.01,  0.01,  0.02,  0.  ,  0.01,  0.03,  0.02,  0.  ,\n",
       "        0.  ,  0.03,  0.03,  0.04,  0.  ,  0.  ,  0.  ,  0.  ,  0.  ,\n",
       "        0.02,  0.01,  0.  ,  0.  ,  0.  ,  0.  ,  0.01,  0.01,  0.  ,\n",
       "        0.01,  0.  ,  0.01,  0.  ,  0.01,  0.01,  0.  ,  0.  ,  0.  ,\n",
       "        0.  ,  0.  ,  0.  ,  0.  ,  0.  ,  0.  ,  0.  ,  0.  ,  0.  ,  0.01])"
      ]
     },
     "execution_count": 109,
     "metadata": {},
     "output_type": "execute_result"
    }
   ],
   "source": [
    "gaus_pdf = StatisticalAnalysis.EstPDF(gauss,bins=100,mode='hist')\n",
    "gaus_pdf[0]"
   ]
  },
  {
   "cell_type": "code",
   "execution_count": null,
   "metadata": {},
   "outputs": [],
   "source": []
  },
  {
   "cell_type": "code",
   "execution_count": 63,
   "metadata": {},
   "outputs": [],
   "source": [
    "def KullbackLeibler(p,q):\n",
    "    kl_values = []\n",
    "    for i in range(len(p)):\n",
    "        if p[i] == 0 or q[i] == 0 :\n",
    "            kl_values = np.append(kl_values,0)\n",
    "        else:\n",
    "            kl_value = np.abs(p[i]*np.log10(p[i]/q[i]))\n",
    "            if np.isnan(kl_value):\n",
    "                kl_values = np.append(kl_values,0)\n",
    "            else:\n",
    "                kl_values = np.append(kl_values,kl_value)\n",
    "    return [np.sum(kl_values),kl_values]"
   ]
  },
  {
   "cell_type": "code",
   "execution_count": 179,
   "metadata": {},
   "outputs": [
    {
     "data": {
      "text/plain": [
       "([1.3743160985045886,\n",
       "  array([  6.14755784e-06,   9.21992244e-06,   1.36985402e-05,\n",
       "           2.01612665e-05,   2.93920455e-05,   4.24404375e-05,\n",
       "           6.06924690e-05,   8.59524993e-05,   1.20534505e-04,\n",
       "           1.67359354e-04,   2.30052243e-04,   3.13031431e-04,\n",
       "           4.21575884e-04,   5.61855434e-04,   7.40903006e-04,\n",
       "           9.66504672e-04,   1.24698041e-03,   1.59082720e-03,\n",
       "           2.00619729e-03,   2.50018943e-03,   3.07793954e-03,\n",
       "           3.74151206e-03,   4.48861269e-03,   5.31116868e-03,\n",
       "           6.19385322e-03,   7.11266333e-03,   8.03369527e-03,\n",
       "           8.91229209e-03,   9.69276231e-03,   1.03088808e-02,\n",
       "           1.06853776e-02,   1.07405946e-02,   1.03904380e-02,\n",
       "           9.55367618e-03,   8.15853188e-03,   6.15038849e-03,\n",
       "           3.50029698e-03,   2.13825403e-04,   3.66033538e-03,\n",
       "           8.02270098e-03,   1.27170102e-02,   1.75266873e-02,\n",
       "           2.21744447e-02,   2.63255865e-02,   2.95953605e-02,\n",
       "           3.22782771e-02,   3.49146623e-02,   3.74555463e-02,\n",
       "           3.98506322e-02,   4.20499113e-02,   4.40053766e-02,\n",
       "           4.56727530e-02,   4.70131583e-02,   4.79946085e-02,\n",
       "           4.85932862e-02,   4.87945003e-02,   4.85932862e-02,\n",
       "           4.79946085e-02,   4.70131583e-02,   4.56727530e-02,\n",
       "           4.40053766e-02,   4.20499113e-02,   3.98506322e-02,\n",
       "           3.74555463e-02,   3.49146623e-02,   3.22782771e-02,\n",
       "           2.95953605e-02,   2.69121077e-02,   2.42707155e-02,\n",
       "           2.17084211e-02,   1.92568250e-02,   1.69415023e-02,\n",
       "           1.47818892e-02,   1.27914200e-02,   1.09778771e-02,\n",
       "           9.34391235e-03,   7.88769191e-03,   6.60361752e-03,\n",
       "           5.48308114e-03,   4.51521281e-03,   3.68758945e-03,\n",
       "           2.98687944e-03,   2.39940530e-03,   1.91161453e-03,\n",
       "           1.51045510e-03,   1.18365765e-03,   9.19930853e-04,\n",
       "           7.09079697e-04,   5.42057935e-04,   4.10967191e-04,\n",
       "           3.09014875e-04,   2.30442411e-04,   1.70433995e-04,\n",
       "           1.25014626e-04,   9.09444536e-05,   6.56148892e-05,\n",
       "           4.69504080e-05,   3.33186296e-05,   2.34501530e-05,\n",
       "           1.63687313e-05])],\n",
       " [2.8313477006814667,\n",
       "  array([  8.38849833e-02,   8.26719244e-02,   8.14233685e-02,\n",
       "           8.01378860e-02,   7.88139794e-02,   7.74500802e-02,\n",
       "           7.60445457e-02,   7.45956560e-02,   7.31016111e-02,\n",
       "           7.15605279e-02,   6.99704376e-02,   6.83292838e-02,\n",
       "           6.66349199e-02,   6.48851087e-02,   6.30775215e-02,\n",
       "           6.12097390e-02,   5.92792536e-02,   5.72834732e-02,\n",
       "           5.52197280e-02,   5.30852798e-02,   5.08773353e-02,\n",
       "           4.85930649e-02,   4.62296276e-02,   4.37842036e-02,\n",
       "           4.12540381e-02,   3.86364978e-02,   3.59291442e-02,\n",
       "           3.31298292e-02,   3.02368175e-02,   2.72489453e-02,\n",
       "           2.41658252e-02,   2.09881102e-02,   1.77178356e-02,\n",
       "           1.43588629e-02,   1.09174558e-02,   7.40303371e-03,\n",
       "           3.82915849e-03,   2.14834421e-04,   3.41376950e-03,\n",
       "           7.02102436e-03,   1.05587611e-02,   1.39621052e-02,\n",
       "           1.71437968e-02,   1.99863732e-02,   2.23312976e-02,\n",
       "           2.43557031e-02,   2.63449981e-02,   2.82622323e-02,\n",
       "           3.00694539e-02,   3.17289288e-02,   3.32044330e-02,\n",
       "           3.44625585e-02,   3.54739666e-02,   3.62145239e-02,\n",
       "           3.66662585e-02,   3.68180854e-02,   3.66662585e-02,\n",
       "           3.62145239e-02,   3.54739666e-02,   3.44625585e-02,\n",
       "           3.32044330e-02,   3.17289288e-02,   3.00694539e-02,\n",
       "           2.82622323e-02,   2.63449981e-02,   2.43557031e-02,\n",
       "           2.23312976e-02,   2.03066385e-02,   1.83135655e-02,\n",
       "           1.63801760e-02,   1.45303143e-02,   1.27832783e-02,\n",
       "           1.11537337e-02,   9.65181712e-03,   8.28340105e-03,\n",
       "           7.05048645e-03,   5.95168948e-03,   4.98278602e-03,\n",
       "           4.13728081e-03,   3.40697188e-03,   2.78248537e-03,\n",
       "           2.25376183e-03,   1.81048087e-03,   1.44241639e-03,\n",
       "           1.13971994e-03,   8.93133611e-04,   6.94137505e-04,\n",
       "           5.35038922e-04,   4.09011983e-04,   3.10096938e-04,\n",
       "           2.33168410e-04,   1.73881243e-04,   1.28601652e-04,\n",
       "           9.43302861e-05,   6.86225013e-05,   4.95099771e-05,\n",
       "           3.54266182e-05,   2.51407053e-05,   1.76944068e-05,\n",
       "           1.23510917e-05])],\n",
       " 2.7899899488453217)"
      ]
     },
     "execution_count": 179,
     "metadata": {},
     "output_type": "execute_result"
    }
   ],
   "source": [
    "\n",
    "A = KullbackLeibler(gaus,crystal)\n",
    "B = KullbackLeibler(crystal,gaus)\n",
    "KullbackLeibler(gaus,crystal),KullbackLeibler(crystal,gaus),A[0]+B[0]/2"
   ]
  },
  {
   "cell_type": "code",
   "execution_count": 182,
   "metadata": {},
   "outputs": [
    {
     "data": {
      "image/png": "[encoded data removed]",
      "text/plain": [
       "<matplotlib.figure.Figure at 0x7fbc4f22dd50>"
      ]
     },
     "metadata": {},
     "output_type": "display_data"
    }
   ],
   "source": [
    "plt.plot(A[1],color='blue',alpha=.5)\n",
    "plt.plot(B[1],color='red',alpha=.5)\n",
    "plt.plot(array,color='green')\n",
    "plt.plot(array2,color='black')\n",
    "plt.show()"
   ]
  },
  {
   "cell_type": "code",
   "execution_count": 34,
   "metadata": {},
   "outputs": [
    {
     "data": {
      "text/plain": [
       "[1.2264276754620176,\n",
       " array([ 0.00138491,  0.        ,  0.        ,  0.        ,  0.        ,\n",
       "         0.        ,  0.        ,  0.        ,  0.        ,  0.        ,\n",
       "         0.        ,  0.        ,  0.        ,  0.        ,  0.00157654,\n",
       "         0.        ,  0.00160773,  0.00162375,  0.00164007,  0.00165671,\n",
       "         0.00274527,  0.00169096,  0.00281517,  0.0028512 ,  0.002888  ,\n",
       "         0.        ,  0.0047239 ,  0.0030033 ,  0.00781684,  0.00639124,\n",
       "         0.00819172,  0.00886034,  0.00858548,  0.00930915,  0.01004151,\n",
       "         0.00720055,  0.01375898,  0.01278312,  0.00990189,  0.01357989,\n",
       "         0.01236078,  0.01673933,  0.01430244,  0.0164572 ,  0.01518037,\n",
       "         0.0175632 ,  0.02153497,  0.02436867,  0.02322082,  0.02799944,\n",
       "         0.02228004,  0.02148657,  0.03058783,  0.02818769,  0.02934854,\n",
       "         0.03719926,  0.03978556,  0.04507465,  0.03342469,  0.04085857,\n",
       "         0.02781205,  0.04263031,  0.04315141,  0.04453841,  0.03269316,\n",
       "         0.04213723,  0.01975873,  0.03300056,  0.03350213,  0.02548925,\n",
       "         0.02709896,  0.0249733 ,  0.02170817,  0.01848727,  0.01642064,\n",
       "         0.01632843,  0.01147052,  0.01633792,  0.00961441,  0.01120487,\n",
       "         0.00695127,  0.00735062,  0.00153664,  0.00356831,  0.00179876,\n",
       "         0.00166882,  0.00105681,  0.00065978,  0.00071335,  0.00020784,\n",
       "         0.00247517,  0.00024999,  0.        ,  0.00074255,  0.00260578,\n",
       "         0.00126985,  0.00607096,  0.        ,  0.00212595,  0.00242868])]"
      ]
     },
     "execution_count": 34,
     "metadata": {},
     "output_type": "execute_result"
    }
   ],
   "source": [
    "kl_values = []\n",
    "for i in range(len(gaus_pdf[0])):\n",
    "    if gaus_pdf[0][i] == 0 or crystal[i] == 0 :\n",
    "        kl_values = np.append(kl_values,0)\n",
    "    else:\n",
    "        kl_value = np.abs(gaus_pdf[0][i]*np.log10(gaus_pdf[0][i]/crystal[i]))\n",
    "        if np.isnan(kl_value):\n",
    "            kl_values = np.append(kl_values,0)\n",
    "        else:\n",
    "            kl_values = np.append(kl_values,kl_value)\n",
    "[np.sum(kl_values),kl_values]"
   ]
  },
  {
   "cell_type": "code",
   "execution_count": null,
   "metadata": {
    "collapsed": true
   },
   "outputs": [],
   "source": []
  },
  {
   "cell_type": "code",
   "execution_count": null,
   "metadata": {
    "collapsed": true
   },
   "outputs": [],
   "source": []
  },
  {
   "cell_type": "code",
   "execution_count": null,
   "metadata": {
    "collapsed": true
   },
   "outputs": [],
   "source": []
  }
 ],
 "metadata": {
  "kernelspec": {
   "display_name": "Python 2",
   "language": "python",
   "name": "python2"
  },
  "language_info": {
   "codemirror_mode": {
    "name": "ipython",
    "version": 2
   },
   "file_extension": ".py",
   "mimetype": "text/x-python",
   "name": "python",
   "nbconvert_exporter": "python",
   "pygments_lexer": "ipython2",
   "version": "2.7.13"
  }
 },
 "nbformat": 4,
 "nbformat_minor": 2
}
