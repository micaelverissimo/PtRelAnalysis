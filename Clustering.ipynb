{
 "cells": [
  {
   "cell_type": "code",
   "execution_count": 1,
   "metadata": {
    "collapsed": false
   },
   "outputs": [
    {
     "name": "stdout",
     "output_type": "stream",
     "text": [
      "Time to load all files: 0.072 seconds\n"
     ]
    }
   ],
   "source": [
    "#load all necessaries files \n",
    "import time\n",
    "init_time = time.time()\n",
    "\n",
    "import numpy as np\n",
    "\n",
    "path = \"/home/micael/MyWorkspace/DATA\"\n",
    "\n",
    "signal = np.load(path+\"/\"+\"lvbb125Matrix.npy\")[0:5000,:]\n",
    "\n",
    "ZZ = np.load(path+\"/\"+\"ZZMatrix.npy\")[0:5000,:]\n",
    "\n",
    "TTbar = np.load(path+\"/\"+\"TTbarMatrix.npy\")[0:5000,:]\n",
    "\n",
    "bkg = np.append(ZZ,TTbar,axis=0)\n",
    "\n",
    "all_data = np.append(signal,bkg,axis=0)\n",
    "\n",
    "current_time = time.time()\n",
    "print 'Time to load all files: %1.3f seconds'%(current_time-init_time)"
   ]
  },
  {
   "cell_type": "code",
   "execution_count": 18,
   "metadata": {
    "collapsed": false
   },
   "outputs": [
    {
     "name": "stdout",
     "output_type": "stream",
     "text": [
      "[[1 2]\n",
      " [3 4]]\n",
      "Baricentro do conjunto:  [2 3]\n",
      "[2 3]\n",
      "[[1 2]\n",
      " [3 4]]\n",
      "Baricentro do conjunto:  [2 3]\n",
      "DisperTotal do conjunto:  2.82842712475\n"
     ]
    },
    {
     "data": {
      "text/plain": [
       "2.8284271247461903"
      ]
     },
     "execution_count": 18,
     "metadata": {},
     "output_type": "execute_result"
    }
   ],
   "source": [
    "from sklearn.cluster import KMeans\n",
    "from numpy import linalg as LA\n",
    "import matplotlib.pyplot as plt\n",
    "\n",
    "\n",
    "from sklearn.datasets.samples_generator import make_blobs\n",
    "\n",
    "plt.figure()\n",
    "\n",
    "X, y = make_blobs(n_samples=2, centers=5, n_features=5,\n",
    "                  random_state=0)\n",
    "\n",
    "B = np.array([[1, 2],[3, 4]])\n",
    "\n",
    "# baricentro \n",
    "\n",
    "def Baricentro(A):\n",
    "    M = np.sum(A,axis=0)/A.shape[0]\n",
    "    print A\n",
    "    print 'Baricentro do conjunto: ', M\n",
    "    return M\n",
    "\n",
    "b = Baricentro(B)\n",
    "print b\n",
    "\n",
    "def DispTotal(data,dataCenter):\n",
    "    dispTotal = 0\n",
    "    for i in range(data.shape[0]):\n",
    "        dispTotal += LA.norm(data[i,:]-dataCenter)\n",
    "    print 'DisperTotal do conjunto: ', dispTotal\n",
    "    return dispTotal\n",
    "\n",
    "DispTotal(B,Baricentro(B))"
   ]
  },
  {
   "cell_type": "code",
   "execution_count": 1,
   "metadata": {
    "collapsed": false
   },
   "outputs": [],
   "source": [
    "import numpy as np\n",
    "from functions import ClusterMerits, AuxiliarFunctions\n",
    "from numpy import linalg as LA\n"
   ]
  },
  {
   "cell_type": "code",
   "execution_count": 3,
   "metadata": {
    "collapsed": false
   },
   "outputs": [
    {
     "name": "stdout",
     "output_type": "stream",
     "text": [
      "Baricenter of set:  [2 3]\n",
      "Total Dispersion of set:  4.0\n",
      "Baricenter of set:  [2 3]\n",
      "Mean Total Dispersion of set:  2.0\n"
     ]
    },
    {
     "data": {
      "text/plain": [
       "2.0000000000000004"
      ]
     },
     "execution_count": 3,
     "metadata": {},
     "output_type": "execute_result"
    }
   ],
   "source": [
    "B = np.array([[1, 2],[3, 4]])\n",
    "#dataCenter = ClusterMerits.Baricentro(B)\n",
    "\n",
    "def ClassDiameter(data,dataCenter):\n",
    "    phi = []\n",
    "    for i in range(B.shape[0]):\n",
    "        phi.append(LA.norm(B[i,:]-dataCenter))\n",
    "    print 'Class Diameter: ', max(phi)\n",
    "    return max(phi)\n",
    "\n",
    "ClusterMerits.DispTotal(B,ClusterMerits.Baricenter(B),media='')\n",
    "ClusterMerits.DispTotal(B,ClusterMerits.Baricenter(B),media='m')\n"
   ]
  },
  {
   "cell_type": "code",
   "execution_count": 2,
   "metadata": {
    "collapsed": false
   },
   "outputs": [
    {
     "name": "stdout",
     "output_type": "stream",
     "text": [
      "Baricenter of set:  [5 2]\n",
      "Class Diameter:  2.0\n"
     ]
    },
    {
     "data": {
      "text/plain": [
       "2.0"
      ]
     },
     "execution_count": 2,
     "metadata": {},
     "output_type": "execute_result"
    }
   ],
   "source": [
    "B = np.array([[4, 3],[7, 2]])\n",
    "\n",
    "ClusterMerits.ClassDiameter(B,ClusterMerits.Baricenter(B))\n"
   ]
  }
 ],
 "metadata": {
  "kernelspec": {
   "display_name": "Python 2",
   "language": "python",
   "name": "python2"
  },
  "language_info": {
   "codemirror_mode": {
    "name": "ipython",
    "version": 2
   },
   "file_extension": ".py",
   "mimetype": "text/x-python",
   "name": "python",
   "nbconvert_exporter": "python",
   "pygments_lexer": "ipython2",
   "version": "2.7.12"
  }
 },
 "nbformat": 4,
 "nbformat_minor": 1
}
