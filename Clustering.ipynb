{
 "cells": [
  {
   "cell_type": "code",
   "execution_count": 7,
   "metadata": {
    "collapsed": false
   },
   "outputs": [
    {
     "name": "stdout",
     "output_type": "stream",
     "text": [
      "Time to load all files: 0.010 seconds\n"
     ]
    }
   ],
   "source": [
    "#load all necessaries files \n",
    "import time\n",
    "init_time = time.time()\n",
    "import numpy as np\n",
    "from functions import ClusterMerits, AuxiliarFunctions\n",
    "from sklearn.cluster import KMeans\n",
    "from numpy import linalg as LA\n",
    "\n",
    "path = \"/home/micael/MyWorkspace/DATA\"\n",
    "\n",
    "signal = np.load(path+\"/\"+\"lvbb125Matrix.npy\")[0:5000,:]\n",
    "#ZZ = np.load(path+\"/\"+\"ZZMatrix.npy\")[0:5000,:]\n",
    "TTbar = np.load(path+\"/\"+\"TTbarMatrix.npy\")[0:5000,:]\n",
    "\n",
    "bkg = TTbar\n",
    "#bkg = np.append(ZZ,TTbar,axis=0)\n",
    "all_data = np.append(signal,bkg,axis=0)\n",
    "\n",
    "current_time = time.time()\n",
    "print 'Time to load all files: %1.3f seconds'%(current_time-init_time)"
   ]
  },
  {
   "cell_type": "code",
   "execution_count": 19,
   "metadata": {
    "collapsed": false,
    "scrolled": false
   },
   "outputs": [
    {
     "data": {
      "text/plain": [
       "KMeans(copy_x=True, init='k-means++', max_iter=300, n_clusters=4, n_init=15,\n",
       "    n_jobs=1, precompute_distances='auto', random_state=None, tol=0.0001,\n",
       "    verbose=0)"
      ]
     },
     "execution_count": 19,
     "metadata": {},
     "output_type": "execute_result"
    }
   ],
   "source": [
    "import matplotlib.pyplot as plt\n",
    "kms = KMeans(n_clusters=4, init='k-means++', n_init=15, max_iter=300, tol=0.0001, precompute_distances='auto',\n",
    "             verbose=0, random_state=None, copy_x=True)\n",
    "kms.fit(all_data)\n",
    "#for j in range(all_data.shape[1]):\n",
    "#    if j == 23:\n",
    "#        for i in set(kms.labels_):\n",
    "#            index = kms.labels_ == i\n",
    "#            plt.plot(all_data[index,j], all_data[index,j-23], 'o')\n",
    "#        plt.show()\n",
    "#    else:\n",
    "#        for i in set(kms.labels_):\n",
    "#            index = kms.labels_ == i\n",
    "#            plt.plot(all_data[index,j], all_data[index,j+1], 'o')\n",
    "#        plt.show()\n",
    "\n",
    "#zip(all_data, kms.labels_)"
   ]
  },
  {
   "cell_type": "code",
   "execution_count": 24,
   "metadata": {
    "collapsed": false,
    "scrolled": false
   },
   "outputs": [
    {
     "name": "stdout",
     "output_type": "stream",
     "text": [
      "=======================================\n",
      "F_0 203658708.105\n",
      "=======================================\n",
      "F_in 81071734.4907\n",
      "F_out 122586973.614\n",
      "========================================\n",
      "F_in + F_out 203658708.105\n"
     ]
    }
   ],
   "source": [
    "output = kms.predict(all_data)\n",
    "cluster_list = []\n",
    "for i in range(4):\n",
    "    cluster_list.append(all_data[output==i,:])\n",
    "print '======================================='\n",
    "print 'F_0', ClusterMerits.DispTotal(all_data,ClusterMerits.Baricenter(all_data),media='')\n",
    "print '======================================='\n",
    "F_in = ClusterMerits.DistIntraClass(cluster_list)\n",
    "print 'F_in', F_in\n",
    "F_out = ClusterMerits.DispInterClass(cluster_list,all_data)\n",
    "print 'F_out', F_out\n",
    "print '========================================'\n",
    "print 'F_in + F_out', F_in+F_out"
   ]
  },
  {
   "cell_type": "code",
   "execution_count": 22,
   "metadata": {
    "collapsed": false
   },
   "outputs": [
    {
     "data": {
      "text/plain": [
       "[array([[  8.88992194e-03,  -4.12412977e-04,   5.67766791e-03, ...,\n",
       "           1.21762311e+00,   1.39726516e+02,   6.15567327e+01],\n",
       "        [  4.44732159e-02,   0.00000000e+00,   7.22116008e-02, ...,\n",
       "          -1.23155820e+00,   1.25057570e+02,   4.33235559e+01],\n",
       "        [  7.04495683e-02,   1.44251147e-02,   6.44110441e-02, ...,\n",
       "          -1.92413545e+00,   3.56549688e+01,   3.03942245e+01],\n",
       "        ..., \n",
       "        [  2.27541644e-02,   1.25240356e-01,   1.66044727e-01, ...,\n",
       "           1.78996480e+00,   1.20207500e+02,   1.74243960e+01],\n",
       "        [  3.27443480e-02,   1.87768545e-02,   3.41251232e-02, ...,\n",
       "          -3.37081313e-01,   1.71266063e+02,   5.28287034e+01],\n",
       "        [  4.58100811e-02,   0.00000000e+00,   6.66991174e-02, ...,\n",
       "           1.15951121e+00,   5.25115898e+01,   4.30427466e+01]]),\n",
       " array([[  5.98841161e-02,   0.00000000e+00,   9.51808691e-02, ...,\n",
       "          -1.11174643e+00,   2.35005016e+02,   6.26179353e+01],\n",
       "        [  1.30585432e-02,   3.76276433e-01,   4.47553545e-02, ...,\n",
       "           7.15867937e-01,   1.34571594e+02,   5.38562245e+01],\n",
       "        [  1.38822332e-01,   0.00000000e+00,   2.99930125e-02, ...,\n",
       "           1.08557487e+00,   2.01254672e+02,   5.73032058e+01],\n",
       "        ..., \n",
       "        [  5.19145690e-02,   6.05901983e-03,   1.45588160e-01, ...,\n",
       "           4.47359890e-01,   2.11599375e+02,   7.86187568e+01],\n",
       "        [  1.32459262e-02,   1.63847342e-01,   3.04962024e-02, ...,\n",
       "          -6.43998682e-01,   1.26017414e+02,   1.25886157e+02],\n",
       "        [  1.14463503e-02,   6.19504564e-02,   7.58579969e-02, ...,\n",
       "           1.64220023e+00,   1.32021484e+02,   1.28448278e+02]]),\n",
       " array([[  8.95111356e-03,   9.14592529e-05,   8.82276613e-03, ...,\n",
       "           1.25087190e+00,   1.45795547e+02,   4.97765697e+01],\n",
       "        [  4.65840027e-02,   0.00000000e+00,   6.41999841e-02, ...,\n",
       "          -2.85212016e+00,   3.32088281e+02,   5.52981257e+01],\n",
       "        [  5.95427677e-02,   0.00000000e+00,   7.45076761e-02, ...,\n",
       "           7.77278721e-01,   7.94920234e+01,   3.38788058e+01],\n",
       "        ..., \n",
       "        [  1.76508520e-02,   3.33728194e-02,   3.26679796e-02, ...,\n",
       "          -2.91938806e+00,   7.31243516e+01,   2.55390323e+01],\n",
       "        [  7.96728134e-02,   0.00000000e+00,   2.31242612e-01, ...,\n",
       "           6.49076045e-01,   7.75664766e+01,   1.22394336e+01],\n",
       "        [  1.62867695e-01,   0.00000000e+00,   9.07583237e-02, ...,\n",
       "           1.51579857e+00,   2.97305875e+02,   4.64725550e+01]]),\n",
       " array([[  9.52196307e-03,   6.12077856e-05,   1.65209174e-02, ...,\n",
       "           1.78017831e+00,   1.07602320e+02,   5.98104895e+01],\n",
       "        [  7.33271688e-02,   2.10657850e-01,   1.94448568e-02, ...,\n",
       "           4.06397700e-01,   9.53529609e+01,   4.05002148e+01],\n",
       "        [  6.67731604e-03,  -1.27103808e-03,   3.44947651e-02, ...,\n",
       "           5.52077711e-01,   6.94544063e+01,   5.19577457e+01],\n",
       "        ..., \n",
       "        [  3.10731605e-02,   9.44766253e-02,   5.57038151e-02, ...,\n",
       "          -4.70498294e-01,   7.21593594e+01,   7.10143873e+01],\n",
       "        [  1.20626586e-02,  -3.67927219e-04,   1.23472596e-02, ...,\n",
       "          -7.76160121e-01,   6.25508281e+01,   6.25409974e+01],\n",
       "        [  1.13103986e-02,   1.36660472e-01,   8.34356099e-02, ...,\n",
       "          -6.43940508e-01,   6.90702891e+01,   6.55010960e+01]]),\n",
       " array([], shape=(0, 24), dtype=float64),\n",
       " array([], shape=(0, 24), dtype=float64),\n",
       " array([], shape=(0, 24), dtype=float64),\n",
       " array([], shape=(0, 24), dtype=float64),\n",
       " array([], shape=(0, 24), dtype=float64),\n",
       " array([], shape=(0, 24), dtype=float64),\n",
       " array([], shape=(0, 24), dtype=float64),\n",
       " array([], shape=(0, 24), dtype=float64),\n",
       " array([], shape=(0, 24), dtype=float64),\n",
       " array([], shape=(0, 24), dtype=float64),\n",
       " array([], shape=(0, 24), dtype=float64)]"
      ]
     },
     "execution_count": 22,
     "metadata": {},
     "output_type": "execute_result"
    }
   ],
   "source": [
    "cluster_list"
   ]
  },
  {
   "cell_type": "code",
   "execution_count": 51,
   "metadata": {
    "collapsed": false
   },
   "outputs": [
    {
     "data": {
      "text/plain": [
       "(array([[ -4.7042472 ,  -4.34894932,  -0.20919955,  -0.25611799,\n",
       "          -5.17309643],\n",
       "        [ -2.73202649,   5.53470968,   1.7782047 ,  -7.68327204,\n",
       "          -8.73247153],\n",
       "        [ -0.88275598,   7.3024134 ,   0.07248934,  -7.50886698,\n",
       "          -9.58945047],\n",
       "        [  2.2456182 ,  10.1117849 ,  -5.86100174,   7.64062692,   7.2992319 ],\n",
       "        [  2.18929653,   9.71742535,  -5.03822367,   9.46504718,\n",
       "           7.58716174],\n",
       "        [ -1.30601477,   5.27765447,   0.02787309,  -8.54852304,\n",
       "          -9.02193527],\n",
       "        [  2.74713853,  10.36112133,  -5.90702879,   8.33766806,\n",
       "           6.99334832],\n",
       "        [  2.81225039,   9.55345901,  -3.71123904,  10.05220293,\n",
       "           8.67386148],\n",
       "        [ -5.87132733,  -4.06795026,  -1.53507566,  -1.20840973,\n",
       "          -7.31105146],\n",
       "        [ -5.8932366 ,  -4.81608832,  -0.23085273,  -1.56373731,\n",
       "          -5.87521114]]), array([2, 1, 1, 0, 0, 1, 0, 0, 2, 2]))"
      ]
     },
     "execution_count": 51,
     "metadata": {},
     "output_type": "execute_result"
    }
   ],
   "source": [
    "from sklearn.datasets.samples_generator import make_blobs\n",
    "\n",
    "X, y = make_blobs(n_samples=10, centers=3, n_features=5,\n",
    "                  random_state=None)\n",
    "\n",
    "X,y"
   ]
  },
  {
   "cell_type": "code",
   "execution_count": 63,
   "metadata": {
    "collapsed": false,
    "scrolled": true
   },
   "outputs": [
    {
     "data": {
      "image/png": "[encoded data removed]",
      "text/plain": [
       "<matplotlib.figure.Figure at 0x7f0e045a1850>"
      ]
     },
     "metadata": {},
     "output_type": "display_data"
    },
    {
     "data": {
      "image/png": "[encoded data removed]",
      "text/plain": [
       "<matplotlib.figure.Figure at 0x7f0e0a8f4650>"
      ]
     },
     "metadata": {},
     "output_type": "display_data"
    },
    {
     "data": {
      "image/png": "[encoded data removed]",
      "text/plain": [
       "<matplotlib.figure.Figure at 0x7f0e04bb4d90>"
      ]
     },
     "metadata": {},
     "output_type": "display_data"
    },
    {
     "data": {
      "image/png": "[encoded data removed]",
      "text/plain": [
       "<matplotlib.figure.Figure at 0x7f0e048a3210>"
      ]
     },
     "metadata": {},
     "output_type": "display_data"
    },
    {
     "data": {
      "image/png": "[encoded data removed]",
      "text/plain": [
       "<matplotlib.figure.Figure at 0x7f0e04780890>"
      ]
     },
     "metadata": {},
     "output_type": "display_data"
    },
    {
     "data": {
      "text/plain": [
       "[(array([-4.7042472 , -4.34894932, -0.20919955, -0.25611799, -5.17309643]), 1),\n",
       " (array([-2.73202649,  5.53470968,  1.7782047 , -7.68327204, -8.73247153]), 2),\n",
       " (array([-0.88275598,  7.3024134 ,  0.07248934, -7.50886698, -9.58945047]), 2),\n",
       " (array([  2.2456182 ,  10.1117849 ,  -5.86100174,   7.64062692,   7.2992319 ]),\n",
       "  0),\n",
       " (array([ 2.18929653,  9.71742535, -5.03822367,  9.46504718,  7.58716174]), 0),\n",
       " (array([-1.30601477,  5.27765447,  0.02787309, -8.54852304, -9.02193527]), 2),\n",
       " (array([  2.74713853,  10.36112133,  -5.90702879,   8.33766806,   6.99334832]),\n",
       "  0),\n",
       " (array([  2.81225039,   9.55345901,  -3.71123904,  10.05220293,   8.67386148]),\n",
       "  0),\n",
       " (array([-5.87132733, -4.06795026, -1.53507566, -1.20840973, -7.31105146]), 1),\n",
       " (array([-5.8932366 , -4.81608832, -0.23085273, -1.56373731, -5.87521114]), 1)]"
      ]
     },
     "execution_count": 63,
     "metadata": {},
     "output_type": "execute_result"
    }
   ],
   "source": [
    "import matplotlib.pyplot as plt\n",
    "kms = KMeans(n_clusters=3, init='k-means++', n_init=10, max_iter=300, tol=0.0001, precompute_distances='auto',\n",
    "             verbose=0, random_state=None, copy_x=True)\n",
    "kms.fit(X)\n",
    "for j in range(X.shape[1]):\n",
    "    if j == 4:\n",
    "        for i in set(kms.labels_):\n",
    "            index = kms.labels_ == i\n",
    "            plt.plot(X[index,j], X[index,j-4], 'o')\n",
    "        plt.show()\n",
    "    else:\n",
    "        for i in set(kms.labels_):\n",
    "            index = kms.labels_ == i\n",
    "            plt.plot(X[index,j], X[index,j+1], 'o')\n",
    "        plt.show()\n",
    "\n",
    "zip(X, kms.labels_)"
   ]
  },
  {
   "cell_type": "code",
   "execution_count": 70,
   "metadata": {
    "collapsed": false
   },
   "outputs": [
    {
     "name": "stdout",
     "output_type": "stream",
     "text": [
      "[[ 2.49857592  9.93594765 -5.12937331  8.87388628  7.63840086]\n",
      " [-5.48960371 -4.41099596 -0.65837598 -1.00942168 -6.11978634]\n",
      " [-1.64026575  6.03825919  0.62618904 -7.91355402 -9.11461909]]\n",
      "===============================\n",
      "[[  2.2456182   10.1117849   -5.86100174   7.64062692   7.2992319 ]\n",
      " [  2.18929653   9.71742535  -5.03822367   9.46504718   7.58716174]\n",
      " [  2.74713853  10.36112133  -5.90702879   8.33766806   6.99334832]\n",
      " [  2.81225039   9.55345901  -3.71123904  10.05220293   8.67386148]]\n",
      "[ 2.49857592  9.93594765 -5.12937331  8.87388628  7.63840086]\n"
     ]
    }
   ],
   "source": [
    "# how to access a cluster\n",
    "output = kms.predict(X)\n",
    "print kms.cluster_centers_\n",
    "print '==============================='\n",
    "print X[output==0,:]\n",
    "print ClusterMerits.Baricenter(X[output==0,:])"
   ]
  },
  {
   "cell_type": "code",
   "execution_count": 11,
   "metadata": {
    "collapsed": false
   },
   "outputs": [
    {
     "name": "stdout",
     "output_type": "stream",
     "text": [
      "===================\n",
      "F_0 12.75\n",
      "===================\n",
      "6.25\n",
      "F_in + F_out 12.75\n"
     ]
    }
   ],
   "source": [
    "B = np.array([[1, 2],[3, 4]])\n",
    "C = np.array([[5, 1],[3, 2]])\n",
    "D = np.append(B,C,axis=0)\n",
    "clt = []\n",
    "clt.append(B)\n",
    "clt.append(C)\n",
    "\n",
    "print '==================='\n",
    "print 'F_0', ClusterMerits.DispTotal(D,ClusterMerits.Baricenter(D),media='')\n",
    "print '==================='\n",
    "\n",
    "F_in = ClusterMerits.DistIntraClass(clt)\n",
    "F_out = ClusterMerits.DispInterClass(clt,D)\n",
    "print F_out\n",
    "print 'F_in + F_out', F_in+F_out"
   ]
  }
 ],
 "metadata": {
  "kernelspec": {
   "display_name": "Python 2",
   "language": "python",
   "name": "python2"
  },
  "language_info": {
   "codemirror_mode": {
    "name": "ipython",
    "version": 2
   },
   "file_extension": ".py",
   "mimetype": "text/x-python",
   "name": "python",
   "nbconvert_exporter": "python",
   "pygments_lexer": "ipython2",
   "version": "2.7.12"
  }
 },
 "nbformat": 4,
 "nbformat_minor": 1
}
