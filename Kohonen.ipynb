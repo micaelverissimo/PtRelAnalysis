{
 "cells": [
  {
   "cell_type": "code",
   "execution_count": 1,
   "metadata": {
    "collapsed": true
   },
   "outputs": [],
   "source": [
    "# import data\n",
    "import numpy as np\n",
    "from numpy import linalg as LA\n",
    "from functions import ClusterMerits, AuxiliarFunctions\n",
    "\n",
    "data_path = '$HOME/MyWorskpace/DATA'\n",
    "\n"
   ]
  },
  {
   "cell_type": "code",
   "execution_count": 6,
   "metadata": {
    "collapsed": false
   },
   "outputs": [
    {
     "name": "stdout",
     "output_type": "stream",
     "text": [
      "2\n",
      "[0, 1]\n"
     ]
    },
    {
     "data": {
      "text/plain": [
       "[(array([[ 0.71643083,  0.58078827,  0.14008043,  0.96201974,  0.69464133]]),\n",
       "  0),\n",
       " (array([[ 0.00380041,  0.0964272 ,  0.8966236 ,  0.04804925,  0.94409665]]),\n",
       "  1)]"
      ]
     },
     "execution_count": 6,
     "metadata": {},
     "output_type": "execute_result"
    }
   ],
   "source": [
    "from sklearn.datasets.samples_generator import make_blobs\n",
    "\n",
    "X, y = make_blobs(n_samples=100, centers=2, n_features=5,\n",
    "                  random_state=None)\n",
    "\n",
    "X[y==0,:].shape\n",
    "\n",
    "how_many_clusters = max(y) + 1\n",
    "\n",
    "#w = np.random.rand(X.shape[0],X.shape[1])\n",
    "\n",
    "#list_sinapses = []\n",
    "#for i in range(how_many_clusters):\n",
    "#    w_i = np.random.rand(X.shape[0],X.shape[1])\n",
    "#    list_sinapses.append(w_i)\n",
    "    \n",
    "\n",
    "def list_of_sinapses(qtd_cluster,features):\n",
    "    all_sinapses = []\n",
    "    for i in range(qtd_cluster):\n",
    "        w_i = np.random.rand(1,features)\n",
    "        all_sinapses.append(w_i)\n",
    "    return all_sinapses\n",
    "\n",
    "\n",
    "all_sinapses = list_of_sinapses(how_many_clusters,X.shape[1])\n",
    "print how_many_clusters\n",
    "#print w.shape\n",
    "print range(how_many_clusters)\n",
    "\n",
    "d = zip(all_sinapses,range(how_many_clusters))\n",
    "d"
   ]
  },
  {
   "cell_type": "code",
   "execution_count": 18,
   "metadata": {
    "collapsed": false
   },
   "outputs": [
    {
     "name": "stdout",
     "output_type": "stream",
     "text": [
      "esta na classe 2 11.0389997622\n",
      "esta na classe 2 11.5191618061\n",
      "está na classe 1 13.0110946322\n",
      "está na classe 1 13.1262472889\n",
      "está na classe 1 11.78889592\n",
      "está na classe 1 11.1989532237\n",
      "esta na classe 2 9.64528649989\n",
      "está na classe 1 12.893693345\n",
      "esta na classe 2 10.1354838441\n",
      "está na classe 1 11.9090186011\n",
      "está na classe 1 12.8724261468\n",
      "está na classe 1 12.1363919501\n",
      "esta na classe 2 10.0661825262\n",
      "esta na classe 2 10.3377200611\n",
      "esta na classe 2 10.3359275331\n",
      "está na classe 1 11.2150860153\n",
      "esta na classe 2 10.3784972187\n",
      "está na classe 1 12.4503636383\n",
      "esta na classe 2 10.118367522\n",
      "está na classe 1 10.9502605173\n",
      "está na classe 1 13.9927571984\n",
      "esta na classe 2 12.9797903367\n",
      "esta na classe 2 12.5787499427\n",
      "esta na classe 2 12.4920468095\n",
      "está na classe 1 12.4342935557\n",
      "está na classe 1 12.4180398139\n",
      "está na classe 1 12.9079067813\n",
      "está na classe 1 11.9272783831\n",
      "esta na classe 2 11.5045244328\n",
      "esta na classe 2 10.3777836236\n",
      "está na classe 1 12.3110909568\n",
      "esta na classe 2 10.1846039516\n",
      "está na classe 1 11.6426537513\n",
      "esta na classe 2 9.38911935098\n",
      "esta na classe 2 9.68092380313\n",
      "esta na classe 2 9.29530278375\n",
      "está na classe 1 12.2978019617\n",
      "esta na classe 2 10.2905846038\n",
      "está na classe 1 13.474541158\n",
      "está na classe 1 12.0257042271\n",
      "está na classe 1 13.4658132369\n",
      "está na classe 1 13.9930949976\n",
      "esta na classe 2 10.6203480043\n",
      "esta na classe 2 10.2097273686\n",
      "esta na classe 2 9.81419802904\n",
      "está na classe 1 11.3860863834\n",
      "está na classe 1 9.62675881965\n",
      "está na classe 1 12.2720783063\n",
      "esta na classe 2 11.5955524504\n",
      "está na classe 1 12.363076216\n",
      "esta na classe 2 11.5523498503\n",
      "está na classe 1 13.0019302801\n",
      "está na classe 1 13.401671934\n",
      "esta na classe 2 11.3889097322\n",
      "esta na classe 2 11.6023723182\n",
      "esta na classe 2 8.59306018328\n",
      "esta na classe 2 10.9894708054\n",
      "esta na classe 2 10.7256190002\n",
      "esta na classe 2 12.0177718733\n",
      "esta na classe 2 11.0750204481\n",
      "está na classe 1 12.1435808966\n",
      "está na classe 1 11.80954088\n",
      "está na classe 1 13.0192098374\n",
      "está na classe 1 12.4033307256\n",
      "está na classe 1 12.7582692245\n",
      "esta na classe 2 9.65602767358\n",
      "está na classe 1 12.6491752426\n",
      "esta na classe 2 10.3711205927\n",
      "esta na classe 2 11.5599873773\n",
      "esta na classe 2 10.0888637699\n",
      "esta na classe 2 9.37818898058\n",
      "esta na classe 2 9.38609913822\n",
      "está na classe 1 13.3789702668\n",
      "está na classe 1 12.7291601666\n",
      "esta na classe 2 10.3895468556\n",
      "está na classe 1 11.2279606338\n",
      "está na classe 1 11.1579892574\n",
      "esta na classe 2 11.0545317936\n",
      "está na classe 1 13.0823955632\n",
      "esta na classe 2 9.92961528264\n",
      "está na classe 1 12.6681331217\n",
      "está na classe 1 11.8998735695\n",
      "está na classe 1 12.4450172886\n",
      "está na classe 1 14.078260945\n",
      "está na classe 1 14.2846569867\n",
      "esta na classe 2 11.5948778678\n",
      "está na classe 1 12.2843181067\n",
      "está na classe 1 12.9291438603\n",
      "esta na classe 2 12.6392267678\n",
      "esta na classe 2 10.7064826628\n",
      "esta na classe 2 11.3722053362\n",
      "está na classe 1 12.2574031951\n",
      "está na classe 1 12.568577753\n",
      "está na classe 1 12.5804961542\n",
      "está na classe 1 11.5897733864\n",
      "esta na classe 2 9.77592385398\n",
      "esta na classe 2 11.4471345043\n",
      "esta na classe 2 11.708845244\n",
      "esta na classe 2 12.4591331561\n",
      "esta na classe 2 11.0242347791\n"
     ]
    }
   ],
   "source": [
    "dist_1 = LA.norm((X[0]-all_sinapses[0]),ord=2)\n",
    "dist_2 = LA.norm((X[0]-all_sinapses[1]),ord=2)\n",
    "#print dist_1\n",
    "#print dist_2\n",
    "\n",
    "for i in range(X.shape[0]):\n",
    "    dist_1 = LA.norm((X[i]-all_sinapses[0]),ord=2)\n",
    "    dist_2 = LA.norm((X[i]-all_sinapses[1]),ord=2)\n",
    "    if dist_1<dist_2:\n",
    "        print 'está na classe 1', dist_1\n",
    "        #if i==0:\n",
    "        #    classe_1 = X[i]\n",
    "        #else:\n",
    "        #    classe_1 = np.append(classe_1,X[i],axis=0)\n",
    "    else:\n",
    "        print 'esta na classe 2', dist_2\n",
    "        #if i==0:\n",
    "        #    classe_2 = X[i]\n",
    "        #else:\n",
    "        #    classe_2 = np.append(classe_2,X[i],axis=0)"
   ]
  },
  {
   "cell_type": "code",
   "execution_count": 16,
   "metadata": {
    "collapsed": false
   },
   "outputs": [
    {
     "name": "stdout",
     "output_type": "stream",
     "text": [
      "Processing: Fold 1 of 2 Init 1 of 2\n",
      "Processing: Fold 1 of 2 Init 2 of 2\n",
      "Processing: Fold 2 of 2 Init 1 of 2\n",
      "Processing: Fold 2 of 2 Init 2 of 2\n",
      "[0, 1]\n"
     ]
    }
   ],
   "source": [
    "from sklearn import cross_validation\n",
    "\n",
    "learning_ratio = 0.1\n",
    "similarity_radius = 0.1\n",
    "n_folds = 2\n",
    "n_inits = 2\n",
    "n_interac = 10\n",
    "\n",
    "from sklearn.svm import SVC\n",
    "from sklearn import cross_validation\n",
    "\n",
    "n_folds = 2\n",
    "n_inits = 2\n",
    "\n",
    "CVO = cross_validation.StratifiedKFold(y,n_folds)\n",
    "CVO = list(CVO)\n",
    "\n",
    "# clusters index\n",
    "n_neurons = range(max(y)+1)\n",
    "\n",
    "for ifold in range(n_folds):\n",
    "    train_id, test_id = CVO[ifold]\n",
    "    \n",
    "    for i_init in range(n_inits):\n",
    "        print ('Processing: Fold %i of %i Init %i of %i'%(\n",
    "                ifold+1, n_folds, \n",
    "                i_init+1, n_inits))\n",
    "        \n",
    "        \n",
    "\n",
    "\n"
   ]
  }
 ],
 "metadata": {
  "kernelspec": {
   "display_name": "Python 2",
   "language": "python",
   "name": "python2"
  },
  "language_info": {
   "codemirror_mode": {
    "name": "ipython",
    "version": 2
   },
   "file_extension": ".py",
   "mimetype": "text/x-python",
   "name": "python",
   "nbconvert_exporter": "python",
   "pygments_lexer": "ipython2",
   "version": "2.7.12"
  }
 },
 "nbformat": 4,
 "nbformat_minor": 1
}
