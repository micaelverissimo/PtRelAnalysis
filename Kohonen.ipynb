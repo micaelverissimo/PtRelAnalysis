{
 "cells": [
  {
   "cell_type": "code",
   "execution_count": 3,
   "metadata": {
    "collapsed": true
   },
   "outputs": [],
   "source": [
    "# import data\n",
    "import numpy as np\n",
    "from numpy import linalg as LA\n",
    "from functions import ClusterMerits, AuxiliarFunctions\n",
    "\n",
    "data_path = '$HOME/MyWorskpace/DATA'\n",
    "\n"
   ]
  },
  {
   "cell_type": "code",
   "execution_count": 18,
   "metadata": {
    "collapsed": false
   },
   "outputs": [
    {
     "data": {
      "text/plain": [
       "(50, 5)"
      ]
     },
     "execution_count": 18,
     "metadata": {},
     "output_type": "execute_result"
    }
   ],
   "source": [
    "from sklearn.datasets.samples_generator import make_blobs\n",
    "\n",
    "X, y = make_blobs(n_samples=100, centers=2, n_features=5,\n",
    "                  random_state=None)\n",
    "\n",
    "X[y==0,:].shape"
   ]
  },
  {
   "cell_type": "code",
   "execution_count": 16,
   "metadata": {
    "collapsed": false
   },
   "outputs": [
    {
     "name": "stdout",
     "output_type": "stream",
     "text": [
      "Processing: Fold 1 of 2 Init 1 of 2\n",
      "Processing: Fold 1 of 2 Init 2 of 2\n",
      "Processing: Fold 2 of 2 Init 1 of 2\n",
      "Processing: Fold 2 of 2 Init 2 of 2\n",
      "[0, 1]\n"
     ]
    }
   ],
   "source": [
    "from sklearn import cross_validation\n",
    "\n",
    "learning_ratio = 0.1\n",
    "similarity_radius = 0.1\n",
    "n_folds = 2\n",
    "n_inits = 2\n",
    "\n",
    "\n",
    "from sklearn.svm import SVC\n",
    "from sklearn import cross_validation\n",
    "\n",
    "n_folds = 2\n",
    "n_inits = 2\n",
    "\n",
    "CVO = cross_validation.StratifiedKFold(y,n_folds)\n",
    "CVO = list(CVO)\n",
    "\n",
    "# clusters index\n",
    "n_neurons = range(max(y)+1)\n",
    "\n",
    "for ifold in range(n_folds):\n",
    "    train_id, test_id = CVO[ifold]\n",
    "    \n",
    "    for i_init in range(n_inits):\n",
    "        print ('Processing: Fold %i of %i Init %i of %i'%(\n",
    "                ifold+1, n_folds, \n",
    "                i_init+1, n_inits))\n",
    "        \n",
    "        \n",
    "\n",
    "\n"
   ]
  }
 ],
 "metadata": {
  "kernelspec": {
   "display_name": "Python 2",
   "language": "python",
   "name": "python2"
  },
  "language_info": {
   "codemirror_mode": {
    "name": "ipython",
    "version": 2
   },
   "file_extension": ".py",
   "mimetype": "text/x-python",
   "name": "python",
   "nbconvert_exporter": "python",
   "pygments_lexer": "ipython2",
   "version": "2.7.12"
  }
 },
 "nbformat": 4,
 "nbformat_minor": 1
}
